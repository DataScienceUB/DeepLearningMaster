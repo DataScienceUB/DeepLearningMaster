{
  "nbformat": 4,
  "nbformat_minor": 0,
  "metadata": {
    "colab": {
      "name": "11. Non supervised learning I.ipynb",
      "version": "0.3.2",
      "views": {},
      "default_view": {},
      "provenance": [],
      "collapsed_sections": []
    },
    "kernelspec": {
      "display_name": "Python 3",
      "language": "python",
      "name": "python3"
    },
    "accelerator": "GPU"
  },
  "cells": [
    {
      "metadata": {
        "id": "bPkGOYbK8hoh",
        "colab_type": "text"
      },
      "cell_type": "markdown",
      "source": [
        "# Non supervised learning\n",
        "\n",
        "> Reminder: *In general Learning from Data is a scientific discipline that is concerned with the design and development of algorithms that allow computers to infer (from data) a model that allows compact representation (unsupervised learning) and/or good generalization (supervised learning).*\n",
        "\n",
        "## Autoencoders\n",
        "\n",
        "Suppose we have only a set of unlabeled training examples $x_1,x_2,x_3, \\dots $, where $x_i \\in \\mathbb{R}^n$. \n",
        "\n",
        "An autoencoder neural network is an *unsupervised learning* algorithm that applies backpropagation and uses a loss function that is optimal when setting the target values to be equal to the inputs, $y_i=x_i$.\n",
        "\n",
        "Specifically, we'll design a neural network architecture such that we impose a bottleneck in the network which forces a compressed knowledge representation of the original input. \n",
        "\n",
        "To build an autoencoder, you need three things: an **encoding function**, a **decoding function**, and a **distance function** to measure the amount of information loss between your data and the decompressed representation.\n",
        "\n",
        "<center>\n",
        "<img src=\"images/autoencoder.jpg\" alt=\"\" style=\"width: 700px;\"/>\n",
        "Source: https://blog.keras.io/building-autoencoders-in-keras.html\n",
        "</center>\n",
        "\n",
        "The ideal autoencoder model balances the following:\n",
        "\n",
        "+ Sensitive to the inputs enough to accurately build a reconstruction.\n",
        "+ Insensitive enough to the inputs that the model doesn't simply memorize or overfit the training data.\n",
        "\n",
        "Two practical applications of autoencoders are **data denoising**, and **dimensionality reduction** for data visualization. \n",
        "\n",
        "With appropriate dimensionality and sparsity constraints, autoencoders can learn data projections that are more interesting than PCA or other linear techniques.\n",
        "\n",
        "We'll start simple, with a single fully-connected neural layer as encoder and as decoder:"
      ]
    },
    {
      "metadata": {
        "id": "fMIfNQNu8hok",
        "colab_type": "code",
        "colab": {
          "autoexec": {
            "startup": false,
            "wait_interval": 0
          },
          "base_uri": "https://localhost:8080/",
          "height": 35
        },
        "outputId": "8c7cddde-3ef5-4e84-8fa5-438504d79c94",
        "executionInfo": {
          "status": "ok",
          "timestamp": 1526289568112,
          "user_tz": -120,
          "elapsed": 8154,
          "user": {
            "displayName": "Jordi Vitrià",
            "photoUrl": "//lh6.googleusercontent.com/-Gjm4qgDBAbI/AAAAAAAAAAI/AAAAAAAAMMU/-Sb9eg_mX-I/s50-c-k-no/photo.jpg",
            "userId": "109730415698462856688"
          }
        }
      },
      "cell_type": "code",
      "source": [
        "# Source: Adapted from https://blog.keras.io/building-autoencoders-in-keras.html\n",
        "\n",
        "from keras.layers import Input, Dense\n",
        "from keras.models import Model\n",
        "\n",
        "# this is the size of our encoded representations       \n",
        "encoding_dim = 32  # 32 floats -> compression of factor 24.5, \n",
        "                   # assuming the input is 784 floats\n",
        "\n",
        "input_img = Input(shape=(784,))\n",
        "\n",
        "# encoded representation of the input\n",
        "encoding_layer = Dense(encoding_dim, \n",
        "                       activation='relu')\n",
        "encoded = encoding_layer(input_img)\n",
        "\n",
        "# lossy reconstruction of the input\n",
        "decoding_layer = Dense(784, \n",
        "                       activation='sigmoid')\n",
        "decoded = decoding_layer(encoded)\n",
        "\n",
        "# this model maps an input to its reconstruction\n",
        "autoencoder = Model(input_img, decoded)"
      ],
      "execution_count": 1,
      "outputs": [
        {
          "output_type": "stream",
          "text": [
            "Using TensorFlow backend.\n"
          ],
          "name": "stderr"
        }
      ]
    },
    {
      "metadata": {
        "id": "mBXCAgAr8hom",
        "colab_type": "text"
      },
      "cell_type": "markdown",
      "source": [
        "Let's also create a separate encoder model and a separate decoder model:"
      ]
    },
    {
      "metadata": {
        "id": "rtBE-f-58hoo",
        "colab_type": "code",
        "colab": {
          "autoexec": {
            "startup": false,
            "wait_interval": 0
          }
        }
      },
      "cell_type": "code",
      "source": [
        "# this model maps an input to its encoded representation\n",
        "encoding_model = Model(input_img, encoded)\n",
        "\n",
        "# create a placeholder for an encoded input\n",
        "# and create the decoder model\n",
        "encoded_input = Input(shape=(encoding_dim,))\n",
        "decoding_model = Model(encoded_input, decoding_layer(encoded_input))\n",
        "\n",
        "autoencoder.compile(optimizer='adam', loss='mse')"
      ],
      "execution_count": 0,
      "outputs": []
    },
    {
      "metadata": {
        "id": "S3yWCITp8hor",
        "colab_type": "text"
      },
      "cell_type": "markdown",
      "source": [
        "Let's prepare our input data. "
      ]
    },
    {
      "metadata": {
        "id": "xX7q-eHW8hos",
        "colab_type": "code",
        "colab": {
          "autoexec": {
            "startup": false,
            "wait_interval": 0
          },
          "base_uri": "https://localhost:8080/",
          "height": 659
        },
        "outputId": "c8549bce-497e-4bcf-9510-9ae6913cec99",
        "executionInfo": {
          "status": "ok",
          "timestamp": 1526289601475,
          "user_tz": -120,
          "elapsed": 26614,
          "user": {
            "displayName": "Jordi Vitrià",
            "photoUrl": "//lh6.googleusercontent.com/-Gjm4qgDBAbI/AAAAAAAAAAI/AAAAAAAAMMU/-Sb9eg_mX-I/s50-c-k-no/photo.jpg",
            "userId": "109730415698462856688"
          }
        }
      },
      "cell_type": "code",
      "source": [
        "from keras.datasets import mnist\n",
        "import numpy as np\n",
        "(x_train, _), (x_test, _) = mnist.load_data()\n",
        "\n",
        "x_train = x_train.astype('float32') / 255.\n",
        "x_test = x_test.astype('float32') / 255.\n",
        "x_train = x_train.reshape((len(x_train), np.prod(x_train.shape[1:])))\n",
        "x_test = x_test.reshape((len(x_test), np.prod(x_test.shape[1:])))\n",
        "print(x_train.shape)\n",
        "print(x_test.shape)\n",
        "\n",
        "autoencoder.fit(x_train, \n",
        "                x_train,\n",
        "                epochs=15,\n",
        "                batch_size=256,\n",
        "                shuffle=True,\n",
        "                validation_data=(x_test, x_test))"
      ],
      "execution_count": 3,
      "outputs": [
        {
          "output_type": "stream",
          "text": [
            "Downloading data from https://s3.amazonaws.com/img-datasets/mnist.npz\n",
            "11493376/11490434 [==============================] - 3s 0us/step\n",
            "(60000, 784)\n",
            "(10000, 784)\n",
            "Train on 60000 samples, validate on 10000 samples\n",
            "Epoch 1/15\n",
            "60000/60000 [==============================] - 2s 39us/step - loss: 0.0706 - val_loss: 0.0414\n",
            "Epoch 2/15\n",
            "60000/60000 [==============================] - 1s 24us/step - loss: 0.0350 - val_loss: 0.0293\n",
            "Epoch 3/15\n",
            "60000/60000 [==============================] - 1s 24us/step - loss: 0.0264 - val_loss: 0.0232\n",
            "Epoch 4/15\n",
            "60000/60000 [==============================] - 1s 23us/step - loss: 0.0217 - val_loss: 0.0195\n",
            "Epoch 5/15\n",
            "60000/60000 [==============================] - 1s 23us/step - loss: 0.0185 - val_loss: 0.0168\n",
            "Epoch 6/15\n",
            "60000/60000 [==============================] - 1s 23us/step - loss: 0.0162 - val_loss: 0.0149\n",
            "Epoch 7/15\n",
            "14848/60000 [======>.......................] - ETA: 0s - loss: 0.0151"
          ],
          "name": "stdout"
        },
        {
          "output_type": "stream",
          "text": [
            "60000/60000 [==============================] - 1s 23us/step - loss: 0.0145 - val_loss: 0.0135\n",
            "Epoch 8/15\n",
            "60000/60000 [==============================] - 1s 23us/step - loss: 0.0133 - val_loss: 0.0126\n",
            "Epoch 9/15\n",
            "60000/60000 [==============================] - 1s 23us/step - loss: 0.0124 - val_loss: 0.0117\n",
            "Epoch 10/15\n",
            "60000/60000 [==============================] - 1s 23us/step - loss: 0.0118 - val_loss: 0.0112\n",
            "Epoch 11/15\n",
            "60000/60000 [==============================] - 1s 23us/step - loss: 0.0114 - val_loss: 0.0108\n",
            "Epoch 12/15\n",
            "60000/60000 [==============================] - 1s 23us/step - loss: 0.0111 - val_loss: 0.0106\n",
            "Epoch 13/15\n",
            "60000/60000 [==============================] - 1s 24us/step - loss: 0.0109 - val_loss: 0.0104\n",
            "Epoch 14/15\n",
            "60000/60000 [==============================] - 1s 23us/step - loss: 0.0108 - val_loss: 0.0103\n",
            "Epoch 15/15\n",
            "19968/60000 [========>.....................] - ETA: 0s - loss: 0.0107"
          ],
          "name": "stdout"
        },
        {
          "output_type": "stream",
          "text": [
            "60000/60000 [==============================] - 1s 23us/step - loss: 0.0107 - val_loss: 0.0103\n"
          ],
          "name": "stdout"
        },
        {
          "output_type": "execute_result",
          "data": {
            "text/plain": [
              "<keras.callbacks.History at 0x7fa72a53e860>"
            ]
          },
          "metadata": {
            "tags": []
          },
          "execution_count": 3
        }
      ]
    },
    {
      "metadata": {
        "id": "WKU0Sz-m8how",
        "colab_type": "code",
        "colab": {
          "autoexec": {
            "startup": false,
            "wait_interval": 0
          },
          "base_uri": "https://localhost:8080/",
          "height": 197
        },
        "outputId": "142e970b-ee75-4f52-c8b5-a4fc72b9c7f3",
        "executionInfo": {
          "status": "ok",
          "timestamp": 1526289607298,
          "user_tz": -120,
          "elapsed": 3121,
          "user": {
            "displayName": "Jordi Vitrià",
            "photoUrl": "//lh6.googleusercontent.com/-Gjm4qgDBAbI/AAAAAAAAAAI/AAAAAAAAMMU/-Sb9eg_mX-I/s50-c-k-no/photo.jpg",
            "userId": "109730415698462856688"
          }
        }
      },
      "cell_type": "code",
      "source": [
        "# encode and decode some digits\n",
        "# note that we take them from the *test* set\n",
        "encoded_imgs = encoding_model.predict(x_test)\n",
        "decoded_imgs = decoding_model.predict(encoded_imgs)\n",
        "\n",
        "import matplotlib.pyplot as plt\n",
        "%matplotlib inline\n",
        "\n",
        "n = 10  # how many digits we will display\n",
        "plt.figure(figsize=(10, 4))\n",
        "for i in range(n):\n",
        "    # display original\n",
        "    ax = plt.subplot(2, n, i + 1)\n",
        "    plt.imshow(x_test[i].reshape(28, 28))\n",
        "    plt.gray()\n",
        "    ax.get_xaxis().set_visible(False)\n",
        "    ax.get_yaxis().set_visible(False)\n",
        "\n",
        "    # display reconstruction\n",
        "    ax = plt.subplot(2, n, i + 1 + n)\n",
        "    plt.imshow(decoded_imgs[i].reshape(28, 28))\n",
        "    plt.gray()\n",
        "    ax.get_xaxis().set_visible(False)\n",
        "    ax.get_yaxis().set_visible(False)\n",
        "plt.show()"
      ],
      "execution_count": 4,
      "outputs": [
        {
          "output_type": "display_data",
          "data": {
            "image/png": "[encoded data removed]",
            "text/plain": [
              "<matplotlib.figure.Figure at 0x7fa77d2a2f60>"
            ]
          },
          "metadata": {
            "tags": []
          }
        }
      ]
    },
    {
      "metadata": {
        "id": "OI8ByJ0w8hoz",
        "colab_type": "text"
      },
      "cell_type": "markdown",
      "source": [
        "### Adding depth and sparsity constraint on the encoded representations\n",
        "\n",
        "In the previous example, the representations were only constrained by the size of the hidden layer (32 neurons). In such a situation, what typically happens is that the hidden layer is learning an approximation of PCA (principal component analysis). \n",
        "\n",
        "Another way to constrain the representations to be compact is to add a **sparsity contraint** on the activity of the hidden representations, so fewer units would \"fire\" at a given time. \n",
        "\n",
        "For any given observation, we'll encourage our network to learn an encoding and decoding which only relies on activating a small number of neurons. It's worth noting that this is a different approach towards regularization, as we normally regularize the weights of a network, not the activations.\n",
        "\n",
        "In Keras, this can be done by adding an ``activity_regularizer`` to our Dense layer:"
      ]
    },
    {
      "metadata": {
        "id": "7usvuZHA8ho0",
        "colab_type": "code",
        "colab": {
          "autoexec": {
            "startup": false,
            "wait_interval": 0
          },
          "base_uri": "https://localhost:8080/",
          "height": 3526
        },
        "outputId": "74af39da-f28c-4329-83f7-e745c862e6a4",
        "executionInfo": {
          "status": "ok",
          "timestamp": 1526289854333,
          "user_tz": -120,
          "elapsed": 244582,
          "user": {
            "displayName": "Jordi Vitrià",
            "photoUrl": "//lh6.googleusercontent.com/-Gjm4qgDBAbI/AAAAAAAAAAI/AAAAAAAAMMU/-Sb9eg_mX-I/s50-c-k-no/photo.jpg",
            "userId": "109730415698462856688"
          }
        }
      },
      "cell_type": "code",
      "source": [
        "#autoencoder.reset_states()\n",
        "#encoder.reset_states()\n",
        "#decoder.reset_states()\n",
        "\n",
        "from keras import regularizers\n",
        "from keras import optimizers\n",
        "from keras.regularizers import l2, l1\n",
        "from keras.layers import Input, Dense\n",
        "from keras.models import Model\n",
        "\n",
        "input_img = Input(shape=(784,))\n",
        "encoded = Dense(128, activation='relu')(input_img)\n",
        "encoded = Dense(64, activation='relu')(encoded)\n",
        "encoded = Dense(32, activation='relu',activity_regularizer=l1(10e-5))(encoded)\n",
        "decoded = Dense(64, activation='relu')(encoded)\n",
        "decoded = Dense(128, activation='relu')(decoded)\n",
        "decoded = Dense(784, activation='sigmoid')(decoded)\n",
        "\n",
        "autoencoder = Model(input_img, decoded)\n",
        "\n",
        "autoencoder.compile(optimizer='adadelta', \n",
        "                    loss='binary_crossentropy',\n",
        "                    )\n",
        "\n",
        "autoencoder.fit(x_train, x_train,\n",
        "                epochs=100,\n",
        "                batch_size=256,\n",
        "                shuffle=True,\n",
        "                validation_data=(x_test, x_test))"
      ],
      "execution_count": 5,
      "outputs": [
        {
          "output_type": "stream",
          "text": [
            "Train on 60000 samples, validate on 10000 samples\n",
            "Epoch 1/100\n",
            "60000/60000 [==============================] - 3s 45us/step - loss: 0.5734 - val_loss: 0.2777\n",
            "Epoch 2/100\n",
            "60000/60000 [==============================] - 2s 41us/step - loss: 0.2666 - val_loss: 0.2637\n",
            "Epoch 3/100\n",
            "60000/60000 [==============================] - 2s 41us/step - loss: 0.2636 - val_loss: 0.2631\n",
            "Epoch 4/100\n",
            "60000/60000 [==============================] - 2s 41us/step - loss: 0.2632 - val_loss: 0.2629\n",
            "Epoch 5/100\n",
            "60000/60000 [==============================] - 2s 41us/step - loss: 0.2631 - val_loss: 0.2627\n",
            "Epoch 6/100\n",
            "50688/60000 [========================>.....] - ETA: 0s - loss: 0.2629"
          ],
          "name": "stdout"
        },
        {
          "output_type": "stream",
          "text": [
            "60000/60000 [==============================] - 2s 41us/step - loss: 0.2630 - val_loss: 0.2627\n",
            "Epoch 7/100\n",
            "60000/60000 [==============================] - 2s 40us/step - loss: 0.2630 - val_loss: 0.2627\n",
            "Epoch 8/100\n",
            "60000/60000 [==============================] - 2s 41us/step - loss: 0.2630 - val_loss: 0.2627\n",
            "Epoch 9/100\n",
            "60000/60000 [==============================] - 2s 40us/step - loss: 0.2629 - val_loss: 0.2627\n",
            "Epoch 10/100\n",
            "60000/60000 [==============================] - 2s 41us/step - loss: 0.2629 - val_loss: 0.2626\n",
            "Epoch 11/100\n",
            "60000/60000 [==============================] - 2s 41us/step - loss: 0.2629 - val_loss: 0.2627\n",
            "Epoch 12/100\n",
            "31232/60000 [==============>...............] - ETA: 1s - loss: 0.2626"
          ],
          "name": "stdout"
        },
        {
          "output_type": "stream",
          "text": [
            "60000/60000 [==============================] - 2s 40us/step - loss: 0.2629 - val_loss: 0.2627\n",
            "Epoch 13/100\n",
            "60000/60000 [==============================] - 2s 40us/step - loss: 0.2629 - val_loss: 0.2627\n",
            "Epoch 14/100\n",
            "60000/60000 [==============================] - 2s 40us/step - loss: 0.2629 - val_loss: 0.2627\n",
            "Epoch 15/100\n",
            "60000/60000 [==============================] - 2s 40us/step - loss: 0.2629 - val_loss: 0.2627\n",
            "Epoch 16/100\n",
            "60000/60000 [==============================] - 2s 40us/step - loss: 0.2629 - val_loss: 0.2627\n",
            "Epoch 17/100\n",
            "60000/60000 [==============================] - 2s 40us/step - loss: 0.2629 - val_loss: 0.2626\n",
            "Epoch 18/100\n",
            "30208/60000 [==============>...............] - ETA: 1s - loss: 0.2626"
          ],
          "name": "stdout"
        },
        {
          "output_type": "stream",
          "text": [
            "60000/60000 [==============================] - 2s 40us/step - loss: 0.2629 - val_loss: 0.2626\n",
            "Epoch 19/100\n",
            "60000/60000 [==============================] - 2s 41us/step - loss: 0.2629 - val_loss: 0.2626\n",
            "Epoch 20/100\n",
            "60000/60000 [==============================] - 2s 41us/step - loss: 0.2629 - val_loss: 0.2626\n",
            "Epoch 21/100\n",
            "60000/60000 [==============================] - 2s 41us/step - loss: 0.2629 - val_loss: 0.2627\n",
            "Epoch 22/100\n",
            "60000/60000 [==============================] - 2s 40us/step - loss: 0.2629 - val_loss: 0.2626\n",
            "Epoch 23/100\n",
            "60000/60000 [==============================] - 2s 41us/step - loss: 0.2629 - val_loss: 0.2626\n",
            "Epoch 24/100\n",
            "26624/60000 [============>.................] - ETA: 1s - loss: 0.2628"
          ],
          "name": "stdout"
        },
        {
          "output_type": "stream",
          "text": [
            "60000/60000 [==============================] - 2s 41us/step - loss: 0.2629 - val_loss: 0.2626\n",
            "Epoch 25/100\n",
            "60000/60000 [==============================] - 2s 40us/step - loss: 0.2629 - val_loss: 0.2626\n",
            "Epoch 26/100\n",
            "60000/60000 [==============================] - 2s 40us/step - loss: 0.2629 - val_loss: 0.2625\n",
            "Epoch 27/100\n",
            "60000/60000 [==============================] - 2s 41us/step - loss: 0.2629 - val_loss: 0.2625\n",
            "Epoch 28/100\n",
            "60000/60000 [==============================] - 2s 40us/step - loss: 0.2629 - val_loss: 0.2626\n",
            "Epoch 29/100\n",
            "60000/60000 [==============================] - 2s 41us/step - loss: 0.2629 - val_loss: 0.2626\n",
            "Epoch 30/100\n",
            "30208/60000 [==============>...............] - ETA: 1s - loss: 0.2626"
          ],
          "name": "stdout"
        },
        {
          "output_type": "stream",
          "text": [
            "60000/60000 [==============================] - 2s 40us/step - loss: 0.2629 - val_loss: 0.2627\n",
            "Epoch 31/100\n",
            "60000/60000 [==============================] - 2s 41us/step - loss: 0.2629 - val_loss: 0.2625\n",
            "Epoch 32/100\n",
            "60000/60000 [==============================] - 2s 40us/step - loss: 0.2629 - val_loss: 0.2626\n",
            "Epoch 33/100\n",
            "60000/60000 [==============================] - 2s 40us/step - loss: 0.2629 - val_loss: 0.2626\n",
            "Epoch 34/100\n",
            "60000/60000 [==============================] - 2s 41us/step - loss: 0.2629 - val_loss: 0.2626\n",
            "Epoch 35/100\n",
            "60000/60000 [==============================] - 2s 41us/step - loss: 0.2629 - val_loss: 0.2625\n",
            "Epoch 36/100\n",
            "28160/60000 [=============>................] - ETA: 1s - loss: 0.2631"
          ],
          "name": "stdout"
        },
        {
          "output_type": "stream",
          "text": [
            "60000/60000 [==============================] - 2s 40us/step - loss: 0.2629 - val_loss: 0.2627\n",
            "Epoch 37/100\n",
            "60000/60000 [==============================] - 2s 40us/step - loss: 0.2629 - val_loss: 0.2626\n",
            "Epoch 38/100\n",
            "60000/60000 [==============================] - 2s 41us/step - loss: 0.2629 - val_loss: 0.2627\n",
            "Epoch 39/100\n",
            "60000/60000 [==============================] - 2s 41us/step - loss: 0.2629 - val_loss: 0.2626\n",
            "Epoch 40/100\n",
            "60000/60000 [==============================] - 2s 40us/step - loss: 0.2629 - val_loss: 0.2626\n",
            "Epoch 41/100\n",
            "60000/60000 [==============================] - 2s 40us/step - loss: 0.2629 - val_loss: 0.2626\n",
            "Epoch 42/100\n",
            "28928/60000 [=============>................] - ETA: 1s - loss: 0.2628"
          ],
          "name": "stdout"
        },
        {
          "output_type": "stream",
          "text": [
            "60000/60000 [==============================] - 2s 40us/step - loss: 0.2629 - val_loss: 0.2625\n",
            "Epoch 43/100\n",
            "60000/60000 [==============================] - 2s 41us/step - loss: 0.2629 - val_loss: 0.2626\n",
            "Epoch 44/100\n",
            "60000/60000 [==============================] - 2s 41us/step - loss: 0.2629 - val_loss: 0.2626\n",
            "Epoch 45/100\n",
            "60000/60000 [==============================] - 2s 41us/step - loss: 0.2629 - val_loss: 0.2626\n",
            "Epoch 46/100\n",
            "60000/60000 [==============================] - 2s 40us/step - loss: 0.2629 - val_loss: 0.2625\n",
            "Epoch 47/100\n",
            "60000/60000 [==============================] - 2s 37us/step - loss: 0.2629 - val_loss: 0.2625\n",
            "Epoch 48/100\n",
            "29952/60000 [=============>................] - ETA: 1s - loss: 0.2630"
          ],
          "name": "stdout"
        },
        {
          "output_type": "stream",
          "text": [
            "60000/60000 [==============================] - 2s 40us/step - loss: 0.2629 - val_loss: 0.2626\n",
            "Epoch 49/100\n",
            "60000/60000 [==============================] - 2s 40us/step - loss: 0.2629 - val_loss: 0.2625\n",
            "Epoch 50/100\n",
            "60000/60000 [==============================] - 2s 40us/step - loss: 0.2629 - val_loss: 0.2626\n",
            "Epoch 51/100\n",
            "60000/60000 [==============================] - 2s 41us/step - loss: 0.2629 - val_loss: 0.2626\n",
            "Epoch 52/100\n",
            "60000/60000 [==============================] - 2s 41us/step - loss: 0.2629 - val_loss: 0.2627\n",
            "Epoch 53/100\n",
            "60000/60000 [==============================] - 2s 41us/step - loss: 0.2629 - val_loss: 0.2626\n",
            "Epoch 54/100\n",
            "25856/60000 [===========>..................] - ETA: 1s - loss: 0.2631"
          ],
          "name": "stdout"
        },
        {
          "output_type": "stream",
          "text": [
            "60000/60000 [==============================] - 2s 40us/step - loss: 0.2629 - val_loss: 0.2625\n",
            "Epoch 55/100\n",
            "60000/60000 [==============================] - 2s 41us/step - loss: 0.2629 - val_loss: 0.2626\n",
            "Epoch 56/100\n",
            "60000/60000 [==============================] - 2s 41us/step - loss: 0.2629 - val_loss: 0.2626\n",
            "Epoch 57/100\n",
            "60000/60000 [==============================] - 2s 41us/step - loss: 0.2629 - val_loss: 0.2626\n",
            "Epoch 58/100\n",
            "60000/60000 [==============================] - 2s 41us/step - loss: 0.2629 - val_loss: 0.2627\n",
            "Epoch 59/100\n",
            "60000/60000 [==============================] - 2s 40us/step - loss: 0.2629 - val_loss: 0.2625\n",
            "Epoch 60/100\n",
            "24320/60000 [===========>..................] - ETA: 1s - loss: 0.2631"
          ],
          "name": "stdout"
        },
        {
          "output_type": "stream",
          "text": [
            "60000/60000 [==============================] - 2s 40us/step - loss: 0.2629 - val_loss: 0.2626\n",
            "Epoch 61/100\n",
            "60000/60000 [==============================] - 2s 41us/step - loss: 0.2629 - val_loss: 0.2626\n",
            "Epoch 62/100\n",
            "60000/60000 [==============================] - 2s 41us/step - loss: 0.2629 - val_loss: 0.2626\n",
            "Epoch 63/100\n",
            "60000/60000 [==============================] - 2s 40us/step - loss: 0.2629 - val_loss: 0.2625\n",
            "Epoch 64/100\n",
            "60000/60000 [==============================] - 2s 41us/step - loss: 0.2629 - val_loss: 0.2626\n",
            "Epoch 65/100\n",
            "60000/60000 [==============================] - 2s 41us/step - loss: 0.2629 - val_loss: 0.2626\n",
            "Epoch 66/100\n",
            "22784/60000 [==========>...................] - ETA: 1s - loss: 0.2626"
          ],
          "name": "stdout"
        },
        {
          "output_type": "stream",
          "text": [
            "60000/60000 [==============================] - 2s 41us/step - loss: 0.2629 - val_loss: 0.2625\n",
            "Epoch 67/100\n",
            "60000/60000 [==============================] - 2s 40us/step - loss: 0.2629 - val_loss: 0.2627\n",
            "Epoch 68/100\n",
            "60000/60000 [==============================] - 2s 41us/step - loss: 0.2629 - val_loss: 0.2626\n",
            "Epoch 69/100\n",
            "60000/60000 [==============================] - 2s 40us/step - loss: 0.2629 - val_loss: 0.2626\n",
            "Epoch 70/100\n",
            "60000/60000 [==============================] - 2s 41us/step - loss: 0.2629 - val_loss: 0.2625\n",
            "Epoch 71/100\n",
            "60000/60000 [==============================] - 2s 41us/step - loss: 0.2629 - val_loss: 0.2625\n",
            "Epoch 72/100\n",
            "25344/60000 [===========>..................] - ETA: 1s - loss: 0.2631"
          ],
          "name": "stdout"
        },
        {
          "output_type": "stream",
          "text": [
            "60000/60000 [==============================] - 2s 40us/step - loss: 0.2629 - val_loss: 0.2625\n",
            "Epoch 73/100\n",
            "60000/60000 [==============================] - 2s 41us/step - loss: 0.2629 - val_loss: 0.2625\n",
            "Epoch 74/100\n",
            "60000/60000 [==============================] - 2s 41us/step - loss: 0.2629 - val_loss: 0.2626\n",
            "Epoch 75/100\n",
            "60000/60000 [==============================] - 2s 40us/step - loss: 0.2629 - val_loss: 0.2626\n",
            "Epoch 76/100\n",
            "60000/60000 [==============================] - 2s 40us/step - loss: 0.2629 - val_loss: 0.2625\n",
            "Epoch 77/100\n",
            "60000/60000 [==============================] - 2s 40us/step - loss: 0.2629 - val_loss: 0.2627\n",
            "Epoch 78/100\n",
            "28416/60000 [=============>................] - ETA: 1s - loss: 0.2631"
          ],
          "name": "stdout"
        },
        {
          "output_type": "stream",
          "text": [
            "60000/60000 [==============================] - 2s 40us/step - loss: 0.2629 - val_loss: 0.2627\n",
            "Epoch 79/100\n",
            "60000/60000 [==============================] - 2s 40us/step - loss: 0.2629 - val_loss: 0.2626\n",
            "Epoch 80/100\n",
            "60000/60000 [==============================] - 2s 41us/step - loss: 0.2629 - val_loss: 0.2627\n",
            "Epoch 81/100\n",
            "60000/60000 [==============================] - 2s 41us/step - loss: 0.2629 - val_loss: 0.2627\n",
            "Epoch 82/100\n",
            "60000/60000 [==============================] - 2s 41us/step - loss: 0.2629 - val_loss: 0.2626\n",
            "Epoch 83/100\n",
            "60000/60000 [==============================] - 2s 41us/step - loss: 0.2629 - val_loss: 0.2625\n",
            "Epoch 84/100\n",
            "24064/60000 [===========>..................] - ETA: 1s - loss: 0.2630"
          ],
          "name": "stdout"
        },
        {
          "output_type": "stream",
          "text": [
            "60000/60000 [==============================] - 2s 41us/step - loss: 0.2629 - val_loss: 0.2626\n",
            "Epoch 85/100\n",
            "60000/60000 [==============================] - 2s 40us/step - loss: 0.2629 - val_loss: 0.2626\n",
            "Epoch 86/100\n",
            "60000/60000 [==============================] - 2s 41us/step - loss: 0.2629 - val_loss: 0.2626\n",
            "Epoch 87/100\n",
            "60000/60000 [==============================] - 2s 40us/step - loss: 0.2629 - val_loss: 0.2625\n",
            "Epoch 88/100\n",
            "60000/60000 [==============================] - 2s 40us/step - loss: 0.2629 - val_loss: 0.2625\n",
            "Epoch 89/100\n",
            "60000/60000 [==============================] - 2s 40us/step - loss: 0.2629 - val_loss: 0.2626\n",
            "Epoch 90/100\n",
            "27904/60000 [============>.................] - ETA: 1s - loss: 0.2630"
          ],
          "name": "stdout"
        },
        {
          "output_type": "stream",
          "text": [
            "60000/60000 [==============================] - 2s 40us/step - loss: 0.2629 - val_loss: 0.2626\n",
            "Epoch 91/100\n",
            "60000/60000 [==============================] - 2s 41us/step - loss: 0.2629 - val_loss: 0.2626\n",
            "Epoch 92/100\n",
            "60000/60000 [==============================] - 2s 41us/step - loss: 0.2629 - val_loss: 0.2626\n",
            "Epoch 93/100\n",
            "60000/60000 [==============================] - 2s 41us/step - loss: 0.2629 - val_loss: 0.2626\n",
            "Epoch 94/100\n",
            "60000/60000 [==============================] - 2s 40us/step - loss: 0.2628 - val_loss: 0.2626\n",
            "Epoch 95/100\n",
            "60000/60000 [==============================] - 3s 42us/step - loss: 0.2629 - val_loss: 0.2626\n",
            "Epoch 96/100\n",
            "25600/60000 [===========>..................] - ETA: 1s - loss: 0.2625"
          ],
          "name": "stdout"
        },
        {
          "output_type": "stream",
          "text": [
            "60000/60000 [==============================] - 2s 40us/step - loss: 0.2629 - val_loss: 0.2626\n",
            "Epoch 97/100\n",
            "60000/60000 [==============================] - 2s 40us/step - loss: 0.2629 - val_loss: 0.2626\n",
            "Epoch 98/100\n",
            "60000/60000 [==============================] - 2s 40us/step - loss: 0.2629 - val_loss: 0.2626\n",
            "Epoch 99/100\n",
            "60000/60000 [==============================] - 2s 40us/step - loss: 0.2629 - val_loss: 0.2626\n",
            "Epoch 100/100\n",
            "60000/60000 [==============================] - 2s 41us/step - loss: 0.2629 - val_loss: 0.2626\n"
          ],
          "name": "stdout"
        },
        {
          "output_type": "execute_result",
          "data": {
            "text/plain": [
              "<keras.callbacks.History at 0x7fa7091d38d0>"
            ]
          },
          "metadata": {
            "tags": []
          },
          "execution_count": 5
        }
      ]
    },
    {
      "metadata": {
        "id": "9_piKaQZ8ho6",
        "colab_type": "text"
      },
      "cell_type": "markdown",
      "source": [
        "## Convolutional Autoencoders\n",
        "\n",
        "Since our inputs are images, it makes sense to use convolutional neural networks (convnets) as encoders and decoders. "
      ]
    },
    {
      "metadata": {
        "id": "rp7HZkc38ho6",
        "colab_type": "code",
        "colab": {
          "autoexec": {
            "startup": false,
            "wait_interval": 0
          }
        }
      },
      "cell_type": "code",
      "source": [
        "from keras.layers import Input, Dense, Conv2D, MaxPooling2D, UpSampling2D\n",
        "from keras.models import Model\n",
        "from keras import backend as K\n",
        "\n",
        "input_img = Input(shape=(28, 28, 1))  \n",
        "\n",
        "x = Conv2D(16, (3, 3), padding=\"same\", activation=\"relu\")(input_img)\n",
        "x = MaxPooling2D((2, 2), padding=\"same\")(x)\n",
        "x = Conv2D(8, (3, 3), padding=\"same\", activation=\"relu\")(x)\n",
        "x = MaxPooling2D((2, 2), padding=\"same\")(x)\n",
        "x = Conv2D(8, (3, 3), padding=\"same\", activation=\"relu\")(x)\n",
        "encoded = MaxPooling2D((2, 2), padding=\"same\")(x)\n",
        "\n",
        "# at this point the representation is (4, 4, 8) i.e. 128-dimensional\n",
        "\n",
        "x = Conv2D(8, (3, 3), padding=\"same\", activation=\"relu\")(encoded)\n",
        "x = UpSampling2D((2, 2))(x)\n",
        "x = Conv2D(8, (3, 3), padding=\"same\", activation=\"relu\")(x)\n",
        "x = UpSampling2D((2, 2))(x)\n",
        "x = Conv2D(16, (3, 3), activation=\"relu\")(x)\n",
        "x = UpSampling2D((2, 2))(x)\n",
        "decoded = Conv2D(1, (3, 3), padding=\"same\", activation=\"sigmoid\")(x)\n",
        "\n",
        "# at this point the representation is (28, 28, 1) i.e. 784-dimensional\n",
        "\n",
        "autoencoder = Model(input_img, decoded)\n",
        "autoencoder.compile(optimizer='adadelta', loss='binary_crossentropy')"
      ],
      "execution_count": 0,
      "outputs": []
    },
    {
      "metadata": {
        "id": "yZb8UQcz8ho8",
        "colab_type": "code",
        "colab": {
          "autoexec": {
            "startup": false,
            "wait_interval": 0
          }
        }
      },
      "cell_type": "code",
      "source": [
        "from keras.datasets import mnist\n",
        "import numpy as np\n",
        "\n",
        "(x_train, _), (x_test, _) = mnist.load_data()\n",
        "\n",
        "x_train = x_train.astype('float32') / 255.\n",
        "x_test = x_test.astype('float32') / 255.\n",
        "x_train = np.reshape(x_train, (len(x_train), 28, 28, 1))  \n",
        "x_test = np.reshape(x_test, (len(x_test), 28, 28, 1))  "
      ],
      "execution_count": 0,
      "outputs": []
    },
    {
      "metadata": {
        "id": "4pgviNIE8ho_",
        "colab_type": "code",
        "colab": {
          "autoexec": {
            "startup": false,
            "wait_interval": 0
          },
          "base_uri": "https://localhost:8080/",
          "height": 1799
        },
        "outputId": "d64cd1d4-d1f3-4636-ae31-f4b6f76e7c26",
        "executionInfo": {
          "status": "ok",
          "timestamp": 1526290372359,
          "user_tz": -120,
          "elapsed": 505690,
          "user": {
            "displayName": "Jordi Vitrià",
            "photoUrl": "//lh6.googleusercontent.com/-Gjm4qgDBAbI/AAAAAAAAAAI/AAAAAAAAMMU/-Sb9eg_mX-I/s50-c-k-no/photo.jpg",
            "userId": "109730415698462856688"
          }
        }
      },
      "cell_type": "code",
      "source": [
        "from keras.callbacks import TensorBoard\n",
        "\n",
        "autoencoder.fit(x_train, x_train,\n",
        "                epochs=50,\n",
        "                batch_size=128,\n",
        "                shuffle=True,\n",
        "                validation_data=(x_test, x_test),\n",
        "                callbacks=[TensorBoard(log_dir='/tmp/autoencoder')])"
      ],
      "execution_count": 8,
      "outputs": [
        {
          "output_type": "stream",
          "text": [
            "Train on 60000 samples, validate on 10000 samples\n",
            "Epoch 1/50\n",
            "60000/60000 [==============================] - 11s 184us/step - loss: 0.2137 - val_loss: 0.1599\n",
            "Epoch 2/50\n",
            "60000/60000 [==============================] - 10s 166us/step - loss: 0.1546 - val_loss: 0.1444\n",
            "Epoch 3/50\n",
            "46336/60000 [======================>.......] - ETA: 2s - loss: 0.1415"
          ],
          "name": "stdout"
        },
        {
          "output_type": "stream",
          "text": [
            "60000/60000 [==============================] - 10s 165us/step - loss: 0.1405 - val_loss: 0.1365\n",
            "Epoch 4/50\n",
            "60000/60000 [==============================] - 10s 165us/step - loss: 0.1328 - val_loss: 0.1276\n",
            "Epoch 5/50\n",
            "60000/60000 [==============================] - 10s 166us/step - loss: 0.1283 - val_loss: 0.1247\n",
            "Epoch 6/50\n",
            "23808/60000 [==========>...................] - ETA: 5s - loss: 0.1262"
          ],
          "name": "stdout"
        },
        {
          "output_type": "stream",
          "text": [
            "60000/60000 [==============================] - 10s 167us/step - loss: 0.1249 - val_loss: 0.1278\n",
            "Epoch 7/50\n",
            "60000/60000 [==============================] - 10s 166us/step - loss: 0.1224 - val_loss: 0.1217\n",
            "Epoch 8/50\n",
            "60000/60000 [==============================] - 10s 166us/step - loss: 0.1205 - val_loss: 0.1229\n",
            "Epoch 9/50\n",
            "19968/60000 [========>.....................] - ETA: 6s - loss: 0.1192"
          ],
          "name": "stdout"
        },
        {
          "output_type": "stream",
          "text": [
            "60000/60000 [==============================] - 10s 166us/step - loss: 0.1187 - val_loss: 0.1129\n",
            "Epoch 10/50\n",
            "60000/60000 [==============================] - 10s 166us/step - loss: 0.1169 - val_loss: 0.1154\n",
            "Epoch 11/50\n",
            "60000/60000 [==============================] - 10s 165us/step - loss: 0.1156 - val_loss: 0.1126\n",
            "Epoch 12/50\n",
            "18176/60000 [========>.....................] - ETA: 6s - loss: 0.1146"
          ],
          "name": "stdout"
        },
        {
          "output_type": "stream",
          "text": [
            "60000/60000 [==============================] - 10s 164us/step - loss: 0.1145 - val_loss: 0.1119\n",
            "Epoch 13/50\n",
            "60000/60000 [==============================] - 10s 166us/step - loss: 0.1132 - val_loss: 0.1117\n",
            "Epoch 14/50\n",
            "60000/60000 [==============================] - 10s 165us/step - loss: 0.1122 - val_loss: 0.1081\n",
            "Epoch 15/50\n",
            "18432/60000 [========>.....................] - ETA: 6s - loss: 0.1116"
          ],
          "name": "stdout"
        },
        {
          "output_type": "stream",
          "text": [
            "60000/60000 [==============================] - 10s 165us/step - loss: 0.1115 - val_loss: 0.1093\n",
            "Epoch 16/50\n",
            "60000/60000 [==============================] - 10s 167us/step - loss: 0.1106 - val_loss: 0.1114\n",
            "Epoch 17/50\n",
            "60000/60000 [==============================] - 10s 166us/step - loss: 0.1098 - val_loss: 0.1094\n",
            "Epoch 18/50\n",
            "18432/60000 [========>.....................] - ETA: 6s - loss: 0.1097"
          ],
          "name": "stdout"
        },
        {
          "output_type": "stream",
          "text": [
            "60000/60000 [==============================] - 10s 168us/step - loss: 0.1095 - val_loss: 0.1094\n",
            "Epoch 19/50\n",
            "60000/60000 [==============================] - 10s 166us/step - loss: 0.1090 - val_loss: 0.1068\n",
            "Epoch 20/50\n",
            "60000/60000 [==============================] - 10s 167us/step - loss: 0.1083 - val_loss: 0.1073\n",
            "Epoch 21/50\n",
            "18432/60000 [========>.....................] - ETA: 6s - loss: 0.1084"
          ],
          "name": "stdout"
        },
        {
          "output_type": "stream",
          "text": [
            "60000/60000 [==============================] - 10s 166us/step - loss: 0.1083 - val_loss: 0.1068\n",
            "Epoch 22/50\n",
            "60000/60000 [==============================] - 10s 166us/step - loss: 0.1078 - val_loss: 0.1099\n",
            "Epoch 23/50\n",
            "60000/60000 [==============================] - 10s 168us/step - loss: 0.1071 - val_loss: 0.1083\n",
            "Epoch 24/50\n",
            "18432/60000 [========>.....................] - ETA: 6s - loss: 0.1070"
          ],
          "name": "stdout"
        },
        {
          "output_type": "stream",
          "text": [
            "60000/60000 [==============================] - 10s 166us/step - loss: 0.1066 - val_loss: 0.1084\n",
            "Epoch 25/50\n",
            "60000/60000 [==============================] - 10s 167us/step - loss: 0.1062 - val_loss: 0.1044\n",
            "Epoch 26/50\n",
            "60000/60000 [==============================] - 10s 167us/step - loss: 0.1056 - val_loss: 0.1026\n",
            "Epoch 27/50\n",
            "18176/60000 [========>.....................] - ETA: 6s - loss: 0.1053"
          ],
          "name": "stdout"
        },
        {
          "output_type": "stream",
          "text": [
            "60000/60000 [==============================] - 10s 166us/step - loss: 0.1053 - val_loss: 0.1054\n",
            "Epoch 28/50\n",
            "60000/60000 [==============================] - 10s 166us/step - loss: 0.1052 - val_loss: 0.1057\n",
            "Epoch 29/50\n",
            "60000/60000 [==============================] - 10s 166us/step - loss: 0.1049 - val_loss: 0.1051\n",
            "Epoch 30/50\n",
            "17792/60000 [=======>......................] - ETA: 6s - loss: 0.1051"
          ],
          "name": "stdout"
        },
        {
          "output_type": "stream",
          "text": [
            "60000/60000 [==============================] - 10s 165us/step - loss: 0.1045 - val_loss: 0.1023\n",
            "Epoch 31/50\n",
            "60000/60000 [==============================] - 10s 166us/step - loss: 0.1041 - val_loss: 0.1030\n",
            "Epoch 32/50\n",
            "60000/60000 [==============================] - 10s 165us/step - loss: 0.1040 - val_loss: 0.1018\n",
            "Epoch 33/50\n",
            "18432/60000 [========>.....................] - ETA: 6s - loss: 0.1039"
          ],
          "name": "stdout"
        },
        {
          "output_type": "stream",
          "text": [
            "60000/60000 [==============================] - 10s 166us/step - loss: 0.1038 - val_loss: 0.1031\n",
            "Epoch 34/50\n",
            "60000/60000 [==============================] - 10s 166us/step - loss: 0.1037 - val_loss: 0.1008\n",
            "Epoch 35/50\n",
            "60000/60000 [==============================] - 10s 167us/step - loss: 0.1033 - val_loss: 0.1019\n",
            "Epoch 36/50\n",
            "17920/60000 [=======>......................] - ETA: 6s - loss: 0.1029"
          ],
          "name": "stdout"
        },
        {
          "output_type": "stream",
          "text": [
            "60000/60000 [==============================] - 10s 166us/step - loss: 0.1031 - val_loss: 0.1048\n",
            "Epoch 37/50\n",
            "60000/60000 [==============================] - 10s 165us/step - loss: 0.1029 - val_loss: 0.1008\n",
            "Epoch 38/50\n",
            "60000/60000 [==============================] - 10s 167us/step - loss: 0.1025 - val_loss: 0.1007\n",
            "Epoch 39/50\n",
            "18560/60000 [========>.....................] - ETA: 6s - loss: 0.1032"
          ],
          "name": "stdout"
        },
        {
          "output_type": "stream",
          "text": [
            "60000/60000 [==============================] - 10s 167us/step - loss: 0.1024 - val_loss: 0.1015\n",
            "Epoch 40/50\n",
            "60000/60000 [==============================] - 10s 166us/step - loss: 0.1023 - val_loss: 0.1039\n",
            "Epoch 41/50\n",
            "60000/60000 [==============================] - 10s 166us/step - loss: 0.1022 - val_loss: 0.1019\n",
            "Epoch 42/50\n",
            "18432/60000 [========>.....................] - ETA: 6s - loss: 0.1014"
          ],
          "name": "stdout"
        },
        {
          "output_type": "stream",
          "text": [
            "60000/60000 [==============================] - 10s 166us/step - loss: 0.1018 - val_loss: 0.1021\n",
            "Epoch 43/50\n",
            "60000/60000 [==============================] - 10s 165us/step - loss: 0.1018 - val_loss: 0.1009\n",
            "Epoch 44/50\n",
            "60000/60000 [==============================] - 10s 167us/step - loss: 0.1017 - val_loss: 0.1021\n",
            "Epoch 45/50\n",
            "18560/60000 [========>.....................] - ETA: 6s - loss: 0.1014"
          ],
          "name": "stdout"
        },
        {
          "output_type": "stream",
          "text": [
            "60000/60000 [==============================] - 10s 166us/step - loss: 0.1012 - val_loss: 0.1018\n",
            "Epoch 46/50\n",
            "60000/60000 [==============================] - 10s 165us/step - loss: 0.1014 - val_loss: 0.1002\n",
            "Epoch 47/50\n",
            "60000/60000 [==============================] - 10s 166us/step - loss: 0.1011 - val_loss: 0.1017\n",
            "Epoch 48/50\n",
            "18560/60000 [========>.....................] - ETA: 6s - loss: 0.1014"
          ],
          "name": "stdout"
        },
        {
          "output_type": "stream",
          "text": [
            "60000/60000 [==============================] - 10s 166us/step - loss: 0.1012 - val_loss: 0.1024\n",
            "Epoch 49/50\n",
            "60000/60000 [==============================] - 10s 165us/step - loss: 0.1008 - val_loss: 0.0989\n",
            "Epoch 50/50\n",
            "60000/60000 [==============================] - 10s 166us/step - loss: 0.1006 - val_loss: 0.0990\n"
          ],
          "name": "stdout"
        },
        {
          "output_type": "execute_result",
          "data": {
            "text/plain": [
              "<keras.callbacks.History at 0x7fa71131ea90>"
            ]
          },
          "metadata": {
            "tags": []
          },
          "execution_count": 8
        }
      ]
    },
    {
      "metadata": {
        "id": "10QtRdjO8hpC",
        "colab_type": "code",
        "colab": {
          "autoexec": {
            "startup": false,
            "wait_interval": 0
          },
          "base_uri": "https://localhost:8080/",
          "height": 137
        },
        "outputId": "78c82d61-6b89-406d-b871-e4e4a27dba3d",
        "executionInfo": {
          "status": "ok",
          "timestamp": 1526290388920,
          "user_tz": -120,
          "elapsed": 2498,
          "user": {
            "displayName": "Jordi Vitrià",
            "photoUrl": "//lh6.googleusercontent.com/-Gjm4qgDBAbI/AAAAAAAAAAI/AAAAAAAAMMU/-Sb9eg_mX-I/s50-c-k-no/photo.jpg",
            "userId": "109730415698462856688"
          }
        }
      },
      "cell_type": "code",
      "source": [
        "decoded_imgs = autoencoder.predict(x_test)\n",
        "\n",
        "import matplotlib.pyplot as plt\n",
        "n = 10\n",
        "plt.figure(figsize=(10, 2))\n",
        "for i in range(1,n):\n",
        "    # display original\n",
        "    ax = plt.subplot(2, n, i)\n",
        "    plt.imshow(x_test[i].reshape(28, 28))\n",
        "    plt.gray()\n",
        "    ax.get_xaxis().set_visible(False)\n",
        "    ax.get_yaxis().set_visible(False)\n",
        "\n",
        "    # display reconstruction\n",
        "    ax = plt.subplot(2, n, i + n)\n",
        "    plt.imshow(decoded_imgs[i].reshape(28, 28))\n",
        "    plt.gray()\n",
        "    ax.get_xaxis().set_visible(False)\n",
        "    ax.get_yaxis().set_visible(False)\n",
        "plt.show()"
      ],
      "execution_count": 9,
      "outputs": [
        {
          "output_type": "display_data",
          "data": {
            "image/png": "[encoded data removed]",
            "text/plain": [
              "<matplotlib.figure.Figure at 0x7fa6fc8a8cf8>"
            ]
          },
          "metadata": {
            "tags": []
          }
        }
      ]
    },
    {
      "metadata": {
        "id": "v1x9ZS2j8hpF",
        "colab_type": "text"
      },
      "cell_type": "markdown",
      "source": [
        "## Denoising autoencoders\n",
        "\n",
        "Another approach towards developing a generalizable model is to slightly corrupt the input data but still maintain the uncorrupted data as our target output.\n",
        "\n",
        "With this approach, our model isn't able to simply develop a mapping which memorizes the training data because our input and target output are no longer the same.\n",
        "\n",
        "<center>\n",
        "<img src=\"images/denoised_digits.png\" alt=\"\" style=\"width: 700px;\"/> \n",
        "(Source: https://blog.keras.io/building-autoencoders-in-keras.html)\n",
        "</center>"
      ]
    },
    {
      "metadata": {
        "id": "myqiSgdb8hpG",
        "colab_type": "code",
        "colab": {
          "autoexec": {
            "startup": false,
            "wait_interval": 0
          },
          "base_uri": "https://localhost:8080/",
          "height": 78
        },
        "outputId": "f056e0a0-74c7-4b41-d81f-f25bb5f12751",
        "executionInfo": {
          "status": "ok",
          "timestamp": 1526290717475,
          "user_tz": -120,
          "elapsed": 5473,
          "user": {
            "displayName": "Jordi Vitrià",
            "photoUrl": "//lh6.googleusercontent.com/-Gjm4qgDBAbI/AAAAAAAAAAI/AAAAAAAAMMU/-Sb9eg_mX-I/s50-c-k-no/photo.jpg",
            "userId": "109730415698462856688"
          }
        }
      },
      "cell_type": "code",
      "source": [
        "import matplotlib.pyplot as plt\n",
        "import numpy as np\n",
        "from keras.datasets import mnist\n",
        "from keras.layers import Dense\n",
        "from keras.models import Sequential\n",
        "\n",
        "(x_train, _), (x_test, _) = mnist.load_data()\n",
        "\n",
        "x_train = x_train.astype('float32') / 255.\n",
        "x_test = x_test.astype('float32') / 255.\n",
        "x_train = np.reshape(x_train, (len(x_train), 784))\n",
        "x_test = np.reshape(x_test, (len(x_test), 784))\n",
        "\n",
        "noise_factor = 0.5\n",
        "x_train_noisy = x_train + noise_factor * np.random.normal(loc=0.0, scale=1.0, size=x_train.shape) \n",
        "x_test_noisy = x_test + noise_factor * np.random.normal(loc=0.0, scale=1.0, size=x_test.shape) \n",
        "x_train_noisy = np.clip(x_train_noisy, 0., 1.)\n",
        "x_test_noisy = np.clip(x_test_noisy, 0., 1.)\n",
        "\n",
        "n = 10\n",
        "plt.figure(figsize=(10, 2))\n",
        "for i in range(n):\n",
        "    ax = plt.subplot(1, n, i+1)\n",
        "    plt.imshow(x_test_noisy[i].reshape(28, 28))\n",
        "    plt.gray()\n",
        "    ax.get_xaxis().set_visible(False)\n",
        "    ax.get_yaxis().set_visible(False)\n",
        "plt.show()"
      ],
      "execution_count": 13,
      "outputs": [
        {
          "output_type": "display_data",
          "data": {
            "image/png": "[encoded data removed]",
            "text/plain": [
              "<matplotlib.figure.Figure at 0x7fa709774c18>"
            ]
          },
          "metadata": {
            "tags": []
          }
        }
      ]
    },
    {
      "metadata": {
        "id": "wr0836wg8hpM",
        "colab_type": "code",
        "colab": {
          "autoexec": {
            "startup": false,
            "wait_interval": 0
          },
          "base_uri": "https://localhost:8080/",
          "height": 3526
        },
        "outputId": "ac6e6e04-49ce-4eb4-a599-35e5fd24403f",
        "executionInfo": {
          "status": "ok",
          "timestamp": 1526290654085,
          "user_tz": -120,
          "elapsed": 242736,
          "user": {
            "displayName": "Jordi Vitrià",
            "photoUrl": "//lh6.googleusercontent.com/-Gjm4qgDBAbI/AAAAAAAAAAI/AAAAAAAAMMU/-Sb9eg_mX-I/s50-c-k-no/photo.jpg",
            "userId": "109730415698462856688"
          }
        }
      },
      "cell_type": "code",
      "source": [
        "model = Sequential()\n",
        "model.add(Dense(128, activation='relu', input_dim=784))\n",
        "model.add(Dense(64, activation='relu'))\n",
        "model.add(Dense(32, activation='relu'))\n",
        "model.add(Dense(64, activation='relu'))\n",
        "model.add(Dense(128, activation='relu'))\n",
        "model.add(Dense(784, activation='sigmoid'))\n",
        "model.compile(optimizer='adam', loss='binary_crossentropy')\n",
        "\n",
        "model.fit(x_train_noisy, x_train, \n",
        "          epochs=100,\n",
        "          batch_size=256,\n",
        "          shuffle=True,\n",
        "          validation_data=(x_test_noisy, x_test))"
      ],
      "execution_count": 11,
      "outputs": [
        {
          "output_type": "stream",
          "text": [
            "Train on 60000 samples, validate on 10000 samples\n",
            "Epoch 1/100\n",
            "60000/60000 [==============================] - 3s 47us/step - loss: 0.2645 - val_loss: 0.1968\n",
            "Epoch 2/100\n",
            "60000/60000 [==============================] - 2s 40us/step - loss: 0.1776 - val_loss: 0.1653\n",
            "Epoch 3/100\n",
            "60000/60000 [==============================] - 2s 40us/step - loss: 0.1606 - val_loss: 0.1555\n",
            "Epoch 4/100\n",
            "60000/60000 [==============================] - 2s 40us/step - loss: 0.1531 - val_loss: 0.1492\n",
            "Epoch 5/100\n",
            "60000/60000 [==============================] - 2s 40us/step - loss: 0.1481 - val_loss: 0.1453\n",
            "Epoch 6/100\n",
            "58624/60000 [============================>.] - ETA: 0s - loss: 0.1436"
          ],
          "name": "stdout"
        },
        {
          "output_type": "stream",
          "text": [
            "60000/60000 [==============================] - 2s 40us/step - loss: 0.1436 - val_loss: 0.1411\n",
            "Epoch 7/100\n",
            "60000/60000 [==============================] - 2s 40us/step - loss: 0.1399 - val_loss: 0.1376\n",
            "Epoch 8/100\n",
            "60000/60000 [==============================] - 2s 40us/step - loss: 0.1370 - val_loss: 0.1351\n",
            "Epoch 9/100\n",
            "60000/60000 [==============================] - 2s 40us/step - loss: 0.1349 - val_loss: 0.1341\n",
            "Epoch 10/100\n",
            "60000/60000 [==============================] - 2s 40us/step - loss: 0.1331 - val_loss: 0.1315\n",
            "Epoch 11/100\n",
            "60000/60000 [==============================] - 2s 40us/step - loss: 0.1315 - val_loss: 0.1309\n",
            "Epoch 12/100\n",
            "38400/60000 [==================>...........] - ETA: 0s - loss: 0.1302"
          ],
          "name": "stdout"
        },
        {
          "output_type": "stream",
          "text": [
            "60000/60000 [==============================] - 2s 40us/step - loss: 0.1302 - val_loss: 0.1294\n",
            "Epoch 13/100\n",
            "60000/60000 [==============================] - 2s 40us/step - loss: 0.1290 - val_loss: 0.1282\n",
            "Epoch 14/100\n",
            "60000/60000 [==============================] - 2s 40us/step - loss: 0.1280 - val_loss: 0.1282\n",
            "Epoch 15/100\n",
            "60000/60000 [==============================] - 2s 41us/step - loss: 0.1271 - val_loss: 0.1267\n",
            "Epoch 16/100\n",
            "60000/60000 [==============================] - 2s 41us/step - loss: 0.1262 - val_loss: 0.1270\n",
            "Epoch 17/100\n",
            "60000/60000 [==============================] - 2s 40us/step - loss: 0.1255 - val_loss: 0.1258\n",
            "Epoch 18/100\n",
            "32768/60000 [===============>..............] - ETA: 1s - loss: 0.1245"
          ],
          "name": "stdout"
        },
        {
          "output_type": "stream",
          "text": [
            "60000/60000 [==============================] - 2s 40us/step - loss: 0.1247 - val_loss: 0.1250\n",
            "Epoch 19/100\n",
            "60000/60000 [==============================] - 2s 40us/step - loss: 0.1239 - val_loss: 0.1241\n",
            "Epoch 20/100\n",
            "60000/60000 [==============================] - 2s 40us/step - loss: 0.1233 - val_loss: 0.1236\n",
            "Epoch 21/100\n",
            "60000/60000 [==============================] - 2s 40us/step - loss: 0.1228 - val_loss: 0.1230\n",
            "Epoch 22/100\n",
            "60000/60000 [==============================] - 2s 40us/step - loss: 0.1221 - val_loss: 0.1230\n",
            "Epoch 23/100\n",
            "60000/60000 [==============================] - 2s 40us/step - loss: 0.1215 - val_loss: 0.1223\n",
            "Epoch 24/100\n",
            "26368/60000 [============>.................] - ETA: 1s - loss: 0.1208"
          ],
          "name": "stdout"
        },
        {
          "output_type": "stream",
          "text": [
            "60000/60000 [==============================] - 2s 41us/step - loss: 0.1210 - val_loss: 0.1221\n",
            "Epoch 25/100\n",
            "60000/60000 [==============================] - 2s 41us/step - loss: 0.1205 - val_loss: 0.1220\n",
            "Epoch 26/100\n",
            "60000/60000 [==============================] - 2s 40us/step - loss: 0.1202 - val_loss: 0.1210\n",
            "Epoch 27/100\n",
            "60000/60000 [==============================] - 2s 40us/step - loss: 0.1198 - val_loss: 0.1205\n",
            "Epoch 28/100\n",
            "60000/60000 [==============================] - 2s 40us/step - loss: 0.1195 - val_loss: 0.1209\n",
            "Epoch 29/100\n",
            "60000/60000 [==============================] - 2s 41us/step - loss: 0.1191 - val_loss: 0.1200\n",
            "Epoch 30/100\n",
            "30976/60000 [==============>...............] - ETA: 1s - loss: 0.1182"
          ],
          "name": "stdout"
        },
        {
          "output_type": "stream",
          "text": [
            "60000/60000 [==============================] - 2s 40us/step - loss: 0.1188 - val_loss: 0.1202\n",
            "Epoch 31/100\n",
            "60000/60000 [==============================] - 2s 40us/step - loss: 0.1186 - val_loss: 0.1198\n",
            "Epoch 32/100\n",
            "60000/60000 [==============================] - 2s 40us/step - loss: 0.1183 - val_loss: 0.1196\n",
            "Epoch 33/100\n",
            "60000/60000 [==============================] - 2s 41us/step - loss: 0.1181 - val_loss: 0.1192\n",
            "Epoch 34/100\n",
            "60000/60000 [==============================] - 2s 40us/step - loss: 0.1177 - val_loss: 0.1188\n",
            "Epoch 35/100\n",
            "60000/60000 [==============================] - 2s 40us/step - loss: 0.1175 - val_loss: 0.1194\n",
            "Epoch 36/100\n",
            "32768/60000 [===============>..............] - ETA: 1s - loss: 0.1171"
          ],
          "name": "stdout"
        },
        {
          "output_type": "stream",
          "text": [
            "60000/60000 [==============================] - 2s 40us/step - loss: 0.1172 - val_loss: 0.1191\n",
            "Epoch 37/100\n",
            "60000/60000 [==============================] - 2s 40us/step - loss: 0.1170 - val_loss: 0.1181\n",
            "Epoch 38/100\n",
            "60000/60000 [==============================] - 2s 40us/step - loss: 0.1167 - val_loss: 0.1180\n",
            "Epoch 39/100\n",
            "60000/60000 [==============================] - 2s 40us/step - loss: 0.1166 - val_loss: 0.1180\n",
            "Epoch 40/100\n",
            "60000/60000 [==============================] - 2s 40us/step - loss: 0.1164 - val_loss: 0.1180\n",
            "Epoch 41/100\n",
            "60000/60000 [==============================] - 2s 40us/step - loss: 0.1161 - val_loss: 0.1180\n",
            "Epoch 42/100\n",
            "31488/60000 [==============>...............] - ETA: 1s - loss: 0.1157"
          ],
          "name": "stdout"
        },
        {
          "output_type": "stream",
          "text": [
            "60000/60000 [==============================] - 2s 40us/step - loss: 0.1160 - val_loss: 0.1178\n",
            "Epoch 43/100\n",
            "60000/60000 [==============================] - 2s 40us/step - loss: 0.1157 - val_loss: 0.1178\n",
            "Epoch 44/100\n",
            "60000/60000 [==============================] - 2s 40us/step - loss: 0.1156 - val_loss: 0.1176\n",
            "Epoch 45/100\n",
            "60000/60000 [==============================] - 2s 40us/step - loss: 0.1154 - val_loss: 0.1171\n",
            "Epoch 46/100\n",
            "60000/60000 [==============================] - 2s 40us/step - loss: 0.1152 - val_loss: 0.1169\n",
            "Epoch 47/100\n",
            "60000/60000 [==============================] - 2s 40us/step - loss: 0.1151 - val_loss: 0.1172\n",
            "Epoch 48/100\n",
            "28160/60000 [=============>................] - ETA: 1s - loss: 0.1149"
          ],
          "name": "stdout"
        },
        {
          "output_type": "stream",
          "text": [
            "60000/60000 [==============================] - 2s 40us/step - loss: 0.1149 - val_loss: 0.1167\n",
            "Epoch 49/100\n",
            "60000/60000 [==============================] - 2s 40us/step - loss: 0.1147 - val_loss: 0.1168\n",
            "Epoch 50/100\n",
            "60000/60000 [==============================] - 2s 40us/step - loss: 0.1147 - val_loss: 0.1166\n",
            "Epoch 51/100\n",
            "60000/60000 [==============================] - 2s 40us/step - loss: 0.1145 - val_loss: 0.1167\n",
            "Epoch 52/100\n",
            "60000/60000 [==============================] - 2s 40us/step - loss: 0.1143 - val_loss: 0.1165\n",
            "Epoch 53/100\n",
            "60000/60000 [==============================] - 2s 40us/step - loss: 0.1142 - val_loss: 0.1162\n",
            "Epoch 54/100\n",
            "32768/60000 [===============>..............] - ETA: 1s - loss: 0.1140"
          ],
          "name": "stdout"
        },
        {
          "output_type": "stream",
          "text": [
            "60000/60000 [==============================] - 2s 40us/step - loss: 0.1140 - val_loss: 0.1164\n",
            "Epoch 55/100\n",
            "60000/60000 [==============================] - 2s 40us/step - loss: 0.1140 - val_loss: 0.1166\n",
            "Epoch 56/100\n",
            "60000/60000 [==============================] - 2s 40us/step - loss: 0.1139 - val_loss: 0.1158\n",
            "Epoch 57/100\n",
            "60000/60000 [==============================] - 2s 40us/step - loss: 0.1138 - val_loss: 0.1160\n",
            "Epoch 58/100\n",
            "60000/60000 [==============================] - 2s 41us/step - loss: 0.1137 - val_loss: 0.1160\n",
            "Epoch 59/100\n",
            "60000/60000 [==============================] - 2s 40us/step - loss: 0.1136 - val_loss: 0.1158\n",
            "Epoch 60/100\n",
            "29696/60000 [=============>................] - ETA: 1s - loss: 0.1132"
          ],
          "name": "stdout"
        },
        {
          "output_type": "stream",
          "text": [
            "60000/60000 [==============================] - 2s 41us/step - loss: 0.1134 - val_loss: 0.1162\n",
            "Epoch 61/100\n",
            "60000/60000 [==============================] - 2s 41us/step - loss: 0.1134 - val_loss: 0.1159\n",
            "Epoch 62/100\n",
            "60000/60000 [==============================] - 2s 41us/step - loss: 0.1133 - val_loss: 0.1158\n",
            "Epoch 63/100\n",
            "60000/60000 [==============================] - 2s 40us/step - loss: 0.1132 - val_loss: 0.1156\n",
            "Epoch 64/100\n",
            "60000/60000 [==============================] - 2s 40us/step - loss: 0.1131 - val_loss: 0.1157\n",
            "Epoch 65/100\n",
            "60000/60000 [==============================] - 2s 40us/step - loss: 0.1129 - val_loss: 0.1156\n",
            "Epoch 66/100\n",
            "32512/60000 [===============>..............] - ETA: 1s - loss: 0.1128"
          ],
          "name": "stdout"
        },
        {
          "output_type": "stream",
          "text": [
            "60000/60000 [==============================] - 2s 40us/step - loss: 0.1129 - val_loss: 0.1159\n",
            "Epoch 67/100\n",
            "60000/60000 [==============================] - 2s 40us/step - loss: 0.1129 - val_loss: 0.1155\n",
            "Epoch 68/100\n",
            "60000/60000 [==============================] - 2s 40us/step - loss: 0.1128 - val_loss: 0.1152\n",
            "Epoch 69/100\n",
            "60000/60000 [==============================] - 2s 40us/step - loss: 0.1128 - val_loss: 0.1151\n",
            "Epoch 70/100\n",
            "60000/60000 [==============================] - 2s 40us/step - loss: 0.1126 - val_loss: 0.1160\n",
            "Epoch 71/100\n",
            "60000/60000 [==============================] - 2s 41us/step - loss: 0.1125 - val_loss: 0.1155\n",
            "Epoch 72/100\n",
            "32000/60000 [===============>..............] - ETA: 1s - loss: 0.1124"
          ],
          "name": "stdout"
        },
        {
          "output_type": "stream",
          "text": [
            "60000/60000 [==============================] - 2s 40us/step - loss: 0.1125 - val_loss: 0.1153\n",
            "Epoch 73/100\n",
            "60000/60000 [==============================] - 2s 40us/step - loss: 0.1124 - val_loss: 0.1153\n",
            "Epoch 74/100\n",
            "60000/60000 [==============================] - 2s 40us/step - loss: 0.1124 - val_loss: 0.1151\n",
            "Epoch 75/100\n",
            "60000/60000 [==============================] - 2s 40us/step - loss: 0.1124 - val_loss: 0.1155\n",
            "Epoch 76/100\n",
            "60000/60000 [==============================] - 2s 40us/step - loss: 0.1122 - val_loss: 0.1150\n",
            "Epoch 77/100\n",
            "60000/60000 [==============================] - 2s 40us/step - loss: 0.1122 - val_loss: 0.1152\n",
            "Epoch 78/100\n",
            "32512/60000 [===============>..............] - ETA: 1s - loss: 0.1121"
          ],
          "name": "stdout"
        },
        {
          "output_type": "stream",
          "text": [
            "60000/60000 [==============================] - 2s 40us/step - loss: 0.1121 - val_loss: 0.1151\n",
            "Epoch 79/100\n",
            "60000/60000 [==============================] - 2s 40us/step - loss: 0.1121 - val_loss: 0.1156\n",
            "Epoch 80/100\n",
            "60000/60000 [==============================] - 2s 40us/step - loss: 0.1121 - val_loss: 0.1149\n",
            "Epoch 81/100\n",
            "60000/60000 [==============================] - 2s 40us/step - loss: 0.1119 - val_loss: 0.1148\n",
            "Epoch 82/100\n",
            "60000/60000 [==============================] - 2s 40us/step - loss: 0.1119 - val_loss: 0.1147\n",
            "Epoch 83/100\n",
            "60000/60000 [==============================] - 2s 40us/step - loss: 0.1118 - val_loss: 0.1146\n",
            "Epoch 84/100\n",
            "30976/60000 [==============>...............] - ETA: 1s - loss: 0.1117"
          ],
          "name": "stdout"
        },
        {
          "output_type": "stream",
          "text": [
            "60000/60000 [==============================] - 2s 40us/step - loss: 0.1118 - val_loss: 0.1145\n",
            "Epoch 85/100\n",
            "60000/60000 [==============================] - 2s 40us/step - loss: 0.1117 - val_loss: 0.1143\n",
            "Epoch 86/100\n",
            "60000/60000 [==============================] - 2s 40us/step - loss: 0.1116 - val_loss: 0.1146\n",
            "Epoch 87/100\n",
            "60000/60000 [==============================] - 2s 40us/step - loss: 0.1116 - val_loss: 0.1145\n",
            "Epoch 88/100\n",
            "60000/60000 [==============================] - 2s 40us/step - loss: 0.1115 - val_loss: 0.1148\n",
            "Epoch 89/100\n",
            "60000/60000 [==============================] - 2s 40us/step - loss: 0.1115 - val_loss: 0.1143\n",
            "Epoch 90/100\n",
            "31488/60000 [==============>...............] - ETA: 1s - loss: 0.1114"
          ],
          "name": "stdout"
        },
        {
          "output_type": "stream",
          "text": [
            "60000/60000 [==============================] - 2s 40us/step - loss: 0.1114 - val_loss: 0.1145\n",
            "Epoch 91/100\n",
            "60000/60000 [==============================] - 2s 40us/step - loss: 0.1115 - val_loss: 0.1143\n",
            "Epoch 92/100\n",
            "60000/60000 [==============================] - 2s 40us/step - loss: 0.1114 - val_loss: 0.1142\n",
            "Epoch 93/100\n",
            "60000/60000 [==============================] - 2s 40us/step - loss: 0.1112 - val_loss: 0.1144\n",
            "Epoch 94/100\n",
            "60000/60000 [==============================] - 2s 40us/step - loss: 0.1113 - val_loss: 0.1143\n",
            "Epoch 95/100\n",
            "60000/60000 [==============================] - 2s 40us/step - loss: 0.1111 - val_loss: 0.1146\n",
            "Epoch 96/100\n",
            "32000/60000 [===============>..............] - ETA: 1s - loss: 0.1111"
          ],
          "name": "stdout"
        },
        {
          "output_type": "stream",
          "text": [
            "60000/60000 [==============================] - 2s 40us/step - loss: 0.1112 - val_loss: 0.1142\n",
            "Epoch 97/100\n",
            "60000/60000 [==============================] - 2s 40us/step - loss: 0.1112 - val_loss: 0.1145\n",
            "Epoch 98/100\n",
            "60000/60000 [==============================] - 2s 40us/step - loss: 0.1110 - val_loss: 0.1144\n",
            "Epoch 99/100\n",
            "60000/60000 [==============================] - 2s 40us/step - loss: 0.1110 - val_loss: 0.1146\n",
            "Epoch 100/100\n",
            "60000/60000 [==============================] - 2s 40us/step - loss: 0.1110 - val_loss: 0.1142\n"
          ],
          "name": "stdout"
        },
        {
          "output_type": "execute_result",
          "data": {
            "text/plain": [
              "<keras.callbacks.History at 0x7fa6b7b49978>"
            ]
          },
          "metadata": {
            "tags": []
          },
          "execution_count": 11
        }
      ]
    },
    {
      "metadata": {
        "id": "RdU08UVm8hpP",
        "colab_type": "code",
        "colab": {
          "autoexec": {
            "startup": false,
            "wait_interval": 0
          },
          "base_uri": "https://localhost:8080/",
          "height": 333
        },
        "outputId": "de61fa5a-ac4c-46fd-b03b-63ae5b7a962b",
        "executionInfo": {
          "status": "ok",
          "timestamp": 1526290747085,
          "user_tz": -120,
          "elapsed": 3009,
          "user": {
            "displayName": "Jordi Vitrià",
            "photoUrl": "//lh6.googleusercontent.com/-Gjm4qgDBAbI/AAAAAAAAAAI/AAAAAAAAMMU/-Sb9eg_mX-I/s50-c-k-no/photo.jpg",
            "userId": "109730415698462856688"
          }
        }
      },
      "cell_type": "code",
      "source": [
        "decoded_imgs = model.predict(x_test)\n",
        "n = 10\n",
        "plt.figure(figsize=(15, 6))\n",
        "for i in range(1, n):\n",
        "    # display original\n",
        "    ax = plt.subplot(3, n, i)\n",
        "    plt.imshow(x_test[i].reshape(28, 28))\n",
        "    plt.gray()\n",
        "    ax.get_xaxis().set_visible(False)\n",
        "    ax.get_yaxis().set_visible(False)\n",
        "\n",
        "    # display noisy\n",
        "    ax = plt.subplot(3, n, i + n)\n",
        "    plt.imshow(x_test_noisy[i].reshape(28, 28))\n",
        "    plt.gray()\n",
        "    ax.get_xaxis().set_visible(False)\n",
        "    ax.get_yaxis().set_visible(False)\n",
        "\n",
        "    # display reconstruction\n",
        "    ax = plt.subplot(3, n, i + 2*n)\n",
        "    plt.imshow(decoded_imgs[i].reshape(28, 28))\n",
        "    plt.gray()\n",
        "    ax.get_xaxis().set_visible(False)\n",
        "    ax.get_yaxis().set_visible(False)\n",
        "plt.show()"
      ],
      "execution_count": 14,
      "outputs": [
        {
          "output_type": "display_data",
          "data": {
            "image/png": "[encoded data removed]",
            "text/plain": [
              "<matplotlib.figure.Figure at 0x7fa707db7f98>"
            ]
          },
          "metadata": {
            "tags": []
          }
        }
      ]
    },
    {
      "metadata": {
        "id": "RImSsDWw8hpS",
        "colab_type": "text"
      },
      "cell_type": "markdown",
      "source": [
        "## Variational Autoencoders\n",
        "\n",
        "A variational autoencoder is an autoencoder that adds probabilistic constraints on the representations being learned. \n",
        "\n",
        "> When using probabilistic models, **compressed representation** is called **latent variable model**. \n",
        "\n",
        "So, instead of learning a function this model is learning a probabilistic distribution function that models your data.\n",
        "\n",
        "> Why? Standard autoencoders are not suited to work as a generative model. If you pick a random value for your decoder you won't get necessarily a good reconstruction: the value can far away from any previous value the network has seen before! That's why attaching a probabilistic model to the compressed representation is a good idea! \n",
        "\n",
        "For sake of simplicity, let's use a standard normal distribution to define the distribution of inputs ($\\mathbf V$) the decoder will receive. \n",
        "\n",
        "The architecture of a variational autoencoder (VAE) is thus:"
      ]
    },
    {
      "metadata": {
        "id": "uvVQIGE08hpS",
        "colab_type": "text"
      },
      "cell_type": "markdown",
      "source": [
        "<center>\n",
        "<img src=\"images/vae1.png\" alt=\"\" style=\"width: 300px;\"/> \n",
        "(Source: http://ijdykeman.github.io/ml/2016/12/21/cvae.html)\n",
        "</center>"
      ]
    },
    {
      "metadata": {
        "id": "uPefv7SY8hpT",
        "colab_type": "text"
      },
      "cell_type": "markdown",
      "source": [
        "We want the decoder to take any point taken from a standard normal distribution to return a reasonable element of our dataset:\n",
        "\n",
        "<center>\n",
        "<img src=\"images/vae2.png\" alt=\"\" style=\"width: 500px;\"/> \n",
        "(Source: http://ijdykeman.github.io/ml/2016/12/21/cvae.html)\n",
        "</center>"
      ]
    },
    {
      "metadata": {
        "id": "fQKKsV2g8hpU",
        "colab_type": "text"
      },
      "cell_type": "markdown",
      "source": [
        "Let's consider the encoder role in this architecture. \n",
        "\n",
        "In a traditional autoencoder, the encoder model takes a sample from data and returns a single point in the latent space, which is then passed to the decoder.\n",
        "\n",
        "In VAE the encoder instead produces (the parameters of) a probability distribution in the latent space:\n",
        "\n",
        "<center>\n",
        "<img src=\"images/vae3.png\" alt=\"\" style=\"width: 500px;\"/> \n",
        "(Source: http://ijdykeman.github.io/ml/2016/12/21/cvae.html)\n",
        "</center>\n",
        "\n",
        "These distributions are (non standard) Gaussians of the same dimensionality as the latent space. "
      ]
    },
    {
      "metadata": {
        "id": "S9UfZpYt8hpV",
        "colab_type": "text"
      },
      "cell_type": "markdown",
      "source": [
        "### Implementation\n",
        "\n",
        "First, let’s implement the encoder net, which takes input $X$ and outputs two things: $\\mu(X)$ and $\\Sigma(X)$, the parameters of the Gaussian. Our encoder will be based in a convolutional neural net. \n",
        "\n",
        "Our latent variable is two dimensional, so that we could easily visualize it."
      ]
    },
    {
      "metadata": {
        "id": "qcJ-KaseMpah",
        "colab_type": "code",
        "colab": {
          "autoexec": {
            "startup": false,
            "wait_interval": 0
          },
          "base_uri": "https://localhost:8080/",
          "height": 34
        },
        "outputId": "4afaa1f5-7a7a-4df0-c2a9-fccae5a03304",
        "executionInfo": {
          "status": "ok",
          "timestamp": 1526322671531,
          "user_tz": -120,
          "elapsed": 2217,
          "user": {
            "displayName": "Jordi Vitrià",
            "photoUrl": "//lh6.googleusercontent.com/-Gjm4qgDBAbI/AAAAAAAAAAI/AAAAAAAAMMU/-Sb9eg_mX-I/s50-c-k-no/photo.jpg",
            "userId": "109730415698462856688"
          }
        }
      },
      "cell_type": "code",
      "source": [
        "import keras\n",
        "from keras import layers\n",
        "from keras import backend as K\n",
        "from keras.models import Model\n",
        "import numpy as np\n",
        "\n",
        "img_shape = (28, 28, 1)\n",
        "batch_size = 16\n",
        "latent_dim = 2  # Dimensionality of the latent space: a plane\n",
        "\n",
        "input_img = keras.Input(shape=img_shape)\n",
        "\n",
        "# encoder\n",
        "\n",
        "x = layers.Conv2D(32, 3,\n",
        "                  padding='same', activation='relu')(input_img)\n",
        "x = layers.Conv2D(64, 3,\n",
        "                  padding='same', activation='relu',\n",
        "                  strides=(2, 2))(x)\n",
        "x = layers.Conv2D(64, 3,\n",
        "                  padding='same', activation='relu')(x)\n",
        "x = layers.Conv2D(64, 3,\n",
        "                  padding='same', activation='relu')(x)\n",
        "\n",
        "shape_before_flattening = K.int_shape(x)\n",
        "\n",
        "x = layers.Flatten()(x)\n",
        "x = layers.Dense(32, activation='relu')(x)\n",
        "\n",
        "z_mean = layers.Dense(latent_dim)(x)\n",
        "z_log_var = layers.Dense(latent_dim)(x)"
      ],
      "execution_count": 1,
      "outputs": [
        {
          "output_type": "stream",
          "text": [
            "Using TensorFlow backend.\n"
          ],
          "name": "stderr"
        }
      ]
    },
    {
      "metadata": {
        "id": "0YiElDut8hpX",
        "colab_type": "text"
      },
      "cell_type": "markdown",
      "source": [
        "Up to now we have an encoder that takes images and produce (the parameters of) a pdf in the latent space.  \n",
        "\n",
        "The decoder takes points in the latent space and return reconstructions.\n",
        "\n",
        "How do we connect both models? By sampling from the produced distribution!\n",
        "\n",
        "\n",
        "<center>\n",
        "<img src=\"images/vae4.png\" alt=\"\" style=\"width: 400px;\"/> \n",
        "(Source: http://ijdykeman.github.io/ml/2016/12/21/cvae.html)\n",
        "</center>"
      ]
    },
    {
      "metadata": {
        "id": "ttMkBRov8hpY",
        "colab_type": "text"
      },
      "cell_type": "markdown",
      "source": [
        "To this end we will implement a *random variate reparameterisation*: the substitution of a random variable by a deterministic transformation of a simpler random variable.\n",
        "\n",
        "There are several methods by which non-uniform random numbers, or random variates, can be generated. The most popular methods are the **one-liners**, which give us the simple tools to generate random variates in one line of code, following the classic paper by Luc Devroye (Luc Devroye, Random variate generation in one line of code, Proceedings of the 28th conference on Winter simulation, 1996).\n",
        "\n",
        "In the case of a Gaussian, we can use the following algorithm:\n",
        "+ Generate $\\epsilon \\sim \\mathcal{N}(0;1)$.\n",
        "+ Compute a sample from $\\mathcal{N}(\\mu; RR^T)$ as $\\mu + R \\epsilon$."
      ]
    },
    {
      "metadata": {
        "id": "0O7QBAkl8hpZ",
        "colab_type": "code",
        "colab": {
          "autoexec": {
            "startup": false,
            "wait_interval": 0
          }
        }
      },
      "cell_type": "code",
      "source": [
        "def sampling(args):\n",
        "    z_mean, z_log_var = args\n",
        "    epsilon = K.random_normal(shape=(K.shape(z_mean)[0], latent_dim),\n",
        "                              mean=0., stddev=1.)\n",
        "    return z_mean + K.exp(z_log_var) * epsilon\n",
        "\n",
        "z = layers.Lambda(sampling)([z_mean, z_log_var])"
      ],
      "execution_count": 0,
      "outputs": []
    },
    {
      "metadata": {
        "id": "ufTMs1_r8hpb",
        "colab_type": "text"
      },
      "cell_type": "markdown",
      "source": [
        "Now we can create the decoder net. In order to be coherent with our previous definitions, we must assure that points sampled fron the latent space fit a standard normal distribition, but the encoder is producing non standard normal distributions. So, we must add a constraint for getting something like this:\n",
        "\n",
        "<center>\n",
        "<img src=\"images/vae5.png\" alt=\"\" style=\"width: 700px;\"/> \n",
        "(Source: http://ijdykeman.github.io/ml/2016/12/21/cvae.html)\n",
        "</center>\n",
        "\n",
        "In order to impose this constraint in the loss function by using the Kullback-Leibler divergence.\n",
        "\n",
        "> The Kullback–Leibler divergence is a measure of how one probability distribution diverges from a second expected probability distribution. \n",
        "For discrete probability distributions $P$ and $Q$, the Kullback–Leibler divergence from $Q$ to $P$ is defined to be\n",
        "$$ D_{\\mathrm {KL} }(P\\|Q)=\\sum _{i}P(i)\\,\\log {\\frac {P(i)}{Q(i)}}. $$\n",
        "\n",
        "The rest of the loss function must take into account the \"reconstruction\" error.\n"
      ]
    },
    {
      "metadata": {
        "id": "JxwzwxJs8hpc",
        "colab_type": "code",
        "colab": {
          "autoexec": {
            "startup": false,
            "wait_interval": 0
          },
          "base_uri": "https://localhost:8080/",
          "height": 608
        },
        "outputId": "fc99196c-f232-4385-c665-73b8e2a07be0",
        "executionInfo": {
          "status": "ok",
          "timestamp": 1526322953589,
          "user_tz": -120,
          "elapsed": 700,
          "user": {
            "displayName": "Jordi Vitrià",
            "photoUrl": "//lh6.googleusercontent.com/-Gjm4qgDBAbI/AAAAAAAAAAI/AAAAAAAAMMU/-Sb9eg_mX-I/s50-c-k-no/photo.jpg",
            "userId": "109730415698462856688"
          }
        }
      },
      "cell_type": "code",
      "source": [
        "# This is the input where we will feed `z`.\n",
        "decoder_input = layers.Input(K.int_shape(z)[1:])\n",
        "\n",
        "# Upsample to the correct number of units\n",
        "x = layers.Dense(np.prod(shape_before_flattening[1:]),\n",
        "                 activation='relu')(decoder_input)\n",
        "\n",
        "# Reshape into an image of the same shape as before our last `Flatten` layer\n",
        "x = layers.Reshape(shape_before_flattening[1:])(x)\n",
        "\n",
        "# We then apply then reverse operation to the initial\n",
        "# stack of convolution layers: a `Conv2DTranspose` layers\n",
        "# with corresponding parameters.\n",
        "x = layers.Conv2DTranspose(32, 3,\n",
        "                           padding='same', activation='relu',\n",
        "                           strides=(2, 2))(x)\n",
        "x = layers.Conv2D(1, 3,\n",
        "                  padding='same', activation='sigmoid')(x)\n",
        "# We end up with a feature map of the same size as the original input.\n",
        "\n",
        "# This is our decoder model.\n",
        "decoder = Model(decoder_input, x)\n",
        "\n",
        "# We then apply it to `z` to recover the decoded `z`.\n",
        "z_decoded = decoder(z)\n",
        "\n",
        "class CustomVariationalLayer(keras.layers.Layer):\n",
        "\n",
        "    def vae_loss(self, x, z_decoded):\n",
        "        x = K.flatten(x)\n",
        "        z_decoded = K.flatten(z_decoded)\n",
        "        xent_loss = keras.metrics.binary_crossentropy(x, z_decoded)\n",
        "        kl_loss = -5e-4 * K.mean(\n",
        "            1 + z_log_var - K.square(z_mean) - K.exp(z_log_var), axis=-1)\n",
        "        return K.mean(xent_loss + kl_loss)\n",
        "\n",
        "    def call(self, inputs):\n",
        "        x = inputs[0]\n",
        "        z_decoded = inputs[1]\n",
        "        loss = self.vae_loss(x, z_decoded)\n",
        "        self.add_loss(loss, inputs=inputs)\n",
        "        # We don't use this output.\n",
        "        return x\n",
        "\n",
        "# We call our custom layer on the input and the decoded output,\n",
        "# to obtain the final model output.\n",
        "y = CustomVariationalLayer()([input_img, z_decoded])\n",
        "\n",
        "from keras.datasets import mnist\n",
        "\n",
        "vae = Model(input_img, y)\n",
        "vae.compile(optimizer='rmsprop', loss=None)\n",
        "vae.summary()"
      ],
      "execution_count": 4,
      "outputs": [
        {
          "output_type": "stream",
          "text": [
            "__________________________________________________________________________________________________\n",
            "Layer (type)                    Output Shape         Param #     Connected to                     \n",
            "==================================================================================================\n",
            "input_1 (InputLayer)            (None, 28, 28, 1)    0                                            \n",
            "__________________________________________________________________________________________________\n",
            "conv2d_1 (Conv2D)               (None, 28, 28, 32)   320         input_1[0][0]                    \n",
            "__________________________________________________________________________________________________\n",
            "conv2d_2 (Conv2D)               (None, 14, 14, 64)   18496       conv2d_1[0][0]                   \n",
            "__________________________________________________________________________________________________\n",
            "conv2d_3 (Conv2D)               (None, 14, 14, 64)   36928       conv2d_2[0][0]                   \n",
            "__________________________________________________________________________________________________\n",
            "conv2d_4 (Conv2D)               (None, 14, 14, 64)   36928       conv2d_3[0][0]                   \n",
            "__________________________________________________________________________________________________\n",
            "flatten_1 (Flatten)             (None, 12544)        0           conv2d_4[0][0]                   \n",
            "__________________________________________________________________________________________________\n",
            "dense_1 (Dense)                 (None, 32)           401440      flatten_1[0][0]                  \n",
            "__________________________________________________________________________________________________\n",
            "dense_2 (Dense)                 (None, 2)            66          dense_1[0][0]                    \n",
            "__________________________________________________________________________________________________\n",
            "dense_3 (Dense)                 (None, 2)            66          dense_1[0][0]                    \n",
            "__________________________________________________________________________________________________\n",
            "lambda_1 (Lambda)               (None, 2)            0           dense_2[0][0]                    \n",
            "                                                                 dense_3[0][0]                    \n",
            "__________________________________________________________________________________________________\n",
            "model_1 (Model)                 (None, 28, 28, 1)    56385       lambda_1[0][0]                   \n",
            "__________________________________________________________________________________________________\n",
            "custom_variational_layer_1 (Cus [(None, 28, 28, 1),  0           input_1[0][0]                    \n",
            "                                                                 model_1[1][0]                    \n",
            "==================================================================================================\n",
            "Total params: 550,629\n",
            "Trainable params: 550,629\n",
            "Non-trainable params: 0\n",
            "__________________________________________________________________________________________________\n"
          ],
          "name": "stdout"
        },
        {
          "output_type": "stream",
          "text": [
            "/usr/local/lib/python3.6/dist-packages/ipykernel_launcher.py:51: UserWarning: Output \"custom_variational_layer_1\" missing from loss dictionary. We assume this was done on purpose, and we will not be expecting any data to be passed to \"custom_variational_layer_1\" during training.\n"
          ],
          "name": "stderr"
        }
      ]
    },
    {
      "metadata": {
        "id": "9Xd3P7q-8hpj",
        "colab_type": "text"
      },
      "cell_type": "markdown",
      "source": [
        "### Training a VAE\n",
        "\n",
        "How do we train a model that have a sampling step? \n",
        "\n",
        "<center>\n",
        "<img src=\"images/vae_sampling.png\" alt=\"\" style=\"width: 800px;\"/> \n",
        "</center>\n",
        "\n",
        "In fact this is not a problem! By using the *one-liner* method for sampling we have expressed the latent distribution in a way that its parameters are factored out of the parameters of the random variable so that backpropagation can be used to find the optimal parameters of the latent distribution. For this reason this method is called *reparametrization trick*.\n",
        "\n",
        "By using this trick we can train end-to-end a VAE with backpropagation."
      ]
    },
    {
      "metadata": {
        "id": "uj92vRKz8hpk",
        "colab_type": "code",
        "colab": {
          "autoexec": {
            "startup": false,
            "wait_interval": 0
          },
          "base_uri": "https://localhost:8080/",
          "height": 968
        },
        "outputId": "e429f80b-6ffd-430f-99eb-d6ce453ce992",
        "executionInfo": {
          "status": "ok",
          "timestamp": 1526336089427,
          "user_tz": -120,
          "elapsed": 4605673,
          "user": {
            "displayName": "Jordi Vitrià",
            "photoUrl": "//lh6.googleusercontent.com/-Gjm4qgDBAbI/AAAAAAAAAAI/AAAAAAAAMMU/-Sb9eg_mX-I/s50-c-k-no/photo.jpg",
            "userId": "109730415698462856688"
          }
        }
      },
      "cell_type": "code",
      "source": [
        "# Train the VAE on MNIST digits\n",
        "(x_train, _), (x_test, y_test) = mnist.load_data()\n",
        "\n",
        "x_train = x_train.astype('float32') / 255.\n",
        "x_train = x_train.reshape(x_train.shape + (1,))\n",
        "x_test = x_test.astype('float32') / 255.\n",
        "x_test = x_test.reshape(x_test.shape + (1,))\n",
        "\n",
        "vae.fit(x=x_train, y=None,\n",
        "        shuffle=True,\n",
        "        epochs=10,\n",
        "        batch_size=batch_size,\n",
        "        validation_data=(x_test, None))\n",
        "\n",
        "import matplotlib.pyplot as plt\n",
        "from scipy.stats import norm\n",
        "\n",
        "# Display a 2D manifold of the digits\n",
        "n = 15  # figure with 15x15 digits\n",
        "digit_size = 28\n",
        "figure = np.zeros((digit_size * n, digit_size * n))\n",
        "# Linearly spaced coordinates on the unit square were transformed\n",
        "# through the inverse CDF (ppf) of the Gaussian\n",
        "# to produce values of the latent variables z,\n",
        "# since the prior of the latent space is Gaussian\n",
        "grid_x = norm.ppf(np.linspace(0.05, 0.95, n))\n",
        "grid_y = norm.ppf(np.linspace(0.05, 0.95, n))\n",
        "\n",
        "for i, yi in enumerate(grid_x):\n",
        "    for j, xi in enumerate(grid_y):\n",
        "        z_sample = np.array([[xi, yi]])\n",
        "        z_sample = np.tile(z_sample, batch_size).reshape(batch_size, 2)\n",
        "        x_decoded = decoder.predict(z_sample, batch_size=batch_size)\n",
        "        digit = x_decoded[0].reshape(digit_size, digit_size)\n",
        "        figure[i * digit_size: (i + 1) * digit_size,\n",
        "               j * digit_size: (j + 1) * digit_size] = digit\n",
        "\n",
        "plt.figure(figsize=(10, 10))\n",
        "plt.imshow(figure, cmap='Greys_r')\n",
        "plt.show()"
      ],
      "execution_count": 8,
      "outputs": [
        {
          "output_type": "stream",
          "text": [
            "Train on 60000 samples, validate on 10000 samples\n",
            "Epoch 1/10\n",
            "12112/60000 [=====>........................] - ETA: 5:41 - loss: 0.1852"
          ],
          "name": "stdout"
        },
        {
          "output_type": "stream",
          "text": [
            "60000/60000 [==============================] - 451s 8ms/step - loss: 0.1857 - val_loss: 0.1857\n"
          ],
          "name": "stdout"
        },
        {
          "output_type": "stream",
          "text": [
            "Epoch 2/10\n",
            "59984/60000 [============================>.] - ETA: 0s - loss: 0.1855"
          ],
          "name": "stdout"
        },
        {
          "output_type": "stream",
          "text": [
            "60000/60000 [==============================] - 450s 7ms/step - loss: 0.1855 - val_loss: 0.1874\n",
            "Epoch 3/10\n",
            " 9024/60000 [===>..........................] - ETA: 6:20 - loss: 0.1847"
          ],
          "name": "stdout"
        },
        {
          "output_type": "stream",
          "text": [
            "60000/60000 [==============================] - 471s 8ms/step - loss: 0.1854 - val_loss: 0.1861\n"
          ],
          "name": "stdout"
        },
        {
          "output_type": "stream",
          "text": [
            "Epoch 4/10\n",
            "59984/60000 [============================>.] - ETA: 0s - loss: 0.1854"
          ],
          "name": "stdout"
        },
        {
          "output_type": "stream",
          "text": [
            "60000/60000 [==============================] - 473s 8ms/step - loss: 0.1854 - val_loss: 0.1887\n",
            "Epoch 5/10\n",
            " 9024/60000 [===>..........................] - ETA: 6:23 - loss: 0.1854"
          ],
          "name": "stdout"
        },
        {
          "output_type": "stream",
          "text": [
            "60000/60000 [==============================] - 470s 8ms/step - loss: 0.1853 - val_loss: 0.1859\n"
          ],
          "name": "stdout"
        },
        {
          "output_type": "stream",
          "text": [
            "Epoch 6/10\n",
            "59984/60000 [============================>.] - ETA: 0s - loss: 0.1851"
          ],
          "name": "stdout"
        },
        {
          "output_type": "stream",
          "text": [
            "60000/60000 [==============================] - 467s 8ms/step - loss: 0.1851 - val_loss: 0.1851\n",
            "Epoch 7/10\n",
            " 9024/60000 [===>..........................] - ETA: 6:14 - loss: 0.1846"
          ],
          "name": "stdout"
        },
        {
          "output_type": "stream",
          "text": [
            "60000/60000 [==============================] - 451s 8ms/step - loss: 0.1851 - val_loss: 0.1876\n"
          ],
          "name": "stdout"
        },
        {
          "output_type": "stream",
          "text": [
            "Epoch 8/10\n",
            "59984/60000 [============================>.] - ETA: 0s - loss: 0.1851"
          ],
          "name": "stdout"
        },
        {
          "output_type": "stream",
          "text": [
            "60000/60000 [==============================] - 449s 7ms/step - loss: 0.1851 - val_loss: 0.1867\n",
            "Epoch 9/10\n",
            " 9024/60000 [===>..........................] - ETA: 6:09 - loss: 0.1848"
          ],
          "name": "stdout"
        },
        {
          "output_type": "stream",
          "text": [
            "60000/60000 [==============================] - 450s 8ms/step - loss: 0.1849 - val_loss: 0.1846\n"
          ],
          "name": "stdout"
        },
        {
          "output_type": "stream",
          "text": [
            "Epoch 10/10\n",
            "59984/60000 [============================>.] - ETA: 0s - loss: 0.1850"
          ],
          "name": "stdout"
        },
        {
          "output_type": "stream",
          "text": [
            "\b\b\b\b\b\b\b\b\b\b\b\b\b\b\b\b\b\b\b\b\b\b\b\b\b\b\b\b\b\b\b\b\b\b\b\b\b\b\b\b\b\b\b\b\b\b\b\b\b\b\b\b\b\b\b\b\b\b\b\b\b\b\b\b\b\b\b\b\b\r60000/60000 [==============================] - 470s 8ms/step - loss: 0.1850 - val_loss: 0.1845\n"
          ],
          "name": "stdout"
        },
        {
          "output_type": "display_data",
          "data": {
            "image/png": "[encoded data removed]",
            "text/plain": [
              "<matplotlib.figure.Figure at 0x7f46896d4470>"
            ]
          },
          "metadata": {
            "tags": []
          }
        }
      ]
    },
    {
      "metadata": {
        "id": "O0qJFe0i8hp0",
        "colab_type": "text"
      },
      "cell_type": "markdown",
      "source": [
        "### Conditional VAE\n",
        "\n",
        "What about producing specific number instances on demand?\n",
        "\n",
        "We can do this by adding an extra input (as a one-hot encoding) to both the encoder and the decoder:\n",
        "\n",
        "<center>\n",
        "<img src=\"images/vae6.png\" alt=\"\" style=\"width: 400px;\"/> \n",
        "(Source: http://ijdykeman.github.io/ml/2016/12/21/cvae.html)\n",
        "</center>"
      ]
    },
    {
      "metadata": {
        "id": "EOGVRt7M8hp1",
        "colab_type": "text"
      },
      "cell_type": "markdown",
      "source": [
        "To generate an image of a particular number just feed that number in the decoder along with a random point in the latent space.\n",
        "\n",
        "<center>\n",
        "<img src=\"images/vae7.png\" alt=\"\" style=\"width: 600px;\"/> \n",
        "(Source: http://ijdykeman.github.io/ml/2016/12/21/cvae.html)\n",
        "</center>\n",
        "\n",
        "The latent space is no longer encoding what number are you dealing with (because this is already encoded in the extra input!). Instead, it is encoding information such as stroke width, angle, etc."
      ]
    },
    {
      "metadata": {
        "id": "hJ2wrlEG8hp2",
        "colab_type": "text"
      },
      "cell_type": "markdown",
      "source": [
        "## Bibliography"
      ]
    },
    {
      "metadata": {
        "id": "NELXnqW-8hp4",
        "colab_type": "text"
      },
      "cell_type": "markdown",
      "source": [
        "+ Doersch, Carl. “Tutorial on variational autoencoders.” arXiv preprint arXiv:1606.05908 (2016).\n",
        "+ Kingma, Diederik P., and Max Welling. “Auto-encoding variational bayes.” arXiv preprint arXiv:1312.6114 (2013)."
      ]
    }
  ]
}
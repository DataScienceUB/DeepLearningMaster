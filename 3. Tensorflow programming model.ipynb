{
  "nbformat": 4,
  "nbformat_minor": 0,
  "metadata": {
    "colab": {
      "name": "3. Tensorflow programming model.ipynb",
      "version": "0.3.2",
      "provenance": [],
      "include_colab_link": true
    },
    "kernelspec": {
      "display_name": "Python 3",
      "language": "python",
      "name": "python3"
    }
  },
  "cells": [
    {
      "cell_type": "markdown",
      "metadata": {
        "id": "view-in-github",
        "colab_type": "text"
      },
      "source": [
        "<a href=\"https://colab.research.google.com/github/DataScienceUB/DeepLearningMaster2019/blob/master/3.%20Tensorflow%20programming%20model.ipynb\" target=\"_parent\"><img src=\"https://colab.research.google.com/assets/colab-badge.svg\" alt=\"Open In Colab\"/></a>"
      ]
    },
    {
      "metadata": {
        "nbpresent": {
          "id": "6ab1abd5-af7f-4e9e-96f1-0cf6c9d1b158"
        },
        "id": "cKf3AUdjAjms",
        "colab_type": "text"
      },
      "cell_type": "markdown",
      "source": [
        "# Tensorflow\n",
        "\n",
        "When starting off with deep learning, one of the first questions to ask is, which framework to learn?\n",
        "\n",
        "Common choices include Theano, TensorFlow, Torch, and Keras. All of these choices have their own pros and cons and have their own way of doing things.\n",
        "\n",
        "> From [**The Anatomy of Deep Learning Frameworks**](https://medium.com/@gokul_uf/the-anatomy-of-deep-learning-frameworks-46e2a7af5e47#.3ywhrk1st)\n",
        "\n",
        "> The core components of a deep learning framework we must consider are:\n",
        "\n",
        "> + How Tensor Objects are defined. At the heart of the framework is the tensor object. A tensor is a generalization of a matrix to n-dimensions. We need a Tensor Object that supports storing the data in form of tensors. Not just that, we would like the object to be able to convert other data types (images, text, video) into tensors and back, supporting indexing, overloading operators, having a space efficient way to store the data and so on.\n",
        "+ How Operations on the Tensor Object are defined. A neural network can be considered as a series of Operations performed on an input tensor to give an output. \n",
        "+ The use of a Computation Graph and its Optimizations. Instead of implementing operations as functions, they are usually implemented as **classes**. This allows us to store more information about the operation like calculated shape of the output (useful for sanity checks), how to compute the gradient or the gradient itself (for the auto-differentiation), have ways to be able to decide whether to compute the op on GPU or CPU and so on. The power of neural networks lies in the ability to chain multiple operations to form a powerful approximator. Therefore, the standard use case is that you can initialize a tensor, perform actions after actions on them and finally interpret the resulting tensor as labels or real values. Unfortunately, as you chain more and more operations together, several issues arise that can drastically slow down your code and introduce bugs as well. There are more such issues and it becomes necessary to be able to get a bigger picture to even notice that these issues exist. We need a way to optimize the resultant chain of operations for both space and time. A Computation Graph which is basically an object that contains links to the instances of various Ops and the relations between which operation takes the output of which operation as well as additional information. \n",
        "+ The use of Auto-differentiation tools. Another benefit of having the computational graph is that calculating gradients used in the learning phase becomes modular and straightforward to compute. \n",
        "+ The use of BLAS/cuBLAS and cuDNN extensions for maximizing performance. BLAS or Basic Linear Algebra Subprograms are a collection of optimized matrix operations, initially written in Fortran. These can be leveraged to do very fast matrix (tensor) operations and can provide significant speedups. There are many other software packages like Intel MKL, ATLAS which also perform similar functions. BLAS packages are usually optimized assuming that the instructions will be run on a CPU. In the deep learning situation, this is not the case and BLAS may not be able to fully exploit the parallelism offered by GPGPUs. To solve this issue, NVIDIA has released cuBLAS which is optimized for GPUs. This is now included with the CUDA toolkit.\n",
        "\n",
        "\n",
        "\n",
        "The computational model for Tensorflow (`tf`) is a **directed graph**.\n",
        "\n",
        "**Nodes** are *functions* (*operations* in `tf` terminology) and **edges** are *tensors*. \n",
        "\n",
        "**Tensor** are multidimensional data arrays. \n",
        "\n",
        "$$f(a,b) = (a*b) + (a+b)$$\n",
        "\n",
        "![alt text](https://github.com/DataScienceUB/DeepLearningMaster2019/blob/master/images/t1.png?raw=1)\n",
        "\n",
        "There are several reasons for this design:\n",
        "+ The most important is that is a good way to split up computation into small, **easily differentiable** pieces. `tf` uses automatic differentiation to automatically compute the derivative of every node with respect any other node that can affect the first node's output.\n",
        "+ The grah is also a convenient way for distributing computation across multiple CPUs, GPUs, etc.\n",
        "\n",
        "The primary API of `tf` (written in C++) is accessed through Python.\n"
      ]
    },
    {
      "metadata": {
        "nbpresent": {
          "id": "47a4bdec-f25c-4842-9025-77aa6ace8805"
        },
        "id": "MdCs0DpnAjmu",
        "colab_type": "text"
      },
      "cell_type": "markdown",
      "source": [
        "There are different way of installing `tf`:\n",
        "\n",
        "+ Pip install: May impact existing Python programs on your machine.\n",
        "+ Virtualenv install: Install TensorFlow in its own directory, not impacting any existing Python programs on your machine.\n",
        "+ Anaconda install (Windows: only Python 3, not Python 2.7): Install TensorFlow in its own environment for those running the Anaconda Python distribution. Does not impact existing Python programs on your machine.\n",
        "+ Docker install: Run TensorFlow in a Docker container isolated from all other programs on your machine. It allows coexisting ``tf`` versions.\n",
        "+ Installing from sources: Install TensorFlow by building a pip wheel that you then install using pip.\n",
        "\n",
        "Our preferred way is Docker install."
      ]
    },
    {
      "metadata": {
        "nbpresent": {
          "id": "20019a20-ae7f-4beb-8cd4-d68150382b1e"
        },
        "id": "3kCv6uNhAjmv",
        "colab_type": "text"
      },
      "cell_type": "markdown",
      "source": [
        "## Fundamentals\n",
        "\n",
        "`tf` computation graphs are described in code with `tf` API."
      ]
    },
    {
      "metadata": {
        "nbpresent": {
          "id": "6937c67a-43fa-4f1e-ab3d-89a199c83eb0"
        },
        "id": "-L-ABfFnAjmv",
        "colab_type": "code",
        "colab": {}
      },
      "cell_type": "code",
      "source": [
        "import tensorflow as tf\n",
        "print(tf.__version__)"
      ],
      "execution_count": 0,
      "outputs": []
    },
    {
      "metadata": {
        "code_folding": [],
        "nbpresent": {
          "id": "aae85c45-c89c-401a-9131-01e07651e0af"
        },
        "id": "e5RjdbW8Ajmy",
        "colab_type": "code",
        "colab": {}
      },
      "cell_type": "code",
      "source": [
        "# Basic constant operations = to assign a value to a tensor\n",
        "a = tf.constant(2)\n",
        "b = tf.constant(3)\n",
        "c = a+b \n",
        "d = a*b\n",
        "e = c+d\n",
        "\n",
        "# non interactive session\n",
        "\n",
        "with tf.Session() as sess:\n",
        "    print(\"a=2\")\n",
        "    print(\"b=3\")\n",
        "    print(\"(a+b)+(a*b) = %i\" % sess.run(e))"
      ],
      "execution_count": 0,
      "outputs": []
    },
    {
      "metadata": {
        "id": "66Gd_bfpAjm0",
        "colab_type": "text"
      },
      "cell_type": "markdown",
      "source": [
        "You can create initialized tensors in many ways:"
      ]
    },
    {
      "metadata": {
        "id": "tdXwko77Ajm1",
        "colab_type": "code",
        "colab": {}
      },
      "cell_type": "code",
      "source": [
        "a = tf.zeros([2,3], tf.int32)\n",
        "b = tf.ones([2,3], tf.int32)\n",
        "c = tf.fill([3,3], 23.9)\n",
        "d = tf.range(0,10,1)\n",
        "\n",
        "with tf.Session() as sess:\n",
        "    print(sess.run(a))\n",
        "    print(sess.run(b))\n",
        "    print(sess.run(c))\n",
        "    print(sess.run(d))"
      ],
      "execution_count": 0,
      "outputs": []
    },
    {
      "metadata": {
        "id": "x5Z3H_tEAjm3",
        "colab_type": "text"
      },
      "cell_type": "markdown",
      "source": [
        "``tf`` sequences are not iterable!\n",
        "\n",
        "We can also generate random variables:"
      ]
    },
    {
      "metadata": {
        "id": "ic-M439_Ajm4",
        "colab_type": "code",
        "colab": {}
      },
      "cell_type": "code",
      "source": [
        "a = tf.random_normal([2,2], 0.0, 1.0)\n",
        "b = tf.random_uniform([2,2], 0.0, 1.0)\n",
        "\n",
        "with tf.Session() as sess:\n",
        "    print(sess.run(a))\n",
        "    print(sess.run(b))"
      ],
      "execution_count": 0,
      "outputs": []
    },
    {
      "metadata": {
        "id": "I_SM65uPAjm5",
        "colab_type": "text"
      },
      "cell_type": "markdown",
      "source": [
        "How to generate random shuffled number in tensorflow?"
      ]
    },
    {
      "metadata": {
        "id": "x5rWjqI-Ajm6",
        "colab_type": "code",
        "colab": {}
      },
      "cell_type": "code",
      "source": [
        "idx = tf.constant(20)\n",
        "idx_list = tf.range(idx) # 0~19\n",
        "shuffle = tf.random_shuffle(idx_list)\n",
        "\n",
        "with tf.Session() as sess:\n",
        "    a, b = sess.run([idx_list, shuffle])\n",
        "    print(a)\n",
        "    print(b)"
      ],
      "execution_count": 0,
      "outputs": []
    },
    {
      "metadata": {
        "code_folding": [],
        "nbpresent": {
          "id": "3fd06df9-1eec-447c-bed7-d88be2d8d4d9"
        },
        "id": "GfeJ94GWAjm7",
        "colab_type": "code",
        "colab": {}
      },
      "cell_type": "code",
      "source": [
        "# Basic operations with variable graph input\n",
        "\n",
        "a = tf.placeholder(tf.int16)\n",
        "b = tf.placeholder(tf.int16)\n",
        "c = tf.add(a,b) \n",
        "d = tf.multiply(a,b)\n",
        "e = tf.add(c,d)\n",
        "\n",
        "values = feed_dict={a: 5, b: 3}\n",
        "\n",
        "# non interactive session\n",
        "\n",
        "with tf.Session() as sess:\n",
        "    print('a = %i' % sess.run(a, values))\n",
        "    print('b = %i' % sess.run(b, values))\n",
        "    print(\"(a+b)+(a*b) = %i\" % sess.run(e, values))"
      ],
      "execution_count": 0,
      "outputs": []
    },
    {
      "metadata": {
        "nbpresent": {
          "id": "92384d6d-bed6-4e4e-bfc1-ddf88de0963e"
        },
        "id": "LMSbJ3ydAjm9",
        "colab_type": "text"
      },
      "cell_type": "markdown",
      "source": [
        "A computational graph is a series of functions chained together, each passing its output to zero, one or more functions further along the chain.\n",
        "\n",
        "In this way we can construct very complex transformations on data by using a library of simple functions.\n",
        "\n",
        "Nodes represent some sort of computation beign done in the graph context.\n",
        "\n",
        "Edges are the actual values (tensors) that get passed to and from nodes.\n",
        "\n",
        "![alt text](https://github.com/DataScienceUB/DeepLearningMaster2019/blob/master/images/t2.png?raw=1)\n",
        "\n",
        "+ The values flowing into the graph can come from different sources: from a different graph, from a file, entered by the client, etc. The *input* nodes simply pass on values given to them.\n",
        "+ The other nodes take values, apply an operation and output their result. \n",
        "\n",
        "Values running on edges are tensors:"
      ]
    },
    {
      "metadata": {
        "nbpresent": {
          "id": "a4071b69-ab10-4ccd-93ed-b445d8ba7299"
        },
        "id": "nnUc1We8Ajm-",
        "colab_type": "code",
        "colab": {}
      },
      "cell_type": "code",
      "source": [
        "# Basic operations with variable as graph input\n",
        "\n",
        "a = tf.placeholder(tf.int16,shape=[2])\n",
        "b = tf.placeholder(tf.int16,shape=[2])\n",
        "c = tf.add(a,b) \n",
        "d = tf.multiply(a,b)\n",
        "e = tf.add(c,d)\n",
        "\n",
        "variables = feed_dict={a: [2,2], b: [3,3]}\n",
        "\n",
        "# non interactive session\n",
        "\n",
        "with tf.Session() as sess:\n",
        "    print(sess.run(a, variables))\n",
        "    print(sess.run(b, variables))\n",
        "    print(sess.run(e, variables))"
      ],
      "execution_count": 0,
      "outputs": []
    },
    {
      "metadata": {
        "nbpresent": {
          "id": "e8e3c449-56f2-4b1e-9112-6b013cfc6ec6"
        },
        "id": "LKKR-JUUAjnB",
        "colab_type": "text"
      },
      "cell_type": "markdown",
      "source": [
        "### Exercise\n",
        "\n",
        "Implement this computational graph:\n",
        "\n",
        "![alt text](https://github.com/DataScienceUB/DeepLearningMaster2019/blob/master/images/t3.png?raw=1)\n"
      ]
    },
    {
      "metadata": {
        "code_folding": [],
        "nbpresent": {
          "id": "77252053-4889-4a38-a497-49465a2e9ac1"
        },
        "id": "FftsweNpAjnB",
        "colab_type": "code",
        "colab": {}
      },
      "cell_type": "code",
      "source": [
        "# your code here\n"
      ],
      "execution_count": 0,
      "outputs": []
    },
    {
      "metadata": {
        "nbpresent": {
          "id": "86c6424a-3e4a-4e6c-98f1-f9917cc659c8"
        },
        "id": "6gD413umAjnD",
        "colab_type": "text"
      },
      "cell_type": "markdown",
      "source": [
        "There are certein connections between nodes that are not allowed: you cannot create **circular dependencies**.\n",
        "\n",
        "> Dependency: Any node A that is required for the computation of a later node B is said to be a **dependency** of B.\n",
        "\n",
        "The main reason is that dependencies create endless feedback loops.\n",
        "\n",
        "There is one exception to this rule: recurrent neural networks. In this case `tf` simulate this kind of dependences by copying a **finite** number of versions of the graph, placing them side-by-side, and feeding them into another sequence. This process is referred as **unrolling** the graph.\n",
        "\n",
        "![alt text](https://github.com/DataScienceUB/DeepLearningMaster2019/blob/master/images/t4.png?raw=1)\n",
        "\n",
        "Keeping track of dependencies is a basic feature of `tf`. Let's suppose that we want to compute the output value of the `mul` node. We can see in the unrolled graph that is not necessary to compute the full graph to get the output of that node. But how to ensure that we only compute the necessary nodes?\n",
        "\n",
        "It's pretty easy:\n",
        "+ Build a list for each node with all nodes it directly depends on (not indirectly!). \n",
        "+ Initialize an empty stack, wich will eventually hold all the nodes we want to compute. \n",
        "+ Put the node you want to get the output from. \n",
        "+ Recursively, look at its dependency list and add to the stack the nodes it depends on, until there are no dependencies left to run and in this way we guarantee that we have all the nodes we need.\n",
        "\n",
        "The stack will be ordered in a way that we are guaranteed to be able to run each node in the stack as we iterate through it. \n",
        "\n",
        "The main thing to look out for is to keep track of nodes that were already computed and to store their value in memory.\n"
      ]
    },
    {
      "metadata": {
        "nbpresent": {
          "id": "f3a49756-9e22-421c-a0d3-8bc670856ab0"
        },
        "id": "yeHj0jDMAjnF",
        "colab_type": "text"
      },
      "cell_type": "markdown",
      "source": [
        "As we have seen in previous code, `tf` workflow is a two-step process:\n",
        "\n",
        "+ Define the computation graph.\n",
        "+ Run the graph with data."
      ]
    },
    {
      "metadata": {
        "nbpresent": {
          "id": "24af87db-9051-4768-9064-079dc5e9b965"
        },
        "id": "Uxfu2uWMAjnF",
        "colab_type": "code",
        "colab": {}
      },
      "cell_type": "code",
      "source": [
        "# graph definition\n",
        "# we can assign a name to every node\n",
        "\n",
        "a = tf.placeholder(tf.int32, name='input_a')\n",
        "b = tf.placeholder(tf.int32, name='input_b')\n",
        "c = tf.add(a,b,name='add_1') \n",
        "d = tf.multiply(a,b,name='mul_1')\n",
        "e = tf.add(c,d,name='add_2')\n",
        "\n",
        "values = feed_dict={a: 5, b: 3}\n",
        "\n",
        "# now we can run the graph in an interactive session\n",
        "\n",
        "sess = tf.Session()\n",
        "print(sess.run(e, values))\n",
        "sess.close()"
      ],
      "execution_count": 0,
      "outputs": []
    },
    {
      "metadata": {
        "nbpresent": {
          "id": "efe7c304-c8de-4d24-8bd0-dbfa078133b5"
        },
        "id": "E-MSK9L7AjnH",
        "colab_type": "text"
      },
      "cell_type": "markdown",
      "source": [
        "`tf` has a very useful tool: `tensor-board`. Let's see how to use it. "
      ]
    },
    {
      "metadata": {
        "nbpresent": {
          "id": "c14452d1-3454-4704-b59a-e18b8251103b"
        },
        "id": "tfkXlssXAjnI",
        "colab_type": "code",
        "colab": {}
      },
      "cell_type": "code",
      "source": [
        "# cleaning the tf graph space\n",
        "tf.reset_default_graph()\n",
        "\n",
        "a = tf.placeholder(tf.int16, name='input_a')\n",
        "b = tf.placeholder(tf.int16, name='input_b')\n",
        "c = tf.add(a,b,name='add_1') \n",
        "d = tf.multiply(a,b,name='mul_1')\n",
        "e = tf.add(c,d,name='add_2')\n",
        "\n",
        "values = feed_dict={a: 5, b: 3}\n",
        "\n",
        "# now we can run the graph\n",
        "\n",
        "# graphs are run by invoking Session objects\n",
        "session = tf.Session()\n",
        "\n",
        "# when you are passing an operation to 'run' you are \n",
        "# asking to run all operations necessary to compute that node\n",
        "\n",
        "# you can save the value of the node in a Python var\n",
        "output = session.run(e, values)\n",
        "print(output)\n",
        "\n",
        "# now let's visualize the graph\n",
        "\n",
        "# SummaryWriter is an object where we can save information\n",
        "# about the execution of the computational graph\n",
        "writer = tf.summary.FileWriter('my_graph', session.graph)\n",
        "writer.close()\n",
        "\n",
        "# closing interactive session\n",
        "session.close()\n",
        "print(output)"
      ],
      "execution_count": 0,
      "outputs": []
    },
    {
      "metadata": {
        "collapsed": true,
        "nbpresent": {
          "id": "33897391-05a6-4b4e-a235-9e162427f843"
        },
        "id": "EdGgjki5AjnK",
        "colab_type": "text"
      },
      "cell_type": "markdown",
      "source": [
        "Open a terminal and type in:\n",
        "\n",
        "`tensorboard --logdir=\"my_graph\"`\n",
        "\n",
        "This starts a `tensorboard` server on port 6006. There, click on the `Graphs` link. You can see that each of the nodes is labeled based on the `name` parameter you passed into each operation."
      ]
    },
    {
      "metadata": {
        "collapsed": true,
        "nbpresent": {
          "id": "757d1ac9-70da-430a-819a-903afd30e0bb"
        },
        "id": "QPCXd0LcAjnL",
        "colab_type": "text"
      },
      "cell_type": "markdown",
      "source": [
        "### Exercise\n",
        "\n",
        "Implement and visualize this graph for a constant tensor `[5,3]`:\n",
        "\n",
        "![alt text](https://github.com/DataScienceUB/DeepLearningMaster2019/blob/master/images/t5.png?raw=1)\n",
        "\n",
        "Check these functions in the `tf` official documentation (https://www.tensorflow.org/): `tf.reduce_prod`, `tf.reduce_sum`.\n"
      ]
    },
    {
      "metadata": {
        "nbpresent": {
          "id": "0cb9c1e0-21d6-4dfd-bfbe-582238143402"
        },
        "id": "siL8qrPtAjnM",
        "colab_type": "code",
        "colab": {}
      },
      "cell_type": "code",
      "source": [
        "# your code here\n",
        "\n"
      ],
      "execution_count": 0,
      "outputs": []
    },
    {
      "metadata": {
        "nbpresent": {
          "id": "1acdc391-57ed-4c09-854d-b7c8cb07701b"
        },
        "id": "E152EKBoAjnN",
        "colab_type": "text"
      },
      "cell_type": "markdown",
      "source": [
        "### `tf` input data \n",
        "\n",
        "`tf` can take several Python var types that are automatically converted to tensors:\n",
        "\n",
        "`tf.constant([5,3], name='input_a')`\n",
        "\n",
        "But `tf` has a plethora of other data types: `tf_int16`, `tf_quint8`, etc.\n",
        "\n",
        "`tf` is tightly integrated with NumPy. In fact, `tf` data types are based on those from NumPy. Tensors returned from `Session.run` are NumPy arrays. NumPy arrays is the recommended way of specifying tensors.\n",
        "\n",
        "The `shape` of tensors describe both the number of dimensions in a tensor  as well as the length of each dimension. In addition to to being able to specify fixed lengths to each dimension, you can also assign a flexible length by passing in `None` as dimension's value.\n"
      ]
    },
    {
      "metadata": {
        "nbpresent": {
          "id": "a637e0a1-a62b-49a1-99e2-d8eeb974fada"
        },
        "id": "ZIes75o6AjnO",
        "colab_type": "code",
        "colab": {}
      },
      "cell_type": "code",
      "source": [
        "import tensorflow as tf\n",
        "import numpy as np\n",
        "\n",
        "tf.reset_default_graph()\n",
        "\n",
        "a = tf.placeholder(tf.int16, shape=[2,2], name='input_a')\n",
        "shape = tf.shape(a)\n",
        "\n",
        "session = tf.Session()\n",
        "print(session.run(shape))\n",
        "session.close()"
      ],
      "execution_count": 0,
      "outputs": []
    },
    {
      "metadata": {
        "id": "jGCVowRKAjnQ",
        "colab_type": "text"
      },
      "cell_type": "markdown",
      "source": [
        "We can feed data points to placeholder by iterating through the data set:"
      ]
    },
    {
      "metadata": {
        "id": "Q9S_j5-LAjnQ",
        "colab_type": "code",
        "colab": {}
      },
      "cell_type": "code",
      "source": [
        "tf.reset_default_graph()\n",
        "\n",
        "list_a_values = [1,2,3]\n",
        "\n",
        "a = tf.placeholder(tf.int16)\n",
        "b = a * 2\n",
        "\n",
        "with tf.Session() as sess:\n",
        "    for a_value in list_a_values:\n",
        "        print(sess.run(b,{a: a_value}))"
      ],
      "execution_count": 0,
      "outputs": []
    },
    {
      "metadata": {
        "nbpresent": {
          "id": "c4c8921f-ec0b-4302-bd4e-23251c7cd7de"
        },
        "id": "Y0OgxUQwAjnS",
        "colab_type": "text"
      },
      "cell_type": "markdown",
      "source": [
        "### `tf` operations\n",
        "\n",
        "`tf` overloads common mathematical operations:"
      ]
    },
    {
      "metadata": {
        "nbpresent": {
          "id": "65a196d3-5416-4ccc-923c-29c06466427c"
        },
        "id": "2U9iE5MhAjnU",
        "colab_type": "code",
        "colab": {}
      },
      "cell_type": "code",
      "source": [
        "import tensorflow as tf\n",
        "\n",
        "tf.reset_default_graph()\n",
        "\n",
        "a = tf.placeholder(tf.int16)\n",
        "b = tf.placeholder(tf.int16)\n",
        "c = a+b \n",
        "d = a*b\n",
        "e = c+d\n",
        "\n",
        "variables = feed_dict={a: 5, b: 3}\n",
        "\n",
        "with tf.Session() as sess:\n",
        "    print(\"(a+b)+(a*b) = %i\" % sess.run(e, variables))"
      ],
      "execution_count": 0,
      "outputs": []
    },
    {
      "metadata": {
        "id": "LeHoB5xDAjnX",
        "colab_type": "text"
      },
      "cell_type": "markdown",
      "source": [
        "There are more [Tensorflow Operations](https://www.tensorflow.org/api_guides/python/math_ops)"
      ]
    },
    {
      "metadata": {
        "nbpresent": {
          "id": "6c4f248a-2039-4d50-946e-934257e12d29"
        },
        "id": "THZN4O8xAjnX",
        "colab_type": "text"
      },
      "cell_type": "markdown",
      "source": [
        "### `tf` graphs\n",
        "\n",
        "Creating a graph is simple:\n",
        "\n",
        "```python\n",
        "import tensorflow as tf\n",
        "g = tf.Graph()\n",
        "```"
      ]
    },
    {
      "metadata": {
        "nbpresent": {
          "id": "3d475195-dd8a-4ce5-8e90-f7bcd42008f4"
        },
        "id": "39TrGwdhAjnZ",
        "colab_type": "text"
      },
      "cell_type": "markdown",
      "source": [
        "Once the graph is initialized we can attach operation to it by using the `Graph.as_default()` method:\n",
        "\n",
        "```python\n",
        "with g.as_default():\n",
        "    a = tf.mul(2,3)\n",
        "    ...\n",
        "```\n",
        "\n",
        "`tf` automatically creates a graph at the beginning and assigns it to be the default. Thus, if not using `Graph.as_default()` any operation will be automatically placed in the default graph.\n",
        "\n",
        "Creating multiple graphs can be useful if you are defining multiple models that do not have interdependencies:\n",
        "\n",
        "```python\n",
        "g1 = tf.Graph()\n",
        "g2 = tf.Graph()\n",
        "\n",
        "with g1.as_default():\n",
        "    ...\n",
        "    \n",
        "with g2.as_default():\n",
        "    ...\n",
        "```"
      ]
    },
    {
      "metadata": {
        "collapsed": true,
        "nbpresent": {
          "id": "e0b483f6-ccce-4f20-b082-0546e7f5f1e7"
        },
        "id": "kuW8d0KDAjna",
        "colab_type": "text"
      },
      "cell_type": "markdown",
      "source": [
        "### `tf` Variables\n",
        "\n",
        "`Tensor` and `Operation` objects are immutable, but we need a mechanism to save changing values over time. \n",
        "\n",
        "This is accomplished with `Variable` objects, which contain mutable tensor values that persist accross multiple calls to `Session.run()`."
      ]
    },
    {
      "metadata": {
        "nbpresent": {
          "id": "8f062cb0-836d-47b9-a5fd-a9291431e3dc"
        },
        "id": "sh5DJMPTAjnb",
        "colab_type": "text"
      },
      "cell_type": "markdown",
      "source": [
        "Variables can be used anywhere you might use a tensor.\n",
        "\n",
        "`tf` has a number of helper operations to initialize variables: `tf-zeros()`, `tf_ones()`, `tf.random_uniform()`, `tf.random_normal()`, etc.\n",
        "\n",
        "`Variable` objects live in a `Graph` but their state is managed by `Session`. Because of these they need an extra step for inicialization:\n",
        "\n",
        "```python\n",
        "import tensorflow as tf\n",
        "tf.reset_default_graph()\n",
        "\n",
        "a = tf.Variable(3,name=\"my_var\")\n",
        "b = tf.add(5,a)\n",
        "\n",
        "with tf.Session() as sess:\n",
        "    sess.run(tf.initialize_all_variables())\n",
        "    ...\n",
        "\n",
        "```\n",
        "\n",
        "In order to chage the value of a `Variable` we can use the `Variable.assign()` method:"
      ]
    },
    {
      "metadata": {
        "nbpresent": {
          "id": "e46c73f6-5607-4af4-b22f-41f3f4dcec9e"
        },
        "id": "qyaYZ4usAjnc",
        "colab_type": "code",
        "colab": {}
      },
      "cell_type": "code",
      "source": [
        "import tensorflow as tf\n",
        "tf.global_variables_initializer()\n",
        "\n",
        "a = tf.Variable(3,name=\"my_var\")\n",
        "b = a.assign(tf.multiply(2,a))  # variables are objects, not ops.\n",
        "\n",
        "# The statement a.assign(...) does not actually assign any to a, \n",
        "# but rather creates a tf.Operation that you have to explicitly \n",
        "# run to update the variable.\n",
        "\n",
        "with tf.Session() as sess:\n",
        "    sess.run(tf.initialize_all_variables())\n",
        "    print(\"a:\",a.eval())   # variables are objects, not ops.\n",
        "    print(\"b:\", sess.run(b))\n",
        "    print(\"b:\", sess.run(b))\n",
        "    print(\"b:\", sess.run(b))"
      ],
      "execution_count": 0,
      "outputs": []
    },
    {
      "metadata": {
        "id": "SwMJKI2rAjne",
        "colab_type": "code",
        "colab": {}
      },
      "cell_type": "code",
      "source": [
        "tf.reset_default_graph()\n",
        "\n",
        "a = tf.Variable(3,name=\"my_var\")\n",
        "b = a.assign(tf.multiply(2,a))\n",
        "with tf.Session() as sess:\n",
        "    sess.run(tf.initialize_all_variables())\n",
        "    print(a.eval())"
      ],
      "execution_count": 0,
      "outputs": []
    },
    {
      "metadata": {
        "id": "zQHmAfCCAjnf",
        "colab_type": "code",
        "colab": {}
      },
      "cell_type": "code",
      "source": [
        "tf.global_variables_initializer()\n",
        "\n",
        "a = tf.Variable(3,name=\"my_var\")\n",
        "b = a.assign(tf.multiply(2,a))\n",
        "with tf.Session() as sess:\n",
        "    sess.run(tf.initialize_all_variables())\n",
        "    sess.run(b)\n",
        "    print(a.eval())"
      ],
      "execution_count": 0,
      "outputs": []
    },
    {
      "metadata": {
        "nbpresent": {
          "id": "defd975d-f087-4747-9b2f-06ccde7ee725"
        },
        "id": "rkufls0yAjnh",
        "colab_type": "text"
      },
      "cell_type": "markdown",
      "source": [
        "We can increment and decrement variables: "
      ]
    },
    {
      "metadata": {
        "nbpresent": {
          "id": "0eb291f0-5427-44ad-b55b-08fd1ce2ef01"
        },
        "id": "StzrNzbRAjni",
        "colab_type": "code",
        "colab": {}
      },
      "cell_type": "code",
      "source": [
        "import tensorflow as tf\n",
        "tf.global_variables_initializer()\n",
        "\n",
        "a = tf.Variable(3,name=\"my_var\")\n",
        "\n",
        "with tf.Session() as sess:\n",
        "    sess.run(tf.initialize_all_variables())\n",
        "    print(sess.run(a.assign_add(1)))\n",
        "    print(sess.run(a.assign_sub(1)))\n",
        "    print(sess.run(a.assign_sub(1)))\n",
        "    sess.run(tf.initialize_all_variables())\n",
        "    print(sess.run(a))"
      ],
      "execution_count": 0,
      "outputs": []
    },
    {
      "metadata": {
        "nbpresent": {
          "id": "ca99d481-e62a-45c3-960c-ad87b458d8cb"
        },
        "id": "vi6Rp1d1Ajnj",
        "colab_type": "text"
      },
      "cell_type": "markdown",
      "source": [
        "Some classes of `tf` (f.e. `Optimizer`) are able to automatically change variable values without explicitely asking to do so."
      ]
    },
    {
      "metadata": {
        "id": "C1blMCC2Ajnk",
        "colab_type": "text"
      },
      "cell_type": "markdown",
      "source": [
        "Tensorflow sessions maintain values separately, each Session can have its own current value for a variable defined in the graph:"
      ]
    },
    {
      "metadata": {
        "id": "xSJiRmn4Ajnl",
        "colab_type": "code",
        "colab": {}
      },
      "cell_type": "code",
      "source": [
        "tf.global_variables_initializer()\n",
        "\n",
        "a = tf.Variable(10)\n",
        "\n",
        "sess1 = tf.Session()\n",
        "sess2 = tf.Session()\n",
        "\n",
        "sess1.run(tf.initialize_all_variables())\n",
        "sess2.run(tf.initialize_all_variables())\n",
        "\n",
        "print(sess1.run(a.assign_add(10)))\n",
        "print(sess2.run(a.assign_sub(2)))\n",
        "\n",
        "sess1.close()\n",
        "sess2.close()"
      ],
      "execution_count": 0,
      "outputs": []
    },
    {
      "metadata": {
        "nbpresent": {
          "id": "ee6da6ee-dd82-49bf-8a6f-b92a8413b396"
        },
        "id": "6KNKLwV8Ajnp",
        "colab_type": "text"
      },
      "cell_type": "markdown",
      "source": [
        "### `tf` name scopes\n",
        "\n",
        "`tf` offers a tool to help organize your graphs: name scopes.\n",
        "\n",
        "Name scopes allows you to group operations into larger, named blocks. This is very usefu to visualize complex models with `tensorboard`. "
      ]
    },
    {
      "metadata": {
        "nbpresent": {
          "id": "ea824159-e736-4e2a-b024-524e337f6fac"
        },
        "id": "oBjYGJjSAjnq",
        "colab_type": "code",
        "colab": {}
      },
      "cell_type": "code",
      "source": [
        "import tensorflow as tf\n",
        "tf.reset_default_graph()\n",
        "\n",
        "with tf.name_scope(\"Scope_A\"):\n",
        "    a = tf.add(1, 2, name=\"A_add\")\n",
        "    b = tf.multiply(a, 3, name=\"A_mul\")\n",
        "\n",
        "with tf.name_scope(\"Scope_B\"):\n",
        "    c = tf.add(4, 5, name=\"B_add\")\n",
        "    d = tf.multiply(c, 6, name=\"B_mul\")\n",
        "\n",
        "e = tf.add(b, d, name=\"output\")\n",
        "\n",
        "writer = tf.summary.FileWriter('./name_scope_1', graph=tf.get_default_graph())\n",
        "writer.close()"
      ],
      "execution_count": 0,
      "outputs": []
    },
    {
      "metadata": {
        "nbpresent": {
          "id": "236459a0-db19-4ca3-ab64-d36697e6180f"
        },
        "id": "8-kivwa_Ajns",
        "colab_type": "text"
      },
      "cell_type": "markdown",
      "source": [
        "We can start `tensorboard` to see the graph: `tensorboard --logdir=\"./name_scope_1\"`.\n",
        "\n",
        "You can expand the name scope boxes by clicking `+`. "
      ]
    },
    {
      "metadata": {
        "nbpresent": {
          "id": "58f4f8ea-e41a-469a-a078-bb1e1725a1d3"
        },
        "id": "nxmgzvqeAjns",
        "colab_type": "text"
      },
      "cell_type": "markdown",
      "source": [
        "### Exercise\n",
        "\n",
        "Let's built and visualize and complex model:\n",
        "\n",
        "+ Our inputs will be placeholders.\n",
        "+ The model will take in a single vector of any lenght.\n",
        "+ The graph will be segmented in name scopes.\n",
        "+ We will accumulate the total value of all outputs over time.\n",
        "+ At each run, we are going to save the output of the graph, the accumulated total of all outputs, and the average value of all outputs to disk for use in `tensorboard`.\n",
        "\n",
        "\n",
        "![alt text](https://github.com/DataScienceUB/DeepLearningMaster2019/blob/master/images/t6.png?raw=1)\n"
      ]
    },
    {
      "metadata": {
        "code_folding": [],
        "nbpresent": {
          "id": "a8218e4e-4edc-48b5-a6a3-3af3169dee3f"
        },
        "id": "Ds0WRSRuAjnt",
        "colab_type": "code",
        "colab": {}
      },
      "cell_type": "code",
      "source": [
        "import tensorflow as tf\n",
        "import numpy as np\n",
        "\n",
        "tf.reset_default_graph()\n",
        "\n",
        "# Explicitly create a Graph object\n",
        "graph = tf.Graph()\n",
        "\n",
        "with graph.as_default():\n",
        "    \n",
        "    with tf.name_scope(\"variables\"):\n",
        "# your code here\n",
        "\n",
        "    \n",
        "    # Primary transformation Operations\n",
        "    with tf.name_scope(\"transformation\"):\n",
        "        \n",
        "        # Separate input layer\n",
        "        with tf.name_scope(\"input\"):\n",
        "# your code here\n",
        "\n",
        "    \n",
        "        # Separate middle layer\n",
        "        with tf.name_scope(\"intermediate_layer\"):\n",
        "# your code here\n",
        "\n",
        "        \n",
        "        # Separate output layer\n",
        "# your code here\n",
        "        \n",
        "    with tf.name_scope(\"update\"):\n",
        "        # Increments the total_output Variable by the latest output\n",
        "# your code here\n",
        "\n",
        "    \n",
        "    # Summary Operations\n",
        "    with tf.name_scope(\"summaries\"):\n",
        "        avg = tf.div(update_total, tf.cast(increment_step, tf.float32), name=\"average\")\n",
        "        \n",
        "        # Creates summaries for output node\n",
        "        tf.scalar_summary(b'Output', output, name=\"output_summary\")\n",
        "        tf.scalar_summary(b'Sum of outputs over time', update_total, name=\"total_summary\")\n",
        "        tf.scalar_summary(b'Average of outputs over time', avg, name=\"average_summary\")\n",
        "    \n",
        "    # Global Variables and Operations\n",
        "    with tf.name_scope(\"global_ops\"):\n",
        "        # Initialization Op\n",
        "        init = tf.initialize_all_variables()    \n",
        "        # Merge all summaries into one Operation\n",
        "        merged_summaries = tf.merge_all_summaries()\n",
        "\n",
        "# Start an interactive Session, using the explicitly created Graph\n",
        "sess = tf.Session(graph=graph)\n",
        "\n",
        "# Open a SummaryWriter to save summaries\n",
        "writer = tf.train.SummaryWriter('./improved_graph', graph)\n",
        "\n",
        "# Initialize Variables\n",
        "sess.run(init)"
      ],
      "execution_count": 0,
      "outputs": []
    },
    {
      "metadata": {
        "nbpresent": {
          "id": "76d05e86-509b-494a-8364-953c74c1aadb"
        },
        "id": "SenCvLOQAjnu",
        "colab_type": "text"
      },
      "cell_type": "markdown",
      "source": [
        "Let's write a function to run the graph several times:"
      ]
    },
    {
      "metadata": {
        "nbpresent": {
          "id": "ac2057e4-ca62-4985-af03-04ecaf7c41b5"
        },
        "id": "CZ6ovCjKAjnu",
        "colab_type": "code",
        "colab": {}
      },
      "cell_type": "code",
      "source": [
        "def run_graph(input_tensor):\n",
        "    \"\"\"\n",
        "    Helper function; runs the graph with given input tensor and saves summaries\n",
        "    \"\"\"\n",
        "    feed_dict = {a: input_tensor}\n",
        "    out, step, summary = sess.run([output, increment_step, merged_summaries], \n",
        "                                  feed_dict=feed_dict)\n",
        "    writer.add_summary(summary, global_step=step)"
      ],
      "execution_count": 0,
      "outputs": []
    },
    {
      "metadata": {
        "nbpresent": {
          "id": "47fcb7a3-7d43-4dfc-9b03-2fc208b165e6"
        },
        "id": "vz7F313iAjnw",
        "colab_type": "code",
        "colab": {}
      },
      "cell_type": "code",
      "source": [
        "# Run the graph with various inputs\n",
        "run_graph([2,8])\n",
        "run_graph([3,1,3,3])\n",
        "run_graph([8])\n",
        "run_graph([1,2,3])\n",
        "run_graph([11,4])\n",
        "run_graph([4,1])\n",
        "run_graph([7,3,1])\n",
        "run_graph([6,3])\n",
        "run_graph([0,2])\n",
        "run_graph([4,5,6])\n",
        "\n",
        "# Write the summaries to disk\n",
        "writer.flush()\n",
        "\n",
        "# Close the SummaryWriter\n",
        "writer.close()\n",
        "\n",
        "# Close the session\n",
        "sess.close()"
      ],
      "execution_count": 0,
      "outputs": []
    },
    {
      "metadata": {
        "nbpresent": {
          "id": "4adbbc73-2fc9-4f83-8c54-081b32a3375e"
        },
        "id": "NA6nfTKlAjnx",
        "colab_type": "text"
      },
      "cell_type": "markdown",
      "source": [
        "To start TensorBoard after running this code, run the following command:\n",
        "\n",
        "`tensorboard --logdir='./improved_graph'`   "
      ]
    },
    {
      "metadata": {
        "id": "2U662MyeAjnx",
        "colab_type": "text"
      },
      "cell_type": "markdown",
      "source": [
        "## ``tf`` eager execution\n",
        "\n",
        "``Eager`` execution is an experimental interface to TensorFlow that provides an imperative programming style. When you enable eager execution, TensorFlow operations execute immediately; you do not execute a pre-constructed graph with ``Session.run()``.\n",
        "\n",
        "First, we must enable ``Eager`` execution. When we do this, operations will execute and return their values immediately. Some things to note:\n",
        "\n",
        "+ We will need to restart the Python kernel since we have already used TensorFlow in graph mode.\n",
        "+ We enable eager at program startup using: tfe.enable_eager_execution().\n",
        "+ Once we enable Eager with ``tfe.enable_eager_execution()``, it cannot be turned off. To get back to graph mode, start a new Python session."
      ]
    },
    {
      "metadata": {
        "id": "Y9_ArUMaAjny",
        "colab_type": "code",
        "colab": {},
        "outputId": "2f1907ac-b41e-4aaa-bef4-3e741c9cbdc5"
      },
      "cell_type": "code",
      "source": [
        "import tensorflow.contrib.eager as tfe\n",
        "tfe.enable_eager_execution()\n",
        "import tensorflow as tf"
      ],
      "execution_count": 0,
      "outputs": [
        {
          "output_type": "stream",
          "text": [
            "/usr/local/lib/python3.5/dist-packages/h5py/__init__.py:36: FutureWarning: Conversion of the second argument of issubdtype from `float` to `np.floating` is deprecated. In future, it will be treated as `np.float64 == np.dtype(float).type`.\n",
            "  from ._conv import register_converters as _register_converters\n"
          ],
          "name": "stderr"
        }
      ]
    },
    {
      "metadata": {
        "id": "WXYfy1U5Ajn1",
        "colab_type": "code",
        "colab": {},
        "outputId": "8141d47b-bc55-4f75-9cdc-e850c1b46130"
      },
      "cell_type": "code",
      "source": [
        "print(tf.add(1, 2))"
      ],
      "execution_count": 0,
      "outputs": [
        {
          "output_type": "stream",
          "text": [
            "tf.Tensor(3, shape=(), dtype=int32)\n"
          ],
          "name": "stdout"
        }
      ]
    },
    {
      "metadata": {
        "id": "mJFI_iR1Ajn4",
        "colab_type": "text"
      },
      "cell_type": "markdown",
      "source": [
        "TensorFlow Eager execution provides an autograd style API for automatic differentiation."
      ]
    },
    {
      "metadata": {
        "id": "QD0aJgYMAjn6",
        "colab_type": "code",
        "colab": {},
        "outputId": "cccbcd0b-f112-483b-b438-a91e76461dfa"
      },
      "cell_type": "code",
      "source": [
        "def f(x):\n",
        "    # f(x) = x^2 + 3\n",
        "    return tf.multiply(x, x) + 3\n",
        "\n",
        "print( \"f(4) = %.2f\" % f(4.) )\n",
        "\n",
        "# First order derivative\n",
        "df = tfe.gradients_function(f)\n",
        "print( \"df(4) = %.2f\" % df(4.)[0] )\n",
        "\n",
        "# Second order derivative\n",
        "d2f = tfe.gradients_function(lambda x: df(x)[0])\n",
        "print( \"d2f(4) = %.2f\" % d2f(4.)[0] )"
      ],
      "execution_count": 0,
      "outputs": [
        {
          "output_type": "stream",
          "text": [
            "f(4) = 19.00\n",
            "df(4) = 8.00\n",
            "d2f(4) = 2.00\n"
          ],
          "name": "stdout"
        }
      ]
    },
    {
      "metadata": {
        "id": "vqgNiriMAjn8",
        "colab_type": "text"
      },
      "cell_type": "markdown",
      "source": [
        "Multilayer neural network:"
      ]
    },
    {
      "metadata": {
        "id": "1GoHXQNcAjn8",
        "colab_type": "code",
        "colab": {},
        "outputId": "54862a15-8356-452d-f094-25f3fd7d75b8"
      },
      "cell_type": "code",
      "source": [
        "from tensorflow.examples.tutorials.mnist import input_data\n",
        "\n",
        "import tensorflow as tf\n",
        "import tensorflow.contrib.eager as tfe\n",
        "import numpy as np\n",
        "\n",
        "tfe.enable_eager_execution()\n",
        "\n",
        "mnist = input_data.read_data_sets(\"/data/mnist\", one_hot=True)\n",
        "\n",
        "verbose_interval = 500\n",
        "\n",
        "dim_hidden = 150\n",
        "num_class = 10\n",
        "\n",
        "layer_fc0 = tf.layers.Dense(dim_hidden, activation = tf.nn.relu)\n",
        "layer_dropout = tf.layers.Dropout(0.75)\n",
        "layer_fc1 = tf.layers.Dense(num_class, activation = None)\n",
        "\n",
        "\n",
        "def mlp(step, x, y, is_train = True):\n",
        "    inputs = tf.constant(x, name = \"inputs\")\n",
        "    fc0 = layer_fc0(inputs)\n",
        "    if is_train:\n",
        "        fc0 = layer_dropout(fc0)\n",
        "    logits = layer_fc1(fc0)\n",
        "    loss = tf.nn.softmax_cross_entropy_with_logits(labels = y, logits = logits)\n",
        "    loss = tf.reduce_mean(loss)\n",
        "\n",
        "    if step % verbose_interval == 0:\n",
        "        predict = tf.argmax(logits, 1).numpy()\n",
        "        target = np.argmax(y, 1)\n",
        "        accuracy = np.sum(predict == target)/len(target)\n",
        "\n",
        "        print(\"step {}:\\tloss = {}\\taccuracy = {}\".format(step, loss.numpy(), accuracy))\n",
        "\n",
        "    return loss\n",
        "\n",
        "batch_size = 128\n",
        "optimizer = tf.train.AdamOptimizer(learning_rate = 1e-3)\n",
        "\n",
        "for step in range(3000):\n",
        "    batch_data, batch_label = mnist.train.next_batch(128)\n",
        "    optimizer.minimize(lambda: mlp(step, batch_data, batch_label))"
      ],
      "execution_count": 0,
      "outputs": [
        {
          "output_type": "stream",
          "text": [
            "/usr/local/lib/python3.5/dist-packages/h5py/__init__.py:36: FutureWarning: Conversion of the second argument of issubdtype from `float` to `np.floating` is deprecated. In future, it will be treated as `np.float64 == np.dtype(float).type`.\n",
            "  from ._conv import register_converters as _register_converters\n"
          ],
          "name": "stderr"
        },
        {
          "output_type": "stream",
          "text": [
            "Extracting /data/mnist/train-images-idx3-ubyte.gz\n",
            "Extracting /data/mnist/train-labels-idx1-ubyte.gz\n",
            "Extracting /data/mnist/t10k-images-idx3-ubyte.gz\n",
            "Extracting /data/mnist/t10k-labels-idx1-ubyte.gz\n",
            "WARNING:tensorflow:From <ipython-input-1-3cd158ce1cba>:27: softmax_cross_entropy_with_logits (from tensorflow.python.ops.nn_ops) is deprecated and will be removed in a future version.\n",
            "Instructions for updating:\n",
            "\n",
            "Future major versions of TensorFlow will allow gradients to flow\n",
            "into the labels input on backprop by default.\n",
            "\n",
            "See tf.nn.softmax_cross_entropy_with_logits_v2.\n",
            "\n",
            "step 0:\tloss = 2.401376724243164\taccuracy = 0.0546875\n",
            "step 500:\tloss = 0.11601939797401428\taccuracy = 0.9609375\n",
            "step 1000:\tloss = 0.13841065764427185\taccuracy = 0.953125\n",
            "step 1500:\tloss = 0.10649570822715759\taccuracy = 0.9609375\n",
            "step 2000:\tloss = 0.032584190368652344\taccuracy = 1.0\n",
            "step 2500:\tloss = 0.08522532880306244\taccuracy = 0.96875\n"
          ],
          "name": "stdout"
        }
      ]
    },
    {
      "metadata": {
        "id": "9pQ9vZGDAjn_",
        "colab_type": "code",
        "colab": {}
      },
      "cell_type": "code",
      "source": [
        ""
      ],
      "execution_count": 0,
      "outputs": []
    }
  ]
}
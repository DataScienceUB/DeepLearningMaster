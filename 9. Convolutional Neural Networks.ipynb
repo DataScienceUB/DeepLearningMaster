{
  "nbformat": 4,
  "nbformat_minor": 0,
  "metadata": {
    "colab": {
      "name": "9. Convolutional Neural Networks.ipynb",
      "version": "0.3.2",
      "provenance": [],
      "include_colab_link": true
    },
    "kernelspec": {
      "name": "python3",
      "display_name": "Python 3"
    },
    "accelerator": "GPU"
  },
  "cells": [
    {
      "cell_type": "markdown",
      "metadata": {
        "id": "view-in-github",
        "colab_type": "text"
      },
      "source": [
        "<a href=\"https://colab.research.google.com/github/DataScienceUB/DeepLearningMaster2019/blob/master/9.%20Convolutional%20Neural%20Networks.ipynb\" target=\"_parent\"><img src=\"https://colab.research.google.com/assets/colab-badge.svg\" alt=\"Open In Colab\"/></a>"
      ]
    },
    {
      "metadata": {
        "id": "RBrbcD8RcGVX",
        "colab_type": "text"
      },
      "cell_type": "markdown",
      "source": [
        "# 9. Convolutional Neural Networks\n",
        "\n",
        "> A Convolutional Neural Networks is a NN which has at least one layer (``tf.nn.conv2d`` in ``tf``) that does a convolution between its input $f$ and a configurable kernel $k$, $(f*k)$. \n",
        "\n",
        "Convolutional Neural Networks have been some of the most influential innovations in the field of **computer vision** in the last years. \n",
        "\n",
        "When considering the analysis of an image with a computer we must define a computational representation of an image. To this end, images are represented as $n \\times m \\times 3$ array of numbers, called **pixels**.\n",
        "The 3 refers to RGB values and $n, m$ refers to the height and width of the image in pixels. Each number in this array is given a value from 0 to 255 which describes the pixel intensity at that point.  These numbers are the only inputs available to the computer. \n",
        "\n",
        "**What is to classify an image?** The idea is that you give the computer this array of numbers and it must output numbers that describe the probability of the image being a certain class.\n",
        "\n",
        "Of course, this kind of image representation is suited to be classified by a classical neural network composed of **dense layers**, but this approach has **several limitations**.\n",
        "\n",
        "The first one is that large images with a high number of pixels will need from **extremely large networks** to be analyzed. If an image has $256 \\times 256 = 65,536$ pixels, the first layer of a classical neural network needs to have $65,536 \\times 65,536 = 4,294,967,296$ different weights to consider all pixel interactions. Even in the case that this number of weights could be stored in the available memory, learning these weights would be very time consuming. But there are better alternatives.\n",
        "\n",
        "One possible solution for this problem is to consider **local receptive fields (LRF)** (an inspiration that comes from neuroscience). A local receptive field is a standard MLP with a local view of the image: its input is a submatrix $M \\times M$ of the original $N \\times N$, where $M << N$.\n",
        "\n",
        "Using LRF is like decomposing the problem of image analysis in a set of local *experts* that are specialized in certain parts of the image. The outcome of these specialists can be integrated at a high level of the model.\n",
        "\n",
        "> Could you propose a problem where a LRF architecture could be the best option?\n",
        "\n",
        "Let's suppose we are dealing with a common task: object detection.\n",
        "\n",
        "In the most general setting, images represent the field of view of a camera (robot, autonomous car, person, etc.). Hence, we cannot assume any prior information about the presence of the object of interest on the image (i.e. any prior information about its scale, point of view, etc. or even its localization with respect to image coordinates). \n",
        "\n",
        "> An object may appear at any image coordinates!\n",
        "\n",
        "In this case LRF are not suited for this task because in order to learn a detector we should provide the model with a lot of examples in order to consider all possible object localitions!\n",
        "\n",
        "But, what about sharing LRF weights?\n",
        "\n",
        "Natural images are not a random combination of values in a $N \\times M$ array, but present **strong correlations** at different levels. \n",
        "\n",
        "At the most basic, it is evident that the **value of a pixel** is not independent of the values of its neighboring pixels. \n",
        "\n",
        "Moreover, natural images present another interesting property: **location invariance**. That means that visual structures, such as a cat or a dog, can be present on any place of the image at any scale. Image location is not important, what is important for attaching a meaning to an image are the **relative positions of geometric and photometric structures**. \n",
        "\n",
        "All this considerations leaded, partially inspired by biological models, to the proposal of a very special kind of layers: those based on **convolutions**. \n",
        "\n",
        "> A convolution is a mathematical operation that combines two input images to form a third one. One of the input images is the image we want to process. The other one, that is smaller, is called the kernel. \n",
        "\n",
        "Let's suppose that our kernel is this one:\n",
        "\n",
        "$$ Kernel = \\left( \\begin{array}{rrr} 0 & -1 & 0 \\\\ -1 & 5 & -1 \\\\  0 & -1 & 0 \\end{array} \\right)$$\n",
        "\n",
        "The output of image convolution is calculated as follows:\n",
        "\n",
        "- Flip the kernel both horizontally and vertically. As our selected kernel is symmetric, the flipped kernel is equal to the original.\n",
        "- Put the first element of the kernel at every element of the image matrix. Multiply each element of the kernel with its corresponding element of the image matrix (the one which is overlapped with it). \n",
        "- Sum up all product outputs and put the result at the same position in the output matrix as the center of kernel in image matrix.\n"
      ]
    },
    {
      "metadata": {
        "id": "6dA1Hr8mcGVb",
        "colab_type": "text"
      },
      "cell_type": "markdown",
      "source": [
        "## What is a convolution?\n",
        "\n",
        "Mathematically, given a convolution kernel $K$ represented by a $(M \\times N)$ array, the convolution of an image $I$ with $K$ is:\n",
        "\n",
        "$$\n",
        "output(x,y) = (I \\otimes K)(x,y) = \\sum_{m=0}^{M-1} \\sum_{n=1}^{N-1} K(m,n) I(x-n, y-m)\n",
        "$$\n",
        "\n",
        "The output of image convolution is another image that might represent some kind of information that was present in the image in a very subtle way. For example, the kernel we have used is called an **edge detector** because it highlights the edges of visual structures and attenuates smooth regions. \n",
        "\n",
        "> Demo: http://setosa.io/ev/image-kernels/\n",
        "\n",
        "In **convolutional neural networks** the values of the kernel matrix are **free parameters** that must be learned to perform the optimal information extraction in order to classify the image. \n",
        "\n",
        "Convolutions are linear operators and because of this the application of successive convolutions can always be represented by a single convolution.\n",
        "\n",
        "$$\n",
        "((I \\otimes K_1) \\otimes K_2) = (I \\otimes (K_1 \\otimes K_2))\n",
        "$$\n",
        "\n",
        "But if we apply a non linear activation function after each convolution the application of successive convolution operators makes sense and results in a powerful image feature structure. "
      ]
    },
    {
      "metadata": {
        "id": "Jm8f73RWcGVq",
        "colab_type": "code",
        "colab": {
          "base_uri": "https://localhost:8080/",
          "height": 286
        },
        "outputId": "e2886698-ed55-44de-e8ac-51c5af4f3790"
      },
      "cell_type": "code",
      "source": [
        "import tensorflow as tf\n",
        "import numpy as np\n",
        "from imageio import imread\n",
        "from skimage.transform import resize\n",
        "import matplotlib.pyplot as plt\n",
        "%matplotlib inline\n",
        "\n",
        "sample_image = imread(\"https://raw.githubusercontent.com/DataScienceUB/DeepLearningMaster2019/master/images/result.png\")\n",
        "sample_image= sample_image.astype(float)\n",
        "\n",
        "size = sample_image.shape\n",
        "print(\"sample image shape: \"+ str(sample_image.shape))\n",
        "\n",
        "def show(image):\n",
        "    image = np.squeeze(image.astype(\"uint8\"))\n",
        "    plt.imshow(image, cmap=\"gray\")\n",
        "\n",
        "show(sample_image)"
      ],
      "execution_count": 3,
      "outputs": [
        {
          "output_type": "stream",
          "text": [
            "sample image shape: (256, 209, 4)\n"
          ],
          "name": "stdout"
        },
        {
          "output_type": "display_data",
          "data": {
            "image/png": "[encoded data removed]",
            "text/plain": [
              "<Figure size 432x288 with 1 Axes>"
            ]
          },
          "metadata": {
            "tags": []
          }
        }
      ]
    },
    {
      "metadata": {
        "id": "Pna4d08LcGVy",
        "colab_type": "code",
        "colab": {
          "base_uri": "https://localhost:8080/",
          "height": 34
        },
        "outputId": "b64c0393-41c8-4d98-aef7-740cdf25eab9"
      },
      "cell_type": "code",
      "source": [
        "sample_image= sample_image[:,:,:-1]\n",
        "sample_image.shape"
      ],
      "execution_count": 4,
      "outputs": [
        {
          "output_type": "execute_result",
          "data": {
            "text/plain": [
              "(256, 209, 3)"
            ]
          },
          "metadata": {
            "tags": []
          },
          "execution_count": 4
        }
      ]
    },
    {
      "metadata": {
        "id": "NomKnJcQcGV-",
        "colab_type": "text"
      },
      "cell_type": "markdown",
      "source": [
        "#### Example\n",
        "\n",
        "Let's build a convolution filter that blurs the image using `tf.nn.depthwise_conv2d`. This function treats each channel separately. If not, it would be a 3D convolution!\n",
        "\n",
        "Given an input tensor of shape ``[batch, in_height, in_width, in_channels]`` and a filter tensor of shape ``[filter_height, filter_width, in_channels, channel_multiplier]`` containing ``in_channels`` convolutional filters of depth 1, ``depthwise_conv2d`` applies a different filter to each input channel (expanding from 1 channel to ``channel_multiplier`` channels for each), then concatenates the results together. "
      ]
    },
    {
      "metadata": {
        "id": "9tvnQtibcGV_",
        "colab_type": "code",
        "colab": {
          "base_uri": "https://localhost:8080/",
          "height": 308
        },
        "outputId": "5daca845-acae-4e48-c2a0-992d36b7c024"
      },
      "cell_type": "code",
      "source": [
        "image = tf.placeholder(tf.float32, shape=(None, None, None, 3))\n",
        "kernel = tf.placeholder(tf.float32, shape=(5, 5, 3))\n",
        "\n",
        "def conv(x, k):\n",
        "    k = tf.reshape(k, shape=(5, 5, 3, 1))\n",
        "    return tf.nn.depthwise_conv2d(x, \n",
        "                                  k, \n",
        "                                  strides=(1, 1, 1, 1),\n",
        "                                  padding='SAME')\n",
        "    \n",
        "output_image = conv(image, kernel)\n",
        "kernel_data = np.zeros(shape=(5, 5, 3)).astype(np.float32)\n",
        "kernel_data[:, :, :] = 1 / 25.0\n",
        "\n",
        "# move the channel dimension to the first dimension to\n",
        "# make it easy to see the spacial organization of the kernel\n",
        "# on the last 2 dimensions with print:\n",
        "print(np.transpose(kernel_data, (2, 0, 1))) "
      ],
      "execution_count": 5,
      "outputs": [
        {
          "output_type": "stream",
          "text": [
            "[[[0.04 0.04 0.04 0.04 0.04]\n",
            "  [0.04 0.04 0.04 0.04 0.04]\n",
            "  [0.04 0.04 0.04 0.04 0.04]\n",
            "  [0.04 0.04 0.04 0.04 0.04]\n",
            "  [0.04 0.04 0.04 0.04 0.04]]\n",
            "\n",
            " [[0.04 0.04 0.04 0.04 0.04]\n",
            "  [0.04 0.04 0.04 0.04 0.04]\n",
            "  [0.04 0.04 0.04 0.04 0.04]\n",
            "  [0.04 0.04 0.04 0.04 0.04]\n",
            "  [0.04 0.04 0.04 0.04 0.04]]\n",
            "\n",
            " [[0.04 0.04 0.04 0.04 0.04]\n",
            "  [0.04 0.04 0.04 0.04 0.04]\n",
            "  [0.04 0.04 0.04 0.04 0.04]\n",
            "  [0.04 0.04 0.04 0.04 0.04]\n",
            "  [0.04 0.04 0.04 0.04 0.04]]]\n"
          ],
          "name": "stdout"
        }
      ]
    },
    {
      "metadata": {
        "id": "N3ZWx0WpcGWG",
        "colab_type": "code",
        "colab": {
          "base_uri": "https://localhost:8080/",
          "height": 286
        },
        "outputId": "4405a476-988e-486a-dad6-cbdb73ed6c47"
      },
      "cell_type": "code",
      "source": [
        "with tf.Session() as sess:\n",
        "    feed_dict = {image: [sample_image], kernel: kernel_data}\n",
        "    conv_img = sess.run(output_image, feed_dict=feed_dict)\n",
        "    print(conv_img.shape)\n",
        "    show(conv_img[0])"
      ],
      "execution_count": 6,
      "outputs": [
        {
          "output_type": "stream",
          "text": [
            "(1, 256, 209, 3)\n"
          ],
          "name": "stdout"
        },
        {
          "output_type": "display_data",
          "data": {
            "image/png": "[encoded data removed]",
            "text/plain": [
              "<Figure size 432x288 with 1 Axes>"
            ]
          },
          "metadata": {
            "tags": []
          }
        }
      ]
    },
    {
      "metadata": {
        "id": "sZ-FpnsbcGWN",
        "colab_type": "text"
      },
      "cell_type": "markdown",
      "source": [
        "#### Example\n",
        "\n",
        "``tf.nn.conv2d``: Given an input tensor of shape ``[batch, in_height, in_width, in_channels]`` and a filter / kernel tensor of shape ``[filter_height, filter_width, in_channels, out_channels]``, this op performs the following:\n",
        "\n",
        "+ Flattens the filter to a 2-D matrix with shape ``[filter_height * filter_width * in_channels, output_channels]``.\n",
        "+ Extracts image patches from the input tensor to form a virtual tensor of shape ``[batch, out_height, out_width, filter_height * filter_width * in_channels]``.\n",
        "+ For each patch, right-multiplies the filter matrix and the image patch vector."
      ]
    },
    {
      "metadata": {
        "id": "H6sGnE95cGWO",
        "colab_type": "code",
        "colab": {
          "base_uri": "https://localhost:8080/",
          "height": 308
        },
        "outputId": "ccc5fdd2-154e-4b6d-80a6-15d69db840f4"
      },
      "cell_type": "code",
      "source": [
        "image = tf.placeholder(tf.float32, shape=(None, None, None, 3))\n",
        "kernel = tf.placeholder(tf.float32, shape=(5, 5, 3))\n",
        "\n",
        "def conv(x, k):\n",
        "    k = tf.reshape(k, shape=(5, 5, 3, 1))\n",
        "    return tf.nn.conv2d(x, \n",
        "                        k, \n",
        "                        strides=(1, 1, 1, 1),\n",
        "                        padding='SAME')\n",
        "    \n",
        "output_image = conv(image, kernel)\n",
        "kernel_data = np.zeros(shape=(5, 5, 3)).astype(np.float32)\n",
        "kernel_data[:, :, :] = 1 / 125.0\n",
        "\n",
        "# move the channel dimension to the first dimension to\n",
        "# make it easy to see the spacial organization of the kernel\n",
        "# on the last 2 dimensions with print:\n",
        "print(np.transpose(kernel_data, (2, 0, 1))) "
      ],
      "execution_count": 7,
      "outputs": [
        {
          "output_type": "stream",
          "text": [
            "[[[0.008 0.008 0.008 0.008 0.008]\n",
            "  [0.008 0.008 0.008 0.008 0.008]\n",
            "  [0.008 0.008 0.008 0.008 0.008]\n",
            "  [0.008 0.008 0.008 0.008 0.008]\n",
            "  [0.008 0.008 0.008 0.008 0.008]]\n",
            "\n",
            " [[0.008 0.008 0.008 0.008 0.008]\n",
            "  [0.008 0.008 0.008 0.008 0.008]\n",
            "  [0.008 0.008 0.008 0.008 0.008]\n",
            "  [0.008 0.008 0.008 0.008 0.008]\n",
            "  [0.008 0.008 0.008 0.008 0.008]]\n",
            "\n",
            " [[0.008 0.008 0.008 0.008 0.008]\n",
            "  [0.008 0.008 0.008 0.008 0.008]\n",
            "  [0.008 0.008 0.008 0.008 0.008]\n",
            "  [0.008 0.008 0.008 0.008 0.008]\n",
            "  [0.008 0.008 0.008 0.008 0.008]]]\n"
          ],
          "name": "stdout"
        }
      ]
    },
    {
      "metadata": {
        "id": "FlbG8XWlcGWW",
        "colab_type": "code",
        "colab": {
          "base_uri": "https://localhost:8080/",
          "height": 286
        },
        "outputId": "722caaae-2d7a-4875-b34f-b4782b06dabf"
      },
      "cell_type": "code",
      "source": [
        "with tf.Session() as sess:\n",
        "    feed_dict = {image: [sample_image], kernel: kernel_data}\n",
        "    conv_img = sess.run(output_image, feed_dict=feed_dict)\n",
        "    print(conv_img.shape)\n",
        "    show(conv_img[0])"
      ],
      "execution_count": 8,
      "outputs": [
        {
          "output_type": "stream",
          "text": [
            "(1, 256, 209, 1)\n"
          ],
          "name": "stdout"
        },
        {
          "output_type": "display_data",
          "data": {
            "image/png": "[encoded data removed]",
            "text/plain": [
              "<Figure size 432x288 with 1 Axes>"
            ]
          },
          "metadata": {
            "tags": []
          }
        }
      ]
    },
    {
      "metadata": {
        "id": "m2yF8T-GcGWl",
        "colab_type": "text"
      },
      "cell_type": "markdown",
      "source": [
        "### Exercise\n",
        "\n",
        "+ What happens if we build a 3x3 kernel with stride 2? What is the size of the output image?\n",
        "\n",
        "\n",
        "+ When a kernel is overlapped on an image it should be set to fit within the bounds of the image. Filling the missing area of the image is known as *padding* the image. The padding parameter must be ``SAME``  if we want the convolution output to be the same size as the input, and ``VALID`` if we want only the useful part of the output.   \n",
        "What happens if we change the padding to 'VALID'?"
      ]
    },
    {
      "metadata": {
        "id": "oGBsCTy_cGWm",
        "colab_type": "code",
        "colab": {}
      },
      "cell_type": "code",
      "source": [
        "# your code here\n",
        "\n"
      ],
      "execution_count": 0,
      "outputs": []
    },
    {
      "metadata": {
        "id": "oxmDTba6cGWr",
        "colab_type": "text"
      },
      "cell_type": "markdown",
      "source": [
        "## Convolutional Neural Netwoks\n",
        "\n",
        "The kernel weights can be learn from examples if we define a loss function.\n",
        "\n",
        "> CNN are composed of repetitive blocks of neurons that are applied across\n",
        "space (for images) or time (for audio signals).\n",
        "\n",
        "> For images, these blocks of neurons can be interpreted as\n",
        "2D convolutional kernels, repeatedly applied over each\n",
        "patch of the image.\n",
        "\n",
        "<img src=\"https://github.com/DataScienceUB/DeepLearningMaster2019/blob/master/images/conv.png?raw=1\" alt=\"https://community.arm.com/cfs-file/__key/communityserver-blogs-components-weblogfiles/00-00-00-20-66/4786.conv.png\" style=\"width: 500px;\"/>\n",
        "\n",
        "\n",
        "> For speech, they can be seen as the 1D convolutional\n",
        "kernels applied across time-windows.\n",
        "\n",
        "<img src=\"https://github.com/DataScienceUB/DeepLearningMaster2019/blob/master/images/spectrogram.png?raw=1\" alt=\"\" style=\"width: 500px;\"/>\n",
        "\n",
        "\n",
        "At training time, the weights for these repeated blocks are\n",
        "'shared', i.e. the weight gradients learned over various\n",
        "image patches are averaged."
      ]
    },
    {
      "metadata": {
        "id": "78h98OQ1cGWx",
        "colab_type": "text"
      },
      "cell_type": "markdown",
      "source": [
        "CNN where originally proposed in early 90's by Y.LeCun:\n",
        "\n",
        "<img src=\"https://github.com/DataScienceUB/DeepLearningMaster2019/blob/master/images/conv2.png?raw=1\" alt=\"\" style=\"width: 700px;\"/>\n",
        "\n",
        "\n",
        "LeNet architecture used one additional ingredient: **max pooling**. Pooling is a way of sub-sampling, i.e. reducing the dimension of the input. It is usually done after convolutional layers. \n",
        "\n",
        "It is also useful since it provides a form of translation invariance. "
      ]
    },
    {
      "metadata": {
        "id": "4Fa0xEZvcGWz",
        "colab_type": "text"
      },
      "cell_type": "markdown",
      "source": [
        "## MNIST Convolutional Network \n",
        "\n",
        "A simple CNN architecture cambines a convolutional layer (``tf.nn.conv2d``), a non-linear activation function (``tf.nn.relu``), a pooling layer (``tf.nn.max_pool``) and a fully connected layer (``tf.matmul``). \n",
        "\n",
        "<img src=\"https://github.com/DataScienceUB/DeepLearningMaster2019/blob/master/images/maxpool.jpeg?raw=1\" alt=\"\" style=\"width: 400px;\"/>\n",
        "<center>\n",
        "Max Pooling. Source: http://cs231n.github.io/convolutional-networks/\n",
        "</center>\n",
        "\n",
        "\n",
        "The ``tf`` input pipeline is designed to work with multiple images in a batch: `` [image_batch_size, image_height, image_width, image_channels] ``. "
      ]
    },
    {
      "metadata": {
        "id": "J1VTGSC8cGW2",
        "colab_type": "code",
        "colab": {
          "base_uri": "https://localhost:8080/",
          "height": 534
        },
        "outputId": "6c9a37fc-f3c2-4f92-c442-99ad3371d69b"
      },
      "cell_type": "code",
      "source": [
        "# Adapted notebook from Author: Aymeric Damien\n",
        "# Project: https://github.com/aymericdamien/TensorFlow-Examples/\n",
        "\n",
        "# Import MINST data\n",
        "from tensorflow.examples.tutorials.mnist import input_data\n",
        "mnist = input_data.read_data_sets(\"tmp/data/\", one_hot=True)"
      ],
      "execution_count": 9,
      "outputs": [
        {
          "output_type": "stream",
          "text": [
            "WARNING:tensorflow:From <ipython-input-9-4de56eb9035a>:2: read_data_sets (from tensorflow.contrib.learn.python.learn.datasets.mnist) is deprecated and will be removed in a future version.\n",
            "Instructions for updating:\n",
            "Please use alternatives such as official/mnist/dataset.py from tensorflow/models.\n",
            "WARNING:tensorflow:From /usr/local/lib/python3.6/dist-packages/tensorflow/contrib/learn/python/learn/datasets/mnist.py:260: maybe_download (from tensorflow.contrib.learn.python.learn.datasets.base) is deprecated and will be removed in a future version.\n",
            "Instructions for updating:\n",
            "Please write your own downloading logic.\n",
            "WARNING:tensorflow:From /usr/local/lib/python3.6/dist-packages/tensorflow/contrib/learn/python/learn/datasets/base.py:252: _internal_retry.<locals>.wrap.<locals>.wrapped_fn (from tensorflow.contrib.learn.python.learn.datasets.base) is deprecated and will be removed in a future version.\n",
            "Instructions for updating:\n",
            "Please use urllib or similar directly.\n",
            "Successfully downloaded train-images-idx3-ubyte.gz 9912422 bytes.\n",
            "WARNING:tensorflow:From /usr/local/lib/python3.6/dist-packages/tensorflow/contrib/learn/python/learn/datasets/mnist.py:262: extract_images (from tensorflow.contrib.learn.python.learn.datasets.mnist) is deprecated and will be removed in a future version.\n",
            "Instructions for updating:\n",
            "Please use tf.data to implement this functionality.\n",
            "Extracting tmp/data/train-images-idx3-ubyte.gz\n",
            "Successfully downloaded train-labels-idx1-ubyte.gz 28881 bytes.\n",
            "WARNING:tensorflow:From /usr/local/lib/python3.6/dist-packages/tensorflow/contrib/learn/python/learn/datasets/mnist.py:267: extract_labels (from tensorflow.contrib.learn.python.learn.datasets.mnist) is deprecated and will be removed in a future version.\n",
            "Instructions for updating:\n",
            "Please use tf.data to implement this functionality.\n",
            "Extracting tmp/data/train-labels-idx1-ubyte.gz\n",
            "WARNING:tensorflow:From /usr/local/lib/python3.6/dist-packages/tensorflow/contrib/learn/python/learn/datasets/mnist.py:110: dense_to_one_hot (from tensorflow.contrib.learn.python.learn.datasets.mnist) is deprecated and will be removed in a future version.\n",
            "Instructions for updating:\n",
            "Please use tf.one_hot on tensors.\n",
            "Successfully downloaded t10k-images-idx3-ubyte.gz 1648877 bytes.\n",
            "Extracting tmp/data/t10k-images-idx3-ubyte.gz\n",
            "Successfully downloaded t10k-labels-idx1-ubyte.gz 4542 bytes.\n",
            "Extracting tmp/data/t10k-labels-idx1-ubyte.gz\n",
            "WARNING:tensorflow:From /usr/local/lib/python3.6/dist-packages/tensorflow/contrib/learn/python/learn/datasets/mnist.py:290: DataSet.__init__ (from tensorflow.contrib.learn.python.learn.datasets.mnist) is deprecated and will be removed in a future version.\n",
            "Instructions for updating:\n",
            "Please use alternatives such as official/mnist/dataset.py from tensorflow/models.\n"
          ],
          "name": "stdout"
        }
      ]
    },
    {
      "metadata": {
        "id": "u8NAYOlKcGW8",
        "colab_type": "code",
        "colab": {}
      },
      "cell_type": "code",
      "source": [
        "import tensorflow as tf\n",
        "\n",
        "# Parameters\n",
        "learning_rate = 0.001\n",
        "training_iters = 100000\n",
        "batch_size = 128\n",
        "display_step = 20"
      ],
      "execution_count": 0,
      "outputs": []
    },
    {
      "metadata": {
        "id": "lCd4WqFQcGW_",
        "colab_type": "code",
        "colab": {}
      },
      "cell_type": "code",
      "source": [
        "# Network Parameters\n",
        "n_input = 784 # MNIST data input (img shape: 28*28)\n",
        "n_classes = 10 # MNIST total classes (0-9 digits)\n",
        "dropout = 0.75 # Dropout, probability to keep units"
      ],
      "execution_count": 0,
      "outputs": []
    },
    {
      "metadata": {
        "id": "1dJl6TrJcGXD",
        "colab_type": "code",
        "colab": {}
      },
      "cell_type": "code",
      "source": [
        "# tf Graph input\n",
        "x = tf.placeholder(tf.float32, [None, n_input])\n",
        "y = tf.placeholder(tf.float32, [None, n_classes])\n",
        "keep_prob = tf.placeholder(tf.float32) #dropout (keep probability)"
      ],
      "execution_count": 0,
      "outputs": []
    },
    {
      "metadata": {
        "id": "OsEBDe0VcGXL",
        "colab_type": "text"
      },
      "cell_type": "markdown",
      "source": [
        "The parameter ``strides`` causes a kernel to skip over pixels of an image and not to include them in the output. \n",
        "\n",
        "Strides are a way to adjust the dimensionality of input tensors (to reduce processing power). This allows the design of CNN with small kernels but getting information from large parts of the input. "
      ]
    },
    {
      "metadata": {
        "id": "za8G8NGmcGXM",
        "colab_type": "code",
        "colab": {}
      },
      "cell_type": "code",
      "source": [
        "# Create model\n",
        "def conv2d(img, w, b):\n",
        "    return tf.nn.relu(tf.nn.bias_add(tf.nn.conv2d(img, w, strides=[1, 1, 1, 1], \n",
        "                                                  padding='SAME'),b))\n",
        "\n",
        "def max_pool(img, k):\n",
        "    return tf.nn.max_pool(img, ksize=[1, k, k, 1], strides=[1, k, k, 1], padding='SAME')\n",
        "\n",
        "def conv_net(_X, _weights, _biases, _dropout):\n",
        "    # Reshape input picture\n",
        "    _X = tf.reshape(_X, shape=[-1, 28, 28, 1])\n",
        "\n",
        "    # Convolution Layer\n",
        "    conv1 = conv2d(_X, _weights['wc1'], _biases['bc1'])\n",
        "    # Max Pooling (down-sampling)\n",
        "    conv1 = max_pool(conv1, k=2)\n",
        "    # Apply Dropout\n",
        "    conv1 = tf.nn.dropout(conv1, _dropout)\n",
        "\n",
        "    # Convolution Layer\n",
        "    conv2 = conv2d(conv1, _weights['wc2'], _biases['bc2'])\n",
        "    # Max Pooling (down-sampling)\n",
        "    conv2 = max_pool(conv2, k=2)\n",
        "    # Apply Dropout\n",
        "    conv2 = tf.nn.dropout(conv2, _dropout)\n",
        "\n",
        "    # Fully connected layer\n",
        "    # Reshape conv2 output to fit dense layer input\n",
        "    dense1 = tf.reshape(conv2, [-1, _weights['wd1'].get_shape().as_list()[0]]) \n",
        "    # Relu activation\n",
        "    dense1 = tf.nn.relu(tf.add(tf.matmul(dense1, _weights['wd1']), _biases['bd1']))\n",
        "    # Apply Dropout\n",
        "    dense1 = tf.nn.dropout(dense1, _dropout) # Apply Dropout\n",
        "\n",
        "    # Output, class prediction\n",
        "    out = tf.add(tf.matmul(dense1, _weights['out']), _biases['out'])\n",
        "    return out"
      ],
      "execution_count": 0,
      "outputs": []
    },
    {
      "metadata": {
        "id": "OP6gwSLAcGXX",
        "colab_type": "code",
        "colab": {
          "base_uri": "https://localhost:8080/",
          "height": 88
        },
        "outputId": "87a84d72-9aa3-44f5-d931-d022cb58abaa"
      },
      "cell_type": "code",
      "source": [
        "# Store layers weight & bias\n",
        "weights = {\n",
        "    # 5x5 conv, 1 input, 32 outputs\n",
        "    'wc1': tf.Variable(tf.random_normal([5, 5, 1, 32])), \n",
        "    # 5x5 conv, 32 inputs, 64 outputs\n",
        "    'wc2': tf.Variable(tf.random_normal([5, 5, 32, 64])), \n",
        "    # fully connected, 7*7*64 inputs, 1024 outputs\n",
        "    'wd1': tf.Variable(tf.random_normal([7*7*64, 1024])), \n",
        "    # 1024 inputs, 10 outputs (class prediction)\n",
        "    'out': tf.Variable(tf.random_normal([1024, n_classes])) \n",
        "}\n",
        "\n",
        "biases = {\n",
        "    'bc1': tf.Variable(tf.random_normal([32])),\n",
        "    'bc2': tf.Variable(tf.random_normal([64])),\n",
        "    'bd1': tf.Variable(tf.random_normal([1024])),\n",
        "    'out': tf.Variable(tf.random_normal([n_classes]))\n",
        "}"
      ],
      "execution_count": 15,
      "outputs": [
        {
          "output_type": "stream",
          "text": [
            "WARNING:tensorflow:From /usr/local/lib/python3.6/dist-packages/tensorflow/python/framework/op_def_library.py:263: colocate_with (from tensorflow.python.framework.ops) is deprecated and will be removed in a future version.\n",
            "Instructions for updating:\n",
            "Colocations handled automatically by placer.\n"
          ],
          "name": "stdout"
        }
      ]
    },
    {
      "metadata": {
        "id": "Vq-Ut_accGXc",
        "colab_type": "code",
        "colab": {
          "base_uri": "https://localhost:8080/",
          "height": 88
        },
        "outputId": "fa542d23-a732-4610-b202-44e71d7aa0d5"
      },
      "cell_type": "code",
      "source": [
        "# Construct model\n",
        "pred = conv_net(x, weights, biases, keep_prob)"
      ],
      "execution_count": 16,
      "outputs": [
        {
          "output_type": "stream",
          "text": [
            "WARNING:tensorflow:From <ipython-input-14-85dca0d23f3c>:17: calling dropout (from tensorflow.python.ops.nn_ops) with keep_prob is deprecated and will be removed in a future version.\n",
            "Instructions for updating:\n",
            "Please use `rate` instead of `keep_prob`. Rate should be set to `rate = 1 - keep_prob`.\n"
          ],
          "name": "stdout"
        }
      ]
    },
    {
      "metadata": {
        "id": "OObJtIlhcGXg",
        "colab_type": "code",
        "colab": {
          "base_uri": "https://localhost:8080/",
          "height": 174
        },
        "outputId": "76329d8c-8770-4324-9d74-c4c33f061eca"
      },
      "cell_type": "code",
      "source": [
        "# Define loss and optimizer\n",
        "cost = tf.reduce_mean(tf.nn.softmax_cross_entropy_with_logits\n",
        "                      (logits= pred, labels= y))\n",
        "optimizer = tf.train.AdamOptimizer(learning_rate=learning_rate).minimize(cost)"
      ],
      "execution_count": 17,
      "outputs": [
        {
          "output_type": "stream",
          "text": [
            "WARNING:tensorflow:From <ipython-input-17-7737bac64e3c>:2: softmax_cross_entropy_with_logits (from tensorflow.python.ops.nn_ops) is deprecated and will be removed in a future version.\n",
            "Instructions for updating:\n",
            "\n",
            "Future major versions of TensorFlow will allow gradients to flow\n",
            "into the labels input on backprop by default.\n",
            "\n",
            "See `tf.nn.softmax_cross_entropy_with_logits_v2`.\n",
            "\n"
          ],
          "name": "stdout"
        }
      ]
    },
    {
      "metadata": {
        "id": "6gWP_yx7cGXn",
        "colab_type": "code",
        "colab": {}
      },
      "cell_type": "code",
      "source": [
        "# Evaluate model\n",
        "correct_pred = tf.equal(tf.argmax(pred,1), tf.argmax(y,1))\n",
        "accuracy = tf.reduce_mean(tf.cast(correct_pred, tf.float32))"
      ],
      "execution_count": 0,
      "outputs": []
    },
    {
      "metadata": {
        "id": "ILiuDf-4cGXu",
        "colab_type": "code",
        "colab": {}
      },
      "cell_type": "code",
      "source": [
        "# Initializing the variables\n",
        "init = tf.global_variables_initializer()"
      ],
      "execution_count": 0,
      "outputs": []
    },
    {
      "metadata": {
        "id": "U2IO5MM6cGX0",
        "colab_type": "code",
        "colab": {
          "base_uri": "https://localhost:8080/",
          "height": 720
        },
        "outputId": "6c9ce1c1-6ace-4a41-a1b5-3d15eae5af49"
      },
      "cell_type": "code",
      "source": [
        "# Launch the graph\n",
        "with tf.Session() as sess:\n",
        "    sess.run(init)\n",
        "    step = 1\n",
        "    # Keep training until reach max iterations\n",
        "    while step * batch_size < training_iters:\n",
        "        batch_xs, batch_ys = mnist.train.next_batch(batch_size)\n",
        "        # Fit training using batch data\n",
        "        sess.run(optimizer, \n",
        "                 feed_dict={x: batch_xs, y: batch_ys, keep_prob: dropout})\n",
        "        if step % display_step == 0:\n",
        "            # Calculate batch accuracy\n",
        "            acc = sess.run(accuracy, \n",
        "                           feed_dict={x: batch_xs, y: batch_ys, keep_prob: 1.})\n",
        "            # Calculate batch loss\n",
        "            loss = sess.run(cost, \n",
        "                            feed_dict={x: batch_xs, y: batch_ys, keep_prob: 1.})\n",
        "            print(\"Iter \", str(step*batch_size),\n",
        "                  \"| Minibatch Loss= {:.6f}\".format(loss)  , \n",
        "                  \"| Training Accuracy= {:.5f}\".format(acc))\n",
        "        step += 1\n",
        "    print(\"Optimization Finished!\")\n",
        "    # Calculate accuracy for 256 mnist test images\n",
        "    print(\"Testing Accuracy:\", \n",
        "          sess.run(accuracy, \n",
        "                   feed_dict={x: mnist.test.images[:256], \n",
        "                   y: mnist.test.labels[:256], \n",
        "                   keep_prob: 1.}))"
      ],
      "execution_count": 20,
      "outputs": [
        {
          "output_type": "stream",
          "text": [
            "Iter  2560 | Minibatch Loss= 13193.554688 | Training Accuracy= 0.39062\n",
            "Iter  5120 | Minibatch Loss= 6030.086914 | Training Accuracy= 0.66406\n",
            "Iter  7680 | Minibatch Loss= 5493.271484 | Training Accuracy= 0.67188\n",
            "Iter  10240 | Minibatch Loss= 3282.389648 | Training Accuracy= 0.82031\n",
            "Iter  12800 | Minibatch Loss= 3090.636230 | Training Accuracy= 0.78906\n",
            "Iter  15360 | Minibatch Loss= 3579.398193 | Training Accuracy= 0.81250\n",
            "Iter  17920 | Minibatch Loss= 2695.186279 | Training Accuracy= 0.79688\n",
            "Iter  20480 | Minibatch Loss= 2598.989990 | Training Accuracy= 0.81250\n",
            "Iter  23040 | Minibatch Loss= 1942.210449 | Training Accuracy= 0.86719\n",
            "Iter  25600 | Minibatch Loss= 1753.649658 | Training Accuracy= 0.88281\n",
            "Iter  28160 | Minibatch Loss= 1287.926147 | Training Accuracy= 0.89062\n",
            "Iter  30720 | Minibatch Loss= 2092.691406 | Training Accuracy= 0.84375\n",
            "Iter  33280 | Minibatch Loss= 968.024475 | Training Accuracy= 0.89062\n",
            "Iter  35840 | Minibatch Loss= 1115.352417 | Training Accuracy= 0.89844\n",
            "Iter  38400 | Minibatch Loss= 1840.534424 | Training Accuracy= 0.86719\n",
            "Iter  40960 | Minibatch Loss= 941.615234 | Training Accuracy= 0.89062\n",
            "Iter  43520 | Minibatch Loss= 548.478882 | Training Accuracy= 0.91406\n",
            "Iter  46080 | Minibatch Loss= 801.810364 | Training Accuracy= 0.91406\n",
            "Iter  48640 | Minibatch Loss= 967.797607 | Training Accuracy= 0.88281\n",
            "Iter  51200 | Minibatch Loss= 1039.975098 | Training Accuracy= 0.90625\n",
            "Iter  53760 | Minibatch Loss= 853.246704 | Training Accuracy= 0.92969\n",
            "Iter  56320 | Minibatch Loss= 510.925568 | Training Accuracy= 0.94531\n",
            "Iter  58880 | Minibatch Loss= 327.056091 | Training Accuracy= 0.94531\n",
            "Iter  61440 | Minibatch Loss= 621.356750 | Training Accuracy= 0.92969\n",
            "Iter  64000 | Minibatch Loss= 878.408508 | Training Accuracy= 0.91406\n",
            "Iter  66560 | Minibatch Loss= 538.052185 | Training Accuracy= 0.92188\n",
            "Iter  69120 | Minibatch Loss= 641.077148 | Training Accuracy= 0.92969\n",
            "Iter  71680 | Minibatch Loss= 549.274658 | Training Accuracy= 0.96875\n",
            "Iter  74240 | Minibatch Loss= 519.775696 | Training Accuracy= 0.92969\n",
            "Iter  76800 | Minibatch Loss= 280.388000 | Training Accuracy= 0.97656\n",
            "Iter  79360 | Minibatch Loss= 611.602417 | Training Accuracy= 0.88281\n",
            "Iter  81920 | Minibatch Loss= 286.086700 | Training Accuracy= 0.94531\n",
            "Iter  84480 | Minibatch Loss= 300.022522 | Training Accuracy= 0.96875\n",
            "Iter  87040 | Minibatch Loss= 538.234375 | Training Accuracy= 0.92188\n",
            "Iter  89600 | Minibatch Loss= 137.346786 | Training Accuracy= 0.98438\n",
            "Iter  92160 | Minibatch Loss= 334.311707 | Training Accuracy= 0.96094\n",
            "Iter  94720 | Minibatch Loss= 395.078918 | Training Accuracy= 0.94531\n",
            "Iter  97280 | Minibatch Loss= 430.923950 | Training Accuracy= 0.94531\n",
            "Iter  99840 | Minibatch Loss= 404.686615 | Training Accuracy= 0.92969\n",
            "Optimization Finished!\n",
            "Testing Accuracy: 0.97265625\n"
          ],
          "name": "stdout"
        }
      ]
    },
    {
      "metadata": {
        "id": "rfdlX91acGYB",
        "colab_type": "text"
      },
      "cell_type": "markdown",
      "source": [
        "Some CNN architectures use **normalization** layers. \n",
        "\n",
        "For example, ``tf.nn.local_response_normalization`` is a function which shapes the output based on a summation operation in the following way: within a given vector, each component is divided by the weighted, squared sum of inputs within a depth radius. \n",
        "\n",
        "> In neurobiology, there is a concept called “lateral inhibition”. This refers to the capacity of an excited neuron to subdue its neighbors.\n",
        "\n",
        "\n",
        "In fact, after a convolutional layer there are two kinds of non linear functions that are usually applied: non-linear activation functions such as sigmoids or **ReLU and pooling**. Pooling layers are used with the purpose to progressively reduce the spatial size of the image to achieve scale invariance.The most common layer is the maxpool layer. Basically a maxpool of $2 \\times 2$ causes a filter of 2 by 2 to traverse over the entire input array and pick the largest element from the window to be included in the next representation map. Pooling can also be implemented by using other criteria, such as averaging instead of taking the max element. \n",
        "\n",
        "A convolutional neural network is a neural network that is build by using several convolutional layers, each one formed by the concatenation of three different operators: **convolutions, non-linear activation and pooling**. This kind of networks are able of extracting powerful image descriptors when applied in sequence. The power of the method has been credited to the fact that these descriptors can be seen as hierarchical features that are suited to optimally represent visual structures in natural images. The last layers of a convolutional neural network are classical dense layers, which are connected to a classification or regression loss function.\n",
        "\n",
        "Finally, it is interesting to point out that convolutional layers are much **lighter**, in terms of number of weights, than fully connected layers, but more computationally demanding (The number of weights we must learn for a $(M \\times N)$ convolution kernel is only $(M \\times N)$, which is independent of the size of the image). \n",
        "\n",
        "In some sense, **convolutional layers trade weights for computation when extracting information**. \n"
      ]
    },
    {
      "metadata": {
        "id": "sjO2z_NfcGYE",
        "colab_type": "text"
      },
      "cell_type": "markdown",
      "source": [
        "## Visualization of learned kernels.\n",
        "\n",
        "<img src=\"https://github.com/DataScienceUB/DeepLearningMaster2019/blob/master/images/weights.jpeg?raw=1\" alt=\"\" style=\"width: 400px;\"/>\n",
        "<center>\n",
        "Convolution kernels from the first AlexNet layer. <br>\n",
        "    \n",
        "Source: http://cs231n.github.io/convolutional-networks/\n",
        "</center>"
      ]
    },
    {
      "metadata": {
        "id": "S2JAN0QRcGYI",
        "colab_type": "text"
      },
      "cell_type": "markdown",
      "source": [
        "## Exercise:\n",
        "\n",
        "**VGGNet**. The runner-up in ILSVRC 2014 was the network from Karen Simonyan and Andrew Zisserman that became known as the VGGNet. Its main contribution was in showing that the depth of the network is a critical component for good performance. Their final best network contains 16 CONV/FC layers and, appealingly, features an extremely homogeneous architecture that only performs $3 \\times 3$ convolutions and $2 \\times 2$ pooling from the beginning to the end. \n",
        "\n",
        "The architecture is:\n",
        "\n",
        "+ INPUT: [224x224x3] \n",
        "+ CONV3-64: [224x224x64]  \n",
        "+ CONV3-64: [224x224x64]  \n",
        "+ POOL2: [112x112x64]  \n",
        "+ CONV3-128: [112x112x128]  \n",
        "+ CONV3-128: [112x112x128]  \n",
        "+ POOL2: [56x56x128]  \n",
        "+ CONV3-256: [56x56x256]  \n",
        "+ CONV3-256: [56x56x256]  \n",
        "+ CONV3-256: [56x56x256]  \n",
        "+ POOL2: [28x28x256]  \n",
        "+ CONV3-512: [28x28x512]  \n",
        "+ CONV3-512: [28x28x512]  \n",
        "+ CONV3-512: [28x28x512]  \n",
        "+ POOL2: [14x14x512]  \n",
        "+ CONV3-512: [14x14x512]  \n",
        "+ CONV3-512: [14x14x512]  \n",
        "+ CONV3-512: [14x14x512]  \n",
        "+ POOL2: [7x7x512]  \n",
        "+ FC1: [1x1x4096]  \n",
        "+ FC2: [1x1x4096]  \n",
        "+ FC3: [1x1x1000]  \n",
        "\n",
        "Which is the approximate number of parameters of this network? Which is the heaviest layer?"
      ]
    },
    {
      "metadata": {
        "id": "r7Ctr0MDcGYJ",
        "colab_type": "code",
        "colab": {}
      },
      "cell_type": "code",
      "source": [
        "# Your code here"
      ],
      "execution_count": 0,
      "outputs": []
    },
    {
      "metadata": {
        "id": "ldmS1Q0IcGYO",
        "colab_type": "text"
      },
      "cell_type": "markdown",
      "source": [
        "## Smile Detection using Convolutional Neural Networks"
      ]
    },
    {
      "metadata": {
        "id": "JPlUydkxcGYP",
        "colab_type": "code",
        "colab": {}
      },
      "cell_type": "code",
      "source": [
        "# Adapted from Kyle McDonald\n",
        "# Project: https://github.com/kylemcdonald/SmileCNN"
      ],
      "execution_count": 0,
      "outputs": []
    },
    {
      "metadata": {
        "id": "8S5p4aWCcGaW",
        "colab_type": "code",
        "colab": {
          "base_uri": "https://localhost:8080/",
          "height": 86
        },
        "outputId": "b3197267-fb86-46c6-9c53-d33fce9f1d36"
      },
      "cell_type": "code",
      "source": [
        "!curl -L -O https://github.com/hromi/SMILEsmileD/archive/master.zip\n",
        "!unzip -q master.zip\n",
        "!rm master.zip"
      ],
      "execution_count": 22,
      "outputs": [
        {
          "output_type": "stream",
          "text": [
            "  % Total    % Received % Xferd  Average Speed   Time    Time     Time  Current\n",
            "                                 Dload  Upload   Total   Spent    Left  Speed\n",
            "100   122    0   122    0     0    762      0 --:--:-- --:--:-- --:--:--   762\n",
            "100 39.6M    0 39.6M    0     0  17.2M      0 --:--:--  0:00:02 --:--:-- 19.5M\n"
          ],
          "name": "stdout"
        }
      ]
    },
    {
      "metadata": {
        "id": "SSt9PviocGac",
        "colab_type": "code",
        "colab": {}
      },
      "cell_type": "code",
      "source": [
        "#util and imports\n",
        "import os\n",
        "import fnmatch\n",
        "\n",
        "def list_all_files(directory, extensions=None):\n",
        "    for root, dirnames, filenames in os.walk(directory):\n",
        "        for filename in filenames:\n",
        "            base, ext = os.path.splitext(filename)\n",
        "            joined = os.path.join(root, filename)\n",
        "            if extensions is None or ext.lower() in extensions:\n",
        "                yield joined\n",
        "                \n",
        "import numpy as np\n",
        "import math\n",
        "\n",
        "def find_rectangle(n, max_ratio=2):\n",
        "    sides = []\n",
        "    square = int(math.sqrt(n))\n",
        "    for w in range(square, max_ratio * square):\n",
        "        h = n / w\n",
        "        used = w * h\n",
        "        leftover = n - used\n",
        "        sides.append((leftover, (w, h)))\n",
        "    return sorted(sides)[0][1]\n",
        "\n",
        "# should work for 1d and 2d images, assumes images are square but can be overriden\n",
        "def make_mosaic(images, n=None, nx=None, ny=None, w=None, h=None):\n",
        "    if n is None and nx is None and ny is None:\n",
        "        nx, ny = find_rectangle(len(images))\n",
        "    else:\n",
        "        nx = n if nx is None else nx\n",
        "        ny = n if ny is None else ny\n",
        "    images = np.array(images)\n",
        "    if images.ndim == 2:\n",
        "        side = int(np.sqrt(len(images[0])))\n",
        "        h = side if h is None else h\n",
        "        w = side if w is None else w\n",
        "        images = images.reshape(-1, h, w)\n",
        "    else:\n",
        "        h = images.shape[1]\n",
        "        w = images.shape[2]\n",
        "    image_gen = iter(images)\n",
        "    mosaic = np.empty((h*ny, w*nx))\n",
        "    for i in range(ny):\n",
        "        ia = (i)*h\n",
        "        ib = (i+1)*h\n",
        "        for j in range(nx):\n",
        "            ja = j*w\n",
        "            jb = (j+1)*w\n",
        "            mosaic[ia:ib, ja:jb] = next(image_gen)\n",
        "    return mosaic\n",
        "\n",
        "import numpy as np\n",
        "from skimage.measure import block_reduce\n",
        "\n",
        "def crop_and_resize(img, target_size=32, zoom=1):\n",
        "    small_side = int(np.min(img.shape) * zoom)\n",
        "    reduce_factor = small_side / target_size\n",
        "    crop_size = target_size * reduce_factor\n",
        "    mid = np.array(img.shape) / 2\n",
        "    half_crop = crop_size / 2\n",
        "    center = img[mid[0]-half_crop:mid[0]+half_crop,\n",
        "    \tmid[1]-half_crop:mid[1]+half_crop]\n",
        "    return block_reduce(center, (reduce_factor, reduce_factor), np.mean)\n",
        "\n",
        "from io import BytesIO\n",
        "import numpy as np\n",
        "import PIL.Image\n",
        "import IPython.display\n",
        "import shutil\n",
        "\n",
        "def show_array(a, fmt='png', filename=None):\n",
        "    a = np.squeeze(a)\n",
        "    a = np.uint8(np.clip(a, 0, 255))\n",
        "    image_data = BytesIO()\n",
        "    PIL.Image.fromarray(a).save(image_data, fmt)\n",
        "    if filename is None:\n",
        "        IPython.display.display(IPython.display.Image(data=image_data.getvalue()))\n",
        "    else:\n",
        "        with open(filename, 'w') as f:\n",
        "            image_data.seek(0)\n",
        "            shutil.copyfileobj(image_data, f)"
      ],
      "execution_count": 0,
      "outputs": []
    },
    {
      "metadata": {
        "id": "6XxOgKtecGai",
        "colab_type": "code",
        "colab": {
          "base_uri": "https://localhost:8080/",
          "height": 51
        },
        "outputId": "bd83f856-de03-4127-bf77-7c4f1223c431"
      },
      "cell_type": "code",
      "source": [
        "negative_paths = list(list_all_files('SMILEsmileD-master/SMILEs/negatives/negatives7/', ['.jpg']))\n",
        "print('loaded', len(negative_paths), 'negative examples')\n",
        "positive_paths = list(list_all_files('SMILEsmileD-master/SMILEs/positives/positives7/', ['.jpg']))\n",
        "print('loaded', len(positive_paths), 'positive examples')\n",
        "examples = [(path, 0) for path in negative_paths] + [(path, 1) for path in positive_paths]"
      ],
      "execution_count": 24,
      "outputs": [
        {
          "output_type": "stream",
          "text": [
            "loaded 9475 negative examples\n",
            "loaded 3690 positive examples\n"
          ],
          "name": "stdout"
        }
      ]
    },
    {
      "metadata": {
        "id": "ehEbuSsvcGam",
        "colab_type": "code",
        "colab": {
          "base_uri": "https://localhost:8080/",
          "height": 637
        },
        "outputId": "8a5d8416-d654-41d8-c58f-d6445793bbfc"
      },
      "cell_type": "code",
      "source": [
        "#!pip install -U scikit-image"
      ],
      "execution_count": 25,
      "outputs": [
        {
          "output_type": "stream",
          "text": [
            "Collecting scikit-image\n",
            "\u001b[?25l  Downloading https://files.pythonhosted.org/packages/d4/ab/674e168bf7d0bc597218b3bec858d02c23fbac9ec1fec9cad878c6cee95f/scikit_image-0.15.0-cp36-cp36m-manylinux1_x86_64.whl (26.3MB)\n",
            "\u001b[K    100% |████████████████████████████████| 26.3MB 1.4MB/s \n",
            "\u001b[?25hRequirement already satisfied, skipping upgrade: scipy>=0.17.0 in /usr/local/lib/python3.6/dist-packages (from scikit-image) (1.1.0)\n",
            "Requirement already satisfied, skipping upgrade: PyWavelets>=0.4.0 in /usr/local/lib/python3.6/dist-packages (from scikit-image) (1.0.2)\n",
            "Collecting pillow>=4.3.0 (from scikit-image)\n",
            "\u001b[?25l  Downloading https://files.pythonhosted.org/packages/d2/c2/f84b1e57416755e967236468dcfb0fad7fd911f707185efc4ba8834a1a94/Pillow-6.0.0-cp36-cp36m-manylinux1_x86_64.whl (2.0MB)\n",
            "\u001b[K    100% |████████████████████████████████| 2.0MB 11.8MB/s \n",
            "\u001b[?25hRequirement already satisfied, skipping upgrade: networkx>=2.0 in /usr/local/lib/python3.6/dist-packages (from scikit-image) (2.2)\n",
            "Requirement already satisfied, skipping upgrade: imageio>=2.0.1 in /usr/local/lib/python3.6/dist-packages (from scikit-image) (2.4.1)\n",
            "Requirement already satisfied, skipping upgrade: matplotlib!=3.0.0,>=2.0.0 in /usr/local/lib/python3.6/dist-packages (from scikit-image) (3.0.3)\n",
            "Requirement already satisfied, skipping upgrade: numpy>=1.8.2 in /usr/local/lib/python3.6/dist-packages (from scipy>=0.17.0->scikit-image) (1.14.6)\n",
            "Requirement already satisfied, skipping upgrade: decorator>=4.3.0 in /usr/local/lib/python3.6/dist-packages (from networkx>=2.0->scikit-image) (4.4.0)\n",
            "Requirement already satisfied, skipping upgrade: kiwisolver>=1.0.1 in /usr/local/lib/python3.6/dist-packages (from matplotlib!=3.0.0,>=2.0.0->scikit-image) (1.0.1)\n",
            "Requirement already satisfied, skipping upgrade: cycler>=0.10 in /usr/local/lib/python3.6/dist-packages (from matplotlib!=3.0.0,>=2.0.0->scikit-image) (0.10.0)\n",
            "Requirement already satisfied, skipping upgrade: python-dateutil>=2.1 in /usr/local/lib/python3.6/dist-packages (from matplotlib!=3.0.0,>=2.0.0->scikit-image) (2.5.3)\n",
            "Requirement already satisfied, skipping upgrade: pyparsing!=2.0.4,!=2.1.2,!=2.1.6,>=2.0.1 in /usr/local/lib/python3.6/dist-packages (from matplotlib!=3.0.0,>=2.0.0->scikit-image) (2.3.1)\n",
            "Requirement already satisfied, skipping upgrade: setuptools in /usr/local/lib/python3.6/dist-packages (from kiwisolver>=1.0.1->matplotlib!=3.0.0,>=2.0.0->scikit-image) (40.8.0)\n",
            "Requirement already satisfied, skipping upgrade: six in /usr/local/lib/python3.6/dist-packages (from cycler>=0.10->matplotlib!=3.0.0,>=2.0.0->scikit-image) (1.11.0)\n",
            "\u001b[31mimgaug 0.2.8 has requirement numpy>=1.15.0, but you'll have numpy 1.14.6 which is incompatible.\u001b[0m\n",
            "\u001b[31mfastai 1.0.50.post1 has requirement numpy>=1.15, but you'll have numpy 1.14.6 which is incompatible.\u001b[0m\n",
            "\u001b[31malbumentations 0.1.12 has requirement imgaug<0.2.7,>=0.2.5, but you'll have imgaug 0.2.8 which is incompatible.\u001b[0m\n",
            "Installing collected packages: pillow, scikit-image\n",
            "  Found existing installation: Pillow 4.1.1\n",
            "    Uninstalling Pillow-4.1.1:\n",
            "      Successfully uninstalled Pillow-4.1.1\n",
            "  Found existing installation: scikit-image 0.13.1\n",
            "    Uninstalling scikit-image-0.13.1:\n",
            "      Successfully uninstalled scikit-image-0.13.1\n",
            "Successfully installed pillow-6.0.0 scikit-image-0.15.0\n"
          ],
          "name": "stdout"
        },
        {
          "output_type": "display_data",
          "data": {
            "application/vnd.colab-display-data+json": {
              "pip_warning": {
                "packages": [
                  "PIL",
                  "skimage"
                ]
              }
            }
          },
          "metadata": {
            "tags": []
          }
        }
      ]
    },
    {
      "metadata": {
        "id": "GrZqMUWKcGas",
        "colab_type": "code",
        "colab": {
          "base_uri": "https://localhost:8080/",
          "height": 106
        },
        "outputId": "ee528ce6-5684-43ce-8a32-e28d8005eee7"
      },
      "cell_type": "code",
      "source": [
        "import numpy as np\n",
        "from skimage.measure import block_reduce\n",
        "from skimage.io import imread\n",
        "\n",
        "def examples_to_dataset(examples, block_size=2):\n",
        "    X = []\n",
        "    y = []\n",
        "    for path, label in examples:\n",
        "        img = imread(path, as_grey=True)\n",
        "        img = block_reduce(img, block_size=(block_size, block_size), func=np.mean)\n",
        "        X.append(img)\n",
        "        y.append(label)\n",
        "    return np.asarray(X), np.asarray(y)\n",
        "\n",
        "%time X, y = examples_to_dataset(examples)"
      ],
      "execution_count": 26,
      "outputs": [
        {
          "output_type": "stream",
          "text": [
            "/usr/local/lib/python3.6/dist-packages/skimage/io/_io.py:48: UserWarning: `as_grey` has been deprecated in favor of `as_gray`\n",
            "  warn('`as_grey` has been deprecated in favor of `as_gray`')\n"
          ],
          "name": "stderr"
        },
        {
          "output_type": "stream",
          "text": [
            "CPU times: user 8.83 s, sys: 540 ms, total: 9.37 s\n",
            "Wall time: 9.38 s\n"
          ],
          "name": "stdout"
        }
      ]
    },
    {
      "metadata": {
        "id": "yEXeERWkcGa2",
        "colab_type": "code",
        "colab": {
          "base_uri": "https://localhost:8080/",
          "height": 51
        },
        "outputId": "1f3aae87-c4b8-4103-e65d-497cca281846"
      },
      "cell_type": "code",
      "source": [
        "X = X.astype(np.float32) / 255.\n",
        "y = y.astype(np.int32)\n",
        "print(X.dtype, X.min(), X.max(), X.shape)\n",
        "print(y.dtype, y.min(), y.max(), y.shape)"
      ],
      "execution_count": 27,
      "outputs": [
        {
          "output_type": "stream",
          "text": [
            "float32 0.0 1.0 (13165, 32, 32)\n",
            "int32 0 1 (13165,)\n"
          ],
          "name": "stdout"
        }
      ]
    },
    {
      "metadata": {
        "id": "1MtGvg0ucGbL",
        "colab_type": "code",
        "colab": {
          "base_uri": "https://localhost:8080/",
          "height": 529
        },
        "outputId": "a975af54-8658-4fec-837f-1b602b701cb0"
      },
      "cell_type": "code",
      "source": [
        "show_array(255 * make_mosaic(X[:len(negative_paths)], 8), fmt='jpeg') # negative at the beginning\n",
        "show_array(255 * make_mosaic(X[-len(positive_paths):], 8), fmt='jpeg') # positive at the end"
      ],
      "execution_count": 28,
      "outputs": [
        {
          "output_type": "display_data",
          "data": {
            "image/jpeg": "[encoded data removed]",
            "text/plain": [
              "<IPython.core.display.Image object>"
            ]
          },
          "metadata": {
            "tags": []
          }
        },
        {
          "output_type": "display_data",
          "data": {
            "image/jpeg": "[encoded data removed]",
            "text/plain": [
              "<IPython.core.display.Image object>"
            ]
          },
          "metadata": {
            "tags": []
          }
        }
      ]
    },
    {
      "metadata": {
        "id": "H_TWbsTLcGbV",
        "colab_type": "code",
        "colab": {}
      },
      "cell_type": "code",
      "source": [
        "X = np.expand_dims(X, axis=-1)\n",
        "np.save('X.npy', X)\n",
        "np.save('y.npy', y)"
      ],
      "execution_count": 0,
      "outputs": []
    },
    {
      "metadata": {
        "id": "vbP9HQKYcGbb",
        "colab_type": "code",
        "colab": {
          "base_uri": "https://localhost:8080/",
          "height": 68
        },
        "outputId": "09f0183d-5be3-4578-abe2-951f732a93a3"
      },
      "cell_type": "code",
      "source": [
        "import numpy as np\n",
        "from keras.models import Sequential\n",
        "from keras.layers.core import Dense, Dropout, Flatten, Reshape\n",
        "from keras.layers.convolutional import Conv2D, MaxPooling2D\n",
        "from keras.utils import np_utils\n",
        "\n",
        "# load the data\n",
        "X = np.load('X.npy')\n",
        "y = np.load('y.npy')\n",
        "\n",
        "# convert classes to vector\n",
        "nb_classes = 2\n",
        "y = np_utils.to_categorical(y, nb_classes).astype(np.float32)\n",
        "\n",
        "# shuffle all the data\n",
        "indices = np.arange(len(X))\n",
        "np.random.shuffle(indices)\n",
        "X = X[indices]\n",
        "y = y[indices]\n",
        "\n",
        "# prepare weighting for classes since they're unbalanced\n",
        "class_totals = y.sum(axis=0)\n",
        "class_weight = class_totals.max() / class_totals\n",
        "\n",
        "print(X.dtype, X.min(), X.max(), X.shape)\n",
        "print(y.dtype, y.min(), y.max(), y.shape)"
      ],
      "execution_count": 30,
      "outputs": [
        {
          "output_type": "stream",
          "text": [
            "float32 0.0 1.0 (13165, 32, 32, 1)\n",
            "float32 0.0 1.0 (13165, 2)\n"
          ],
          "name": "stdout"
        },
        {
          "output_type": "stream",
          "text": [
            "Using TensorFlow backend.\n"
          ],
          "name": "stderr"
        }
      ]
    },
    {
      "metadata": {
        "id": "vkUa9CA4cGbj",
        "colab_type": "code",
        "colab": {
          "base_uri": "https://localhost:8080/",
          "height": 411
        },
        "outputId": "cdb8eb16-3f4b-43e4-f045-a7016d266459"
      },
      "cell_type": "code",
      "source": [
        "nb_filters = 32\n",
        "nb_pool = 2\n",
        "nb_conv = 3\n",
        "\n",
        "model = Sequential()\n",
        "\n",
        "model.add(Conv2D(nb_filters, (nb_conv, nb_conv), activation='relu', input_shape=X.shape[1:]))\n",
        "model.add(Conv2D(nb_filters, (nb_conv, nb_conv), activation='relu'))\n",
        "model.add(MaxPooling2D(pool_size=(nb_pool, nb_pool)))\n",
        "model.add(Dropout(0.25))\n",
        "model.add(Flatten())\n",
        "model.add(Dense(128, activation='relu'))\n",
        "model.add(Dropout(0.5))\n",
        "model.add(Dense(nb_classes, activation='softmax'))\n",
        "\n",
        "model.compile(loss='categorical_crossentropy', optimizer='adam', metrics=['accuracy'])\n",
        "model.summary()"
      ],
      "execution_count": 31,
      "outputs": [
        {
          "output_type": "stream",
          "text": [
            "_________________________________________________________________\n",
            "Layer (type)                 Output Shape              Param #   \n",
            "=================================================================\n",
            "conv2d_1 (Conv2D)            (None, 30, 30, 32)        320       \n",
            "_________________________________________________________________\n",
            "conv2d_2 (Conv2D)            (None, 28, 28, 32)        9248      \n",
            "_________________________________________________________________\n",
            "max_pooling2d_1 (MaxPooling2 (None, 14, 14, 32)        0         \n",
            "_________________________________________________________________\n",
            "dropout_1 (Dropout)          (None, 14, 14, 32)        0         \n",
            "_________________________________________________________________\n",
            "flatten_1 (Flatten)          (None, 6272)              0         \n",
            "_________________________________________________________________\n",
            "dense_1 (Dense)              (None, 128)               802944    \n",
            "_________________________________________________________________\n",
            "dropout_2 (Dropout)          (None, 128)               0         \n",
            "_________________________________________________________________\n",
            "dense_2 (Dense)              (None, 2)                 258       \n",
            "=================================================================\n",
            "Total params: 812,770\n",
            "Trainable params: 812,770\n",
            "Non-trainable params: 0\n",
            "_________________________________________________________________\n"
          ],
          "name": "stdout"
        }
      ]
    },
    {
      "metadata": {
        "id": "TmEzI7LYcGbr",
        "colab_type": "code",
        "colab": {
          "base_uri": "https://localhost:8080/",
          "height": 294
        },
        "outputId": "f49fb9ae-585a-4017-cb55-9a35a5c89342"
      },
      "cell_type": "code",
      "source": [
        "validation_split = 0.10\n",
        "model.fit(X, y, batch_size=128, class_weight=class_weight, epochs=5, verbose=1, validation_split=validation_split)"
      ],
      "execution_count": 32,
      "outputs": [
        {
          "output_type": "stream",
          "text": [
            "WARNING:tensorflow:From /usr/local/lib/python3.6/dist-packages/tensorflow/python/ops/math_ops.py:3066: to_int32 (from tensorflow.python.ops.math_ops) is deprecated and will be removed in a future version.\n",
            "Instructions for updating:\n",
            "Use tf.cast instead.\n",
            "Train on 11848 samples, validate on 1317 samples\n",
            "Epoch 1/5\n",
            "11848/11848 [==============================] - 33s 3ms/step - loss: 0.4723 - acc: 0.7698 - val_loss: 0.3584 - val_acc: 0.8466\n",
            "Epoch 2/5\n",
            "11848/11848 [==============================] - 33s 3ms/step - loss: 0.3376 - acc: 0.8563 - val_loss: 0.3120 - val_acc: 0.8770\n",
            "Epoch 3/5\n",
            "11848/11848 [==============================] - 33s 3ms/step - loss: 0.3061 - acc: 0.8809 - val_loss: 0.2787 - val_acc: 0.8853\n",
            "Epoch 4/5\n",
            "11848/11848 [==============================] - 33s 3ms/step - loss: 0.2876 - acc: 0.8861 - val_loss: 0.2611 - val_acc: 0.8937\n",
            "Epoch 5/5\n",
            "11848/11848 [==============================] - 32s 3ms/step - loss: 0.2678 - acc: 0.8985 - val_loss: 0.2412 - val_acc: 0.9104\n"
          ],
          "name": "stdout"
        },
        {
          "output_type": "execute_result",
          "data": {
            "text/plain": [
              "<keras.callbacks.History at 0x7f7116cafe80>"
            ]
          },
          "metadata": {
            "tags": []
          },
          "execution_count": 32
        }
      ]
    },
    {
      "metadata": {
        "id": "YOgt-Z0ScGby",
        "colab_type": "code",
        "colab": {}
      },
      "cell_type": "code",
      "source": [
        "open('model.json', 'w').write(model.to_json())\n",
        "model.save_weights('weights.h5')"
      ],
      "execution_count": 0,
      "outputs": []
    },
    {
      "metadata": {
        "id": "GAYDOJY8cGcG",
        "colab_type": "code",
        "colab": {
          "base_uri": "https://localhost:8080/",
          "height": 319
        },
        "outputId": "0dbcc20b-1d92-482b-a461-3200dcc22419"
      },
      "cell_type": "code",
      "source": [
        "%matplotlib inline\n",
        "from matplotlib import pyplot as plt\n",
        "plt.plot(model.model.history.history['loss'])\n",
        "plt.plot(model.model.history.history['acc'])\n",
        "plt.plot(model.model.history.history['val_loss'])\n",
        "plt.plot(model.model.history.history['val_acc'])\n",
        "plt.show()"
      ],
      "execution_count": 34,
      "outputs": [
        {
          "output_type": "stream",
          "text": [
            "/usr/local/lib/python3.6/dist-packages/keras/engine/sequential.py:110: UserWarning: `Sequential.model` is deprecated. `Sequential` is a subclass of `Model`, you can just use your `Sequential` instance directly.\n",
            "  warnings.warn('`Sequential.model` is deprecated. '\n"
          ],
          "name": "stderr"
        },
        {
          "output_type": "display_data",
          "data": {
            "image/png": "[encoded data removed]",
            "text/plain": [
              "<Figure size 432x288 with 1 Axes>"
            ]
          },
          "metadata": {
            "tags": []
          }
        }
      ]
    },
    {
      "metadata": {
        "id": "jND3ZLLtcGcL",
        "colab_type": "code",
        "colab": {
          "base_uri": "https://localhost:8080/",
          "height": 34
        },
        "outputId": "4f154ea0-73b2-436d-aecd-b69eae875331"
      },
      "cell_type": "code",
      "source": [
        "from sklearn.metrics import roc_auc_score\n",
        "n_validation = int(len(X) * validation_split)\n",
        "y_predicted = model.predict(X[-n_validation:])\n",
        "print(roc_auc_score(y[-n_validation:], y_predicted))"
      ],
      "execution_count": 35,
      "outputs": [
        {
          "output_type": "stream",
          "text": [
            "0.957985626213427\n"
          ],
          "name": "stdout"
        }
      ]
    }
  ]
}
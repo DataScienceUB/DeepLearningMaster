{
  "nbformat": 4,
  "nbformat_minor": 0,
  "metadata": {
    "colab": {
      "name": "9. Convolutional Neural Networks.ipynb",
      "version": "0.3.2",
      "provenance": [],
      "include_colab_link": true
    },
    "kernelspec": {
      "name": "python3",
      "display_name": "Python 3"
    },
    "accelerator": "GPU"
  },
  "cells": [
    {
      "cell_type": "markdown",
      "metadata": {
        "id": "view-in-github",
        "colab_type": "text"
      },
      "source": [
        "<a href=\"https://colab.research.google.com/github/DataScienceUB/DeepLearningMaster2019/blob/master/9.%20Convolutional%20Neural%20Networks.ipynb\" target=\"_parent\"><img src=\"https://colab.research.google.com/assets/colab-badge.svg\" alt=\"Open In Colab\"/></a>"
      ]
    },
    {
      "metadata": {
        "id": "RBrbcD8RcGVX",
        "colab_type": "text"
      },
      "cell_type": "markdown",
      "source": [
        "# 9. Convolutional Neural Networks\n",
        "\n",
        "> A Convolutional Neural Networks is a NN which has at least one layer (``tf.nn.conv2d`` in ``tf``) that does a convolution between its input $f$ and a configurable kernel $k$, $(f*k)$. \n",
        "\n",
        "Convolutional Neural Networks have been some of the most influential innovations in the field of **computer vision** in the last years. \n",
        "\n",
        "When considering the analysis of an image with a computer we must define a computational representation of an image. To this end, images are represented as $n \\times m \\times 3$ array of numbers, called **pixels**.\n",
        "The 3 refers to RGB values and $n, m$ refers to the height and width of the image in pixels. Each number in this array is given a value from 0 to 255 which describes the pixel intensity at that point.  These numbers are the only inputs available to the computer. \n",
        "\n",
        "**What is to classify an image?** The idea is that you give the computer this array of numbers and it must output numbers that describe the probability of the image being a certain class.\n",
        "\n",
        "Of course, this kind of image representation is suited to be classified by a classical neural network composed of **dense layers**, but this approach has **several limitations**.\n",
        "\n",
        "The first one is that large images with a high number of pixels will need from **extremely large networks** to be analyzed. If an image has $256 \\times 256 = 65,536$ pixels, the first layer of a classical neural network needs to have $65,536 \\times 65,536 = 4,294,967,296$ different weights to consider all pixel interactions. Even in the case that this number of weights could be stored in the available memory, learning these weights would be very time consuming. But there are better alternatives.\n",
        "\n",
        "One possible solution for this problem is to consider **local receptive fields (LRF)** (an inspiration that comes from neuroscience). A local receptive field is a standard MLP with a local view of the image: its input is a submatrix $M \\times M$ of the original $N \\times N$, where $M << N$.\n",
        "\n",
        "Using LRF is like decomposing the problem of image analysis in a set of local *experts* that are specialized in certain parts of the image. The outcome of these specialists can be integrated at a high level of the model.\n",
        "\n",
        "> Could you propose a problem where a LRF architecture could be the best option?\n",
        "\n",
        "Let's suppose we are dealing with a common task: object detection.\n",
        "\n",
        "In the most general setting, images represent the field of view of a camera (robot, autonomous car, person, etc.). Hence, we cannot assume any prior information about the presence of the object of interest on the image (i.e. any prior information about its scale, point of view, etc. or even its localization with respect to image coordinates). \n",
        "\n",
        "> An object may appear at any image coordinates!\n",
        "\n",
        "In this case LRF are not suited for this task because in order to learn a detector we should provide the model with a lot of examples in order to consider all possible object localitions!\n",
        "\n",
        "But, what about sharing LRF weights?\n",
        "\n",
        "Natural images are not a random combination of values in a $N \\times M$ array, but present **strong correlations** at different levels. \n",
        "\n",
        "At the most basic, it is evident that the **value of a pixel** is not independent of the values of its neighboring pixels. \n",
        "\n",
        "Moreover, natural images present another interesting property: **location invariance**. That means that visual structures, such as a cat or a dog, can be present on any place of the image at any scale. Image location is not important, what is important for attaching a meaning to an image are the **relative positions of geometric and photometric structures**. \n",
        "\n",
        "All this considerations leaded, partially inspired by biological models, to the proposal of a very special kind of layers: those based on **convolutions**. \n",
        "\n",
        "> A convolution is a mathematical operation that combines two input images to form a third one. One of the input images is the image we want to process. The other one, that is smaller, is called the kernel. \n",
        "\n",
        "Let's suppose that our kernel is this one:\n",
        "\n",
        "$$ Kernel = \\left( \\begin{array}{rrr} 0 & -1 & 0 \\\\ -1 & 5 & -1 \\\\  0 & -1 & 0 \\end{array} \\right)$$\n",
        "\n",
        "The output of image convolution is calculated as follows:\n",
        "\n",
        "- Flip the kernel both horizontally and vertically. As our selected kernel is symmetric, the flipped kernel is equal to the original.\n",
        "- Put the first element of the kernel at every element of the image matrix. Multiply each element of the kernel with its corresponding element of the image matrix (the one which is overlapped with it). \n",
        "- Sum up all product outputs and put the result at the same position in the output matrix as the center of kernel in image matrix.\n"
      ]
    },
    {
      "metadata": {
        "id": "6dA1Hr8mcGVb",
        "colab_type": "text"
      },
      "cell_type": "markdown",
      "source": [
        "## What is a convolution?\n",
        "\n",
        "Mathematically, given a convolution kernel $K$ represented by a $(M \\times N)$ array, the convolution of an image $I$ with $K$ is:\n",
        "\n",
        "$$\n",
        "output(x,y) = (I \\otimes K)(x,y) = \\sum_{m=0}^{M-1} \\sum_{n=1}^{N-1} K(m,n) I(x-n, y-m)\n",
        "$$\n",
        "\n",
        "The output of image convolution is another image that might represent some kind of information that was present in the image in a very subtle way. For example, the kernel we have used is called an **edge detector** because it highlights the edges of visual structures and attenuates smooth regions. \n",
        "\n",
        "> [Convolution visualization](http://deeplearning.net/software/theano_versions/dev/_images/numerical_no_padding_no_strides.gif)\n",
        "\n",
        "> Demo: http://setosa.io/ev/image-kernels/\n",
        "\n",
        "In **convolutional neural networks** the values of the kernel matrix are **free parameters** that must be learned to perform the optimal information extraction in order to classify the image. \n",
        "\n",
        "Convolutions are linear operators and because of this the application of successive convolutions can always be represented by a single convolution.\n",
        "\n",
        "$$\n",
        "((I \\otimes K_1) \\otimes K_2) = (I \\otimes (K_1 \\otimes K_2))\n",
        "$$\n",
        "\n",
        "But if we apply a non linear activation function after each convolution the application of successive convolution operators makes sense and results in a powerful image feature structure. "
      ]
    },
    {
      "metadata": {
        "id": "Jm8f73RWcGVq",
        "colab_type": "code",
        "outputId": "cd6bc9b9-a1d6-4c46-e0a1-62ffe6e67e95",
        "colab": {
          "base_uri": "https://localhost:8080/",
          "height": 287
        }
      },
      "cell_type": "code",
      "source": [
        "import tensorflow as tf\n",
        "import numpy as np\n",
        "from imageio import imread\n",
        "from skimage.transform import resize\n",
        "import matplotlib.pyplot as plt\n",
        "%matplotlib inline\n",
        "\n",
        "sample_image = imread(\"https://raw.githubusercontent.com/DataScienceUB/DeepLearningMaster2019/master/images/result.png\")\n",
        "sample_image = sample_image.astype(float)\n",
        "\n",
        "size = sample_image.shape\n",
        "print(\"sample image shape: \"+ str(sample_image.shape))\n",
        "\n",
        "def show(image):\n",
        "    image = np.squeeze(image.astype(\"uint8\"))\n",
        "    plt.imshow(image, cmap=\"gray\")\n",
        "\n",
        "show(sample_image)"
      ],
      "execution_count": 5,
      "outputs": [
        {
          "output_type": "stream",
          "text": [
            "sample image shape: (256, 209, 4)\n"
          ],
          "name": "stdout"
        },
        {
          "output_type": "display_data",
          "data": {
            "image/png": "[encoded data removed]",
            "text/plain": [
              "<Figure size 432x288 with 1 Axes>"
            ]
          },
          "metadata": {
            "tags": []
          }
        }
      ]
    },
    {
      "metadata": {
        "id": "Pna4d08LcGVy",
        "colab_type": "code",
        "outputId": "9cff5c60-830e-43ed-eceb-4812aae87e71",
        "colab": {
          "base_uri": "https://localhost:8080/",
          "height": 35
        }
      },
      "cell_type": "code",
      "source": [
        "sample_image= sample_image[:,:,:-1]\n",
        "sample_image.shape"
      ],
      "execution_count": 6,
      "outputs": [
        {
          "output_type": "execute_result",
          "data": {
            "text/plain": [
              "(256, 209, 3)"
            ]
          },
          "metadata": {
            "tags": []
          },
          "execution_count": 6
        }
      ]
    },
    {
      "metadata": {
        "id": "NomKnJcQcGV-",
        "colab_type": "text"
      },
      "cell_type": "markdown",
      "source": [
        "#### Example\n",
        "\n",
        "Let's build a convolution filter that blurs the image using `tf.nn.depthwise_conv2d`. This function treats each channel separately. If not, it would be a 3D convolution!\n",
        "\n",
        "Given an input tensor of shape ``[batch,  in_height, in_width, in_channels]`` and a filter tensor of shape ``[filter_height, filter_width, in_channels, channel_multiplier]`` containing ``in_channels`` convolutional filters of depth 1, ``depthwise_conv2d`` applies a different filter to each input channel (expanding from 1 channel to ``channel_multiplier`` channels for each), then concatenates the results together. "
      ]
    },
    {
      "metadata": {
        "id": "9tvnQtibcGV_",
        "colab_type": "code",
        "outputId": "281934b5-cb9b-40ce-99b6-b7e44c259660",
        "colab": {
          "base_uri": "https://localhost:8080/",
          "height": 312
        }
      },
      "cell_type": "code",
      "source": [
        "image = tf.placeholder(tf.float32, shape=(None, None, None, 3))\n",
        "kernel = tf.placeholder(tf.float32, shape=(5, 5, 3))\n",
        "\n",
        "def conv(x, k):\n",
        "    k = tf.reshape(k, shape=(5, 5, 3, 1))\n",
        "    return tf.nn.depthwise_conv2d(x, \n",
        "                                  k, \n",
        "                                  strides=(1, 1, 1, 1),\n",
        "                                  padding='SAME')\n",
        "    \n",
        "\n",
        "kernel_data = np.zeros(shape=(5, 5, 3)).astype(np.float32)\n",
        "kernel_data[:, :, :] = 1 / 25.0\n",
        "\n",
        "output_image = conv(image, kernel)\n",
        "\n",
        "\n",
        "# move the channel dimension to the first dimension to\n",
        "# make it easy to see the spacial organization of the kernel\n",
        "# on the last 2 dimensions with print:\n",
        "print(np.transpose(kernel_data, (2, 0, 1))) "
      ],
      "execution_count": 7,
      "outputs": [
        {
          "output_type": "stream",
          "text": [
            "[[[0.04 0.04 0.04 0.04 0.04]\n",
            "  [0.04 0.04 0.04 0.04 0.04]\n",
            "  [0.04 0.04 0.04 0.04 0.04]\n",
            "  [0.04 0.04 0.04 0.04 0.04]\n",
            "  [0.04 0.04 0.04 0.04 0.04]]\n",
            "\n",
            " [[0.04 0.04 0.04 0.04 0.04]\n",
            "  [0.04 0.04 0.04 0.04 0.04]\n",
            "  [0.04 0.04 0.04 0.04 0.04]\n",
            "  [0.04 0.04 0.04 0.04 0.04]\n",
            "  [0.04 0.04 0.04 0.04 0.04]]\n",
            "\n",
            " [[0.04 0.04 0.04 0.04 0.04]\n",
            "  [0.04 0.04 0.04 0.04 0.04]\n",
            "  [0.04 0.04 0.04 0.04 0.04]\n",
            "  [0.04 0.04 0.04 0.04 0.04]\n",
            "  [0.04 0.04 0.04 0.04 0.04]]]\n"
          ],
          "name": "stdout"
        }
      ]
    },
    {
      "metadata": {
        "id": "8p_csSQ-MGLF",
        "colab_type": "code",
        "colab": {
          "base_uri": "https://localhost:8080/",
          "height": 520
        },
        "outputId": "10ca8236-a244-49de-86e3-3f8d9637c0fa"
      },
      "cell_type": "code",
      "source": [
        "print(kernel_data) "
      ],
      "execution_count": 8,
      "outputs": [
        {
          "output_type": "stream",
          "text": [
            "[[[0.04 0.04 0.04]\n",
            "  [0.04 0.04 0.04]\n",
            "  [0.04 0.04 0.04]\n",
            "  [0.04 0.04 0.04]\n",
            "  [0.04 0.04 0.04]]\n",
            "\n",
            " [[0.04 0.04 0.04]\n",
            "  [0.04 0.04 0.04]\n",
            "  [0.04 0.04 0.04]\n",
            "  [0.04 0.04 0.04]\n",
            "  [0.04 0.04 0.04]]\n",
            "\n",
            " [[0.04 0.04 0.04]\n",
            "  [0.04 0.04 0.04]\n",
            "  [0.04 0.04 0.04]\n",
            "  [0.04 0.04 0.04]\n",
            "  [0.04 0.04 0.04]]\n",
            "\n",
            " [[0.04 0.04 0.04]\n",
            "  [0.04 0.04 0.04]\n",
            "  [0.04 0.04 0.04]\n",
            "  [0.04 0.04 0.04]\n",
            "  [0.04 0.04 0.04]]\n",
            "\n",
            " [[0.04 0.04 0.04]\n",
            "  [0.04 0.04 0.04]\n",
            "  [0.04 0.04 0.04]\n",
            "  [0.04 0.04 0.04]\n",
            "  [0.04 0.04 0.04]]]\n"
          ],
          "name": "stdout"
        }
      ]
    },
    {
      "metadata": {
        "id": "N3ZWx0WpcGWG",
        "colab_type": "code",
        "outputId": "15970207-faf6-4529-9714-8c5f29cfb843",
        "colab": {
          "base_uri": "https://localhost:8080/",
          "height": 287
        }
      },
      "cell_type": "code",
      "source": [
        "with tf.Session() as sess:\n",
        "    feed_dict = {image: [sample_image], kernel: kernel_data}\n",
        "    conv_img = sess.run(output_image, feed_dict=feed_dict)\n",
        "    print(conv_img.shape)\n",
        "    show(conv_img[0])"
      ],
      "execution_count": 9,
      "outputs": [
        {
          "output_type": "stream",
          "text": [
            "(1, 256, 209, 3)\n"
          ],
          "name": "stdout"
        },
        {
          "output_type": "display_data",
          "data": {
            "image/png": "[encoded data removed]",
            "text/plain": [
              "<Figure size 432x288 with 1 Axes>"
            ]
          },
          "metadata": {
            "tags": []
          }
        }
      ]
    },
    {
      "metadata": {
        "id": "sZ-FpnsbcGWN",
        "colab_type": "text"
      },
      "cell_type": "markdown",
      "source": [
        "#### Example\n",
        "\n",
        "``tf.nn.conv2d``: Given an input tensor of shape ``[batch, in_height, in_width, in_channels]`` and a filter / kernel tensor of shape ``[filter_height, filter_width, in_channels, out_channels]``, this op performs the following:\n",
        "\n",
        "+ Flattens the filter to a 2-D matrix with shape ``[filter_height * filter_width * in_channels, output_channels]``.\n",
        "+ Extracts image patches from the input tensor to form a virtual tensor of shape ``[batch, out_height, out_width, filter_height * filter_width * in_channels]``.\n",
        "+ For each patch, right-multiplies the filter matrix and the image patch vector."
      ]
    },
    {
      "metadata": {
        "id": "H6sGnE95cGWO",
        "colab_type": "code",
        "outputId": "8efdbc9e-28aa-4209-ed28-e04c0f9fbeb4",
        "colab": {
          "base_uri": "https://localhost:8080/",
          "height": 308
        }
      },
      "cell_type": "code",
      "source": [
        "image = tf.placeholder(tf.float32, shape=(None, None, None, 3))\n",
        "kernel = tf.placeholder(tf.float32, shape=(5, 5, 3))\n",
        "\n",
        "def conv(x, k):\n",
        "    k = tf.reshape(k, shape=(5, 5, 3, 1))\n",
        "    return tf.nn.conv2d(x, \n",
        "                        k, \n",
        "                        strides=(1, 1, 1, 1),\n",
        "                        padding='SAME')\n",
        "    \n",
        "output_image = conv(image, kernel)\n",
        "kernel_data = np.zeros(shape=(5, 5, 3)).astype(np.float32)\n",
        "kernel_data[:, :, :] = 1 / 125.0\n",
        "\n",
        "# move the channel dimension to the first dimension to\n",
        "# make it easy to see the spacial organization of the kernel\n",
        "# on the last 2 dimensions with print:\n",
        "print(np.transpose(kernel_data, (2, 0, 1))) "
      ],
      "execution_count": 0,
      "outputs": [
        {
          "output_type": "stream",
          "text": [
            "[[[0.008 0.008 0.008 0.008 0.008]\n",
            "  [0.008 0.008 0.008 0.008 0.008]\n",
            "  [0.008 0.008 0.008 0.008 0.008]\n",
            "  [0.008 0.008 0.008 0.008 0.008]\n",
            "  [0.008 0.008 0.008 0.008 0.008]]\n",
            "\n",
            " [[0.008 0.008 0.008 0.008 0.008]\n",
            "  [0.008 0.008 0.008 0.008 0.008]\n",
            "  [0.008 0.008 0.008 0.008 0.008]\n",
            "  [0.008 0.008 0.008 0.008 0.008]\n",
            "  [0.008 0.008 0.008 0.008 0.008]]\n",
            "\n",
            " [[0.008 0.008 0.008 0.008 0.008]\n",
            "  [0.008 0.008 0.008 0.008 0.008]\n",
            "  [0.008 0.008 0.008 0.008 0.008]\n",
            "  [0.008 0.008 0.008 0.008 0.008]\n",
            "  [0.008 0.008 0.008 0.008 0.008]]]\n"
          ],
          "name": "stdout"
        }
      ]
    },
    {
      "metadata": {
        "id": "FlbG8XWlcGWW",
        "colab_type": "code",
        "outputId": "899124b9-1b1e-46d9-9461-c65cf92527fb",
        "colab": {
          "base_uri": "https://localhost:8080/",
          "height": 286
        }
      },
      "cell_type": "code",
      "source": [
        "with tf.Session() as sess:\n",
        "    feed_dict = {image: [sample_image], kernel: kernel_data}\n",
        "    conv_img = sess.run(output_image, feed_dict=feed_dict)\n",
        "    print(conv_img.shape)\n",
        "    show(conv_img[0])"
      ],
      "execution_count": 0,
      "outputs": [
        {
          "output_type": "stream",
          "text": [
            "(1, 256, 209, 1)\n"
          ],
          "name": "stdout"
        },
        {
          "output_type": "display_data",
          "data": {
            "image/png": "[encoded data removed]",
            "text/plain": [
              "<Figure size 432x288 with 1 Axes>"
            ]
          },
          "metadata": {
            "tags": []
          }
        }
      ]
    },
    {
      "metadata": {
        "id": "m2yF8T-GcGWl",
        "colab_type": "text"
      },
      "cell_type": "markdown",
      "source": [
        "### Exercise\n",
        "\n",
        "+ What happens if we build a 3x3 kernel with stride 2? What is the size of the output image?\n",
        "\n",
        "\n",
        "+ When a kernel is overlapped on an image it should be set to fit within the bounds of the image. Filling the missing area of the image is known as *padding* the image. The padding parameter must be ``SAME``  if we want the convolution output to be the same size as the input, and ``VALID`` if we want only the useful part of the output.   \n",
        "What happens if we change the padding to 'VALID'?"
      ]
    },
    {
      "metadata": {
        "id": "oGBsCTy_cGWm",
        "colab_type": "code",
        "colab": {}
      },
      "cell_type": "code",
      "source": [
        "# your code here\n",
        "\n"
      ],
      "execution_count": 0,
      "outputs": []
    },
    {
      "metadata": {
        "id": "oxmDTba6cGWr",
        "colab_type": "text"
      },
      "cell_type": "markdown",
      "source": [
        "## Convolutional Neural Netwoks\n",
        "\n",
        "The kernel weights can be learn from examples if we define a loss function.\n",
        "\n",
        "> CNN are composed of repetitive blocks of neurons that are applied across\n",
        "space (for images) or time (for audio signals).\n",
        "\n",
        "> For images, these blocks of neurons can be interpreted as\n",
        "2D convolutional kernels, repeatedly applied over each\n",
        "patch of the image.\n",
        "\n",
        "<img src=\"https://github.com/DataScienceUB/DeepLearningMaster2019/blob/master/images/conv.png?raw=1\" alt=\"https://community.arm.com/cfs-file/__key/communityserver-blogs-components-weblogfiles/00-00-00-20-66/4786.conv.png\" style=\"width: 500px;\"/>\n",
        "\n",
        "\n",
        "> For speech, they can be seen as the 1D convolutional\n",
        "kernels applied across time-windows.\n",
        "\n",
        "<img src=\"https://github.com/DataScienceUB/DeepLearningMaster2019/blob/master/images/spectrogram.png?raw=1\" alt=\"\" style=\"width: 500px;\"/>\n",
        "\n",
        "\n",
        "At training time, the weights for these repeated blocks are\n",
        "'shared', i.e. the weight gradients learned over various\n",
        "image patches are averaged."
      ]
    },
    {
      "metadata": {
        "id": "78h98OQ1cGWx",
        "colab_type": "text"
      },
      "cell_type": "markdown",
      "source": [
        "CNN where originally proposed in early 90's by Y.LeCun:\n",
        "\n",
        "<img src=\"https://github.com/DataScienceUB/DeepLearningMaster2019/blob/master/images/conv2.png?raw=1\" alt=\"\" style=\"width: 700px;\"/>\n",
        "\n",
        "\n",
        "LeNet architecture used one additional ingredient: **max pooling**. Pooling is a way of sub-sampling, i.e. reducing the dimension of the input. It is usually done after convolutional layers. \n",
        "\n",
        "It is also useful since it provides a form of translation invariance. "
      ]
    },
    {
      "metadata": {
        "id": "4Fa0xEZvcGWz",
        "colab_type": "text"
      },
      "cell_type": "markdown",
      "source": [
        "## MNIST Convolutional Network \n",
        "\n",
        "A simple CNN architecture combines a convolutional layer (``tf.nn.conv2d``), a non-linear activation function (``tf.nn.relu``), a pooling layer (``tf.nn.max_pool``) and a fully connected layer (``tf.matmul``). \n",
        "\n",
        "<img src=\"https://github.com/DataScienceUB/DeepLearningMaster2019/blob/master/images/maxpool.jpeg?raw=1\" alt=\"\" style=\"width: 400px;\"/>\n",
        "<center>\n",
        "Max Pooling. Source: http://cs231n.github.io/convolutional-networks/\n",
        "</center>\n",
        "\n",
        "\n",
        "The ``tf`` input pipeline is designed to work with multiple images in a batch: `` [image_batch_size, image_height, image_width, image_channels] ``. "
      ]
    },
    {
      "metadata": {
        "id": "J1VTGSC8cGW2",
        "colab_type": "code",
        "outputId": "e6df67b3-8863-49a9-8934-d905e799af3e",
        "colab": {
          "base_uri": "https://localhost:8080/",
          "height": 87
        }
      },
      "cell_type": "code",
      "source": [
        "# Adapted notebook from Author: Aymeric Damien\n",
        "# Project: https://github.com/aymericdamien/TensorFlow-Examples/\n",
        "\n",
        "# Import MINST data\n",
        "from tensorflow.examples.tutorials.mnist import input_data\n",
        "mnist = input_data.read_data_sets(\"tmp/data/\", one_hot=True)"
      ],
      "execution_count": 57,
      "outputs": [
        {
          "output_type": "stream",
          "text": [
            "Extracting tmp/data/train-images-idx3-ubyte.gz\n",
            "Extracting tmp/data/train-labels-idx1-ubyte.gz\n",
            "Extracting tmp/data/t10k-images-idx3-ubyte.gz\n",
            "Extracting tmp/data/t10k-labels-idx1-ubyte.gz\n"
          ],
          "name": "stdout"
        }
      ]
    },
    {
      "metadata": {
        "id": "u8NAYOlKcGW8",
        "colab_type": "code",
        "colab": {}
      },
      "cell_type": "code",
      "source": [
        "import tensorflow as tf\n",
        "\n",
        "# Parameters\n",
        "learning_rate = 0.01\n",
        "training_iters = 100000\n",
        "batch_size = 128\n",
        "display_step = 20"
      ],
      "execution_count": 0,
      "outputs": []
    },
    {
      "metadata": {
        "id": "lCd4WqFQcGW_",
        "colab_type": "code",
        "colab": {}
      },
      "cell_type": "code",
      "source": [
        "# Network Parameters\n",
        "n_input = 784 # MNIST data input (img shape: 28*28)\n",
        "n_classes = 10 # MNIST total classes (0-9 digits)\n",
        "dropout = 0.75 # Dropout, probability to keep units"
      ],
      "execution_count": 0,
      "outputs": []
    },
    {
      "metadata": {
        "id": "1dJl6TrJcGXD",
        "colab_type": "code",
        "colab": {}
      },
      "cell_type": "code",
      "source": [
        "# tf Graph input\n",
        "x = tf.placeholder(tf.float32, [None, n_input])\n",
        "y = tf.placeholder(tf.float32, [None, n_classes])\n",
        "keep_prob = tf.placeholder(tf.float32) #dropout (keep probability)"
      ],
      "execution_count": 0,
      "outputs": []
    },
    {
      "metadata": {
        "id": "OsEBDe0VcGXL",
        "colab_type": "text"
      },
      "cell_type": "markdown",
      "source": [
        "The parameter ``strides`` causes a kernel to skip over pixels of an image and not to include them in the output. \n",
        "\n",
        "Strides are a way to adjust the dimensionality of input tensors (to reduce processing power). This allows the design of CNN with small kernels but getting information from large parts of the input. "
      ]
    },
    {
      "metadata": {
        "id": "za8G8NGmcGXM",
        "colab_type": "code",
        "colab": {}
      },
      "cell_type": "code",
      "source": [
        "# Create model\n",
        "def conv2d(img, w, b):\n",
        "    return tf.nn.relu(tf.nn.bias_add(tf.nn.conv2d(img, w, strides=[1, 1, 1, 1], \n",
        "                                                  padding='SAME'),b))\n",
        "\n",
        "def max_pool(img, k):\n",
        "    return tf.nn.max_pool(img, ksize=[1, k, k, 1], strides=[1, k, k, 1], padding='SAME')\n",
        "\n",
        "def conv_net(_X, _weights, _biases, _dropout):\n",
        "    # Reshape input picture\n",
        "    _X = tf.reshape(_X, shape=[-1, 28, 28, 1])\n",
        "\n",
        "    # Convolution Layer\n",
        "    conv1 = conv2d(_X, _weights['wc1'], _biases['bc1'])\n",
        "    # Max Pooling (down-sampling)\n",
        "    conv1 = max_pool(conv1, k=2)\n",
        "    # Apply Dropout\n",
        "    conv1 = tf.nn.dropout(conv1, _dropout)\n",
        "\n",
        "    # Convolution Layer\n",
        "    conv2 = conv2d(conv1, _weights['wc2'], _biases['bc2'])\n",
        "    # Max Pooling (down-sampling)\n",
        "    conv2 = max_pool(conv2, k=2)\n",
        "    # Apply Dropout\n",
        "    conv2 = tf.nn.dropout(conv2, _dropout)\n",
        "\n",
        "    # Fully connected layer\n",
        "    # Reshape conv2 output to fit dense layer input\n",
        "    dense1 = tf.reshape(conv2, [-1, _weights['wd1'].get_shape().as_list()[0]]) \n",
        "    # Relu activation\n",
        "    dense1 = tf.nn.relu(tf.add(tf.matmul(dense1, _weights['wd1']), _biases['bd1']))\n",
        "    # Apply Dropout\n",
        "    dense1 = tf.nn.dropout(dense1, _dropout) # Apply Dropout\n",
        "\n",
        "    # Output, class prediction\n",
        "    out = tf.add(tf.matmul(dense1, _weights['out']), _biases['out'])\n",
        "    return out"
      ],
      "execution_count": 0,
      "outputs": []
    },
    {
      "metadata": {
        "id": "OP6gwSLAcGXX",
        "colab_type": "code",
        "colab": {}
      },
      "cell_type": "code",
      "source": [
        "# Store layers weight & bias\n",
        "weights = {\n",
        "    # 5x5 conv, 1 input, 32 outputs\n",
        "    'wc1': tf.Variable(tf.random_normal([5, 5, 1, 32])), \n",
        "    # 5x5 conv, 32 inputs, 64 outputs\n",
        "    'wc2': tf.Variable(tf.random_normal([5, 5, 32, 64])), \n",
        "    # fully connected, 7*7*64 inputs, 512 outputs\n",
        "    'wd1': tf.Variable(tf.random_normal([7*7*64, 512])), \n",
        "    # 512 inputs, 10 outputs (class prediction)\n",
        "    'out': tf.Variable(tf.random_normal([512, n_classes])) \n",
        "}\n",
        "\n",
        "biases = {\n",
        "    'bc1': tf.Variable(tf.random_normal([32])),\n",
        "    'bc2': tf.Variable(tf.random_normal([64])),\n",
        "    'bd1': tf.Variable(tf.random_normal([512])),\n",
        "    'out': tf.Variable(tf.random_normal([n_classes]))\n",
        "}"
      ],
      "execution_count": 0,
      "outputs": []
    },
    {
      "metadata": {
        "id": "Vq-Ut_accGXc",
        "colab_type": "code",
        "colab": {}
      },
      "cell_type": "code",
      "source": [
        "# Construct model\n",
        "pred = conv_net(x, weights, biases, keep_prob)"
      ],
      "execution_count": 0,
      "outputs": []
    },
    {
      "metadata": {
        "id": "OObJtIlhcGXg",
        "colab_type": "code",
        "colab": {}
      },
      "cell_type": "code",
      "source": [
        "# Define loss and optimizer\n",
        "cost = tf.reduce_mean(tf.nn.softmax_cross_entropy_with_logits_v2\n",
        "                      (logits= pred, labels= y))\n",
        "optimizer = tf.train.AdamOptimizer(learning_rate=learning_rate).minimize(cost)"
      ],
      "execution_count": 0,
      "outputs": []
    },
    {
      "metadata": {
        "id": "6gWP_yx7cGXn",
        "colab_type": "code",
        "colab": {}
      },
      "cell_type": "code",
      "source": [
        "# Evaluate model\n",
        "correct_pred = tf.equal(tf.argmax(pred,1), tf.argmax(y,1))\n",
        "accuracy = tf.reduce_mean(tf.cast(correct_pred, tf.float32))"
      ],
      "execution_count": 0,
      "outputs": []
    },
    {
      "metadata": {
        "id": "ILiuDf-4cGXu",
        "colab_type": "code",
        "colab": {}
      },
      "cell_type": "code",
      "source": [
        "# Initializing the variables\n",
        "init = tf.global_variables_initializer()"
      ],
      "execution_count": 0,
      "outputs": []
    },
    {
      "metadata": {
        "id": "U2IO5MM6cGX0",
        "colab_type": "code",
        "outputId": "b3235990-846b-400a-caa6-5288fb0a9d64",
        "colab": {
          "base_uri": "https://localhost:8080/",
          "height": 728
        }
      },
      "cell_type": "code",
      "source": [
        "# Launch the graph\n",
        "with tf.Session() as sess:\n",
        "    sess.run(init)\n",
        "    step = 1\n",
        "    # Keep training until reach max iterations\n",
        "    while step * batch_size < training_iters:\n",
        "        batch_xs, batch_ys = mnist.train.next_batch(batch_size)\n",
        "        # Fit training using batch data\n",
        "        sess.run(optimizer, \n",
        "                 feed_dict={x: batch_xs, y: batch_ys, keep_prob: dropout})\n",
        "        if step % display_step == 0:\n",
        "            # Calculate batch accuracy\n",
        "            acc = sess.run(accuracy, \n",
        "                           feed_dict={x: batch_xs, y: batch_ys, keep_prob: 1.})\n",
        "            # Calculate batch loss\n",
        "            loss = sess.run(cost, \n",
        "                            feed_dict={x: batch_xs, y: batch_ys, keep_prob: 1.})\n",
        "            print(\"Iter \", str(step*batch_size),\n",
        "                  \"| Minibatch Loss= {:.6f}\".format(loss)  , \n",
        "                  \"| Training Accuracy= {:.5f}\".format(acc))\n",
        "        step += 1\n",
        "    print(\"Optimization Finished!\")\n",
        "    # Calculate accuracy for 256 mnist test images\n",
        "    print(\"Testing Accuracy:\", \n",
        "          sess.run(accuracy, \n",
        "                   feed_dict={x: mnist.test.images[:256], \n",
        "                   y: mnist.test.labels[:256], \n",
        "                   keep_prob: 1.}))"
      ],
      "execution_count": 87,
      "outputs": [
        {
          "output_type": "stream",
          "text": [
            "Iter  2560 | Minibatch Loss= 2423.555176 | Training Accuracy= 0.58594\n",
            "Iter  5120 | Minibatch Loss= 689.561096 | Training Accuracy= 0.73438\n",
            "Iter  7680 | Minibatch Loss= 395.890930 | Training Accuracy= 0.85156\n",
            "Iter  10240 | Minibatch Loss= 289.860046 | Training Accuracy= 0.85156\n",
            "Iter  12800 | Minibatch Loss= 243.940140 | Training Accuracy= 0.85156\n",
            "Iter  15360 | Minibatch Loss= 136.920807 | Training Accuracy= 0.89062\n",
            "Iter  17920 | Minibatch Loss= 175.171494 | Training Accuracy= 0.89062\n",
            "Iter  20480 | Minibatch Loss= 90.708237 | Training Accuracy= 0.94531\n",
            "Iter  23040 | Minibatch Loss= 229.978210 | Training Accuracy= 0.82031\n",
            "Iter  25600 | Minibatch Loss= 116.338692 | Training Accuracy= 0.90625\n",
            "Iter  28160 | Minibatch Loss= 278.184509 | Training Accuracy= 0.88281\n",
            "Iter  30720 | Minibatch Loss= 77.760223 | Training Accuracy= 0.93750\n",
            "Iter  33280 | Minibatch Loss= 198.099701 | Training Accuracy= 0.89062\n",
            "Iter  35840 | Minibatch Loss= 89.329224 | Training Accuracy= 0.91406\n",
            "Iter  38400 | Minibatch Loss= 51.937981 | Training Accuracy= 0.93750\n",
            "Iter  40960 | Minibatch Loss= 83.168900 | Training Accuracy= 0.96094\n",
            "Iter  43520 | Minibatch Loss= 104.349327 | Training Accuracy= 0.92969\n",
            "Iter  46080 | Minibatch Loss= 108.106598 | Training Accuracy= 0.92188\n",
            "Iter  48640 | Minibatch Loss= 38.267960 | Training Accuracy= 0.96094\n",
            "Iter  51200 | Minibatch Loss= 45.728611 | Training Accuracy= 0.96094\n",
            "Iter  53760 | Minibatch Loss= 70.274506 | Training Accuracy= 0.94531\n",
            "Iter  56320 | Minibatch Loss= 41.208733 | Training Accuracy= 0.97656\n",
            "Iter  58880 | Minibatch Loss= 53.943806 | Training Accuracy= 0.95312\n",
            "Iter  61440 | Minibatch Loss= 76.221741 | Training Accuracy= 0.92969\n",
            "Iter  64000 | Minibatch Loss= 21.152348 | Training Accuracy= 0.96094\n",
            "Iter  66560 | Minibatch Loss= 23.621267 | Training Accuracy= 0.97656\n",
            "Iter  69120 | Minibatch Loss= 25.055222 | Training Accuracy= 0.95312\n",
            "Iter  71680 | Minibatch Loss= 8.120686 | Training Accuracy= 0.97656\n",
            "Iter  74240 | Minibatch Loss= 54.463661 | Training Accuracy= 0.94531\n",
            "Iter  76800 | Minibatch Loss= 43.605202 | Training Accuracy= 0.96875\n",
            "Iter  79360 | Minibatch Loss= 50.153397 | Training Accuracy= 0.96094\n",
            "Iter  81920 | Minibatch Loss= 45.550892 | Training Accuracy= 0.95312\n",
            "Iter  84480 | Minibatch Loss= 28.427061 | Training Accuracy= 0.96875\n",
            "Iter  87040 | Minibatch Loss= 78.017303 | Training Accuracy= 0.92188\n",
            "Iter  89600 | Minibatch Loss= 29.417255 | Training Accuracy= 0.96094\n",
            "Iter  92160 | Minibatch Loss= 13.598746 | Training Accuracy= 0.96875\n",
            "Iter  94720 | Minibatch Loss= 34.922489 | Training Accuracy= 0.98438\n",
            "Iter  97280 | Minibatch Loss= 26.119286 | Training Accuracy= 0.94531\n",
            "Iter  99840 | Minibatch Loss= 32.713379 | Training Accuracy= 0.95312\n",
            "Optimization Finished!\n",
            "Testing Accuracy: 0.9765625\n"
          ],
          "name": "stdout"
        }
      ]
    },
    {
      "metadata": {
        "id": "rfdlX91acGYB",
        "colab_type": "text"
      },
      "cell_type": "markdown",
      "source": [
        "Some CNN architectures use **normalization** layers. \n",
        "\n",
        "For example, ``tf.nn.local_response_normalization`` is a function which shapes the output based on a summation operation in the following way: within a given vector, each component is divided by the weighted, squared sum of inputs within a depth radius. \n",
        "\n",
        "> In neurobiology, there is a concept called “lateral inhibition”. This refers to the capacity of an excited neuron to subdue its neighbors.\n",
        "\n",
        "\n",
        "In fact, after a convolutional layer there are two kinds of non linear functions that are usually applied: non-linear activation functions such as sigmoids or **ReLU and pooling**. Pooling layers are used with the purpose to progressively reduce the spatial size of the image to achieve scale invariance.The most common layer is the maxpool layer. Basically a maxpool of $2 \\times 2$ causes a filter of 2 by 2 to traverse over the entire input array and pick the largest element from the window to be included in the next representation map. Pooling can also be implemented by using other criteria, such as averaging instead of taking the max element. \n",
        "\n",
        "A convolutional neural network is a neural network that is build by using several convolutional layers, each one formed by the concatenation of three different operators: **convolutions, non-linear activation and pooling**. This kind of networks are able of extracting powerful image descriptors when applied in sequence. The power of the method has been credited to the fact that these descriptors can be seen as hierarchical features that are suited to optimally represent visual structures in natural images. The last layers of a convolutional neural network are classical dense layers, which are connected to a classification or regression loss function.\n",
        "\n",
        "Finally, it is interesting to point out that convolutional layers are much **lighter**, in terms of number of weights, than fully connected layers, but more computationally demanding (The number of weights we must learn for a $(M \\times N)$ convolution kernel is only $(M \\times N)$, which is independent of the size of the image). \n",
        "\n",
        "In some sense, **convolutional layers trade weights for computation when extracting information**. \n"
      ]
    },
    {
      "metadata": {
        "id": "sjO2z_NfcGYE",
        "colab_type": "text"
      },
      "cell_type": "markdown",
      "source": [
        "## Visualization of learned kernels.\n",
        "\n",
        "\n",
        "    \n",
        "<img src=\"https://github.com/DataScienceUB/DeepLearningMaster2019/blob/master/images/weights.jpeg?raw=1\" alt=\"\" style=\"width: 400px\" />\n",
        "\n",
        "Convolution kernels from the first AlexNet layer. <br>   \n",
        "Source: http://cs231n.github.io/convolutional-networks/\n"
      ]
    },
    {
      "metadata": {
        "id": "S2JAN0QRcGYI",
        "colab_type": "text"
      },
      "cell_type": "markdown",
      "source": [
        "## Exercise:\n",
        "\n",
        "**VGGNet**. The runner-up in ILSVRC 2014 was the network from Karen Simonyan and Andrew Zisserman that became known as the VGGNet. Its main contribution was in showing that the depth of the network is a critical component for good performance. Their final best network contains 16 CONV/FC layers and, appealingly, features an extremely homogeneous architecture that only performs $3 \\times 3$ convolutions and $2 \\times 2$ pooling from the beginning to the end. \n",
        "\n",
        "The architecture is:\n",
        "\n",
        "+ INPUT: [224x224x3] \n",
        "+ CONV3-64: [224x224x64]  \n",
        "+ CONV3-64: [224x224x64]  \n",
        "+ POOL2: [112x112x64]  \n",
        "+ CONV3-128: [112x112x128]  \n",
        "+ CONV3-128: [112x112x128]  \n",
        "+ POOL2: [56x56x128]  \n",
        "+ CONV3-256: [56x56x256]  \n",
        "+ CONV3-256: [56x56x256]  \n",
        "+ CONV3-256: [56x56x256]  \n",
        "+ POOL2: [28x28x256]  \n",
        "+ CONV3-512: [28x28x512]  \n",
        "+ CONV3-512: [28x28x512]  \n",
        "+ CONV3-512: [28x28x512]  \n",
        "+ POOL2: [14x14x512]  \n",
        "+ CONV3-512: [14x14x512]  \n",
        "+ CONV3-512: [14x14x512]  \n",
        "+ CONV3-512: [14x14x512]  \n",
        "+ POOL2: [7x7x512]  \n",
        "+ FC1: [1x1x4096]  \n",
        "+ FC2: [1x1x4096]  \n",
        "+ FC3: [1x1x1000]  \n",
        "\n",
        "Which is the approximate number of parameters of this network? Which is the heaviest layer?"
      ]
    },
    {
      "metadata": {
        "id": "r7Ctr0MDcGYJ",
        "colab_type": "code",
        "colab": {}
      },
      "cell_type": "code",
      "source": [
        "# Your code here"
      ],
      "execution_count": 0,
      "outputs": []
    },
    {
      "metadata": {
        "id": "GAxFsYL2SkHt",
        "colab_type": "text"
      },
      "cell_type": "markdown",
      "source": [
        "## VGG-16 in Keras"
      ]
    },
    {
      "metadata": {
        "id": "OjKnrM1fSnYC",
        "colab_type": "code",
        "colab": {}
      },
      "cell_type": "code",
      "source": [
        "from tensorflow.keras.models import Sequential\n",
        "from tensorflow.keras.layers import Flatten, Dense, Dropout\n",
        "from tensorflow.keras.layers import Conv2D, MaxPooling2D, ZeroPadding2D\n",
        "from tensorflow.keras.optimizers import SGD\n",
        "\n",
        "model = Sequential()\n",
        "model.add(ZeroPadding2D((1,1), input_shape=(224, 224, 3), data_format='channels_last'))\n",
        "model.add(Conv2D(64, kernel_size=(3, 3), strides=1, activation='relu'))\n",
        "model.add(ZeroPadding2D((1,1)))\n",
        "model.add(Conv2D(64, kernel_size=(3, 3), strides=1, activation='relu'))\n",
        "model.add(MaxPooling2D((2,2), strides=(2,2), data_format='channels_last'))\n",
        "\n",
        "model.add(ZeroPadding2D((1,1)))\n",
        "model.add(Conv2D(128, kernel_size=(3, 3), activation='relu'))\n",
        "model.add(ZeroPadding2D((1,1)))\n",
        "model.add(Conv2D(128, kernel_size=(3, 3), activation='relu'))\n",
        "model.add(MaxPooling2D((2,2), strides=(2,2), data_format='channels_last'))\n",
        "\n",
        "model.add(ZeroPadding2D((1,1)))\n",
        "model.add(Conv2D(256, kernel_size=(3, 3), activation='relu'))\n",
        "model.add(ZeroPadding2D((1,1)))\n",
        "model.add(Conv2D(256, kernel_size=(3, 3), activation='relu'))\n",
        "model.add(ZeroPadding2D((1,1)))\n",
        "model.add(Conv2D(256, kernel_size=(3, 3), activation='relu'))\n",
        "model.add(MaxPooling2D((2,2), strides=(2,2), data_format='channels_last'))\n",
        "\n",
        "model.add(ZeroPadding2D((1,1)))\n",
        "model.add(Conv2D(512, kernel_size=(3, 3), activation='relu'))\n",
        "model.add(ZeroPadding2D((1,1)))\n",
        "model.add(Conv2D(512, kernel_size=(3, 3), activation='relu'))\n",
        "model.add(ZeroPadding2D((1,1)))\n",
        "model.add(Conv2D(512, kernel_size=(3, 3), activation='relu'))\n",
        "model.add(MaxPooling2D((2,2), strides=(2,2), data_format='channels_last'))\n",
        "\n",
        "model.add(ZeroPadding2D((1,1)))\n",
        "model.add(Conv2D(512, kernel_size=(3, 3), activation='relu'))\n",
        "model.add(ZeroPadding2D((1,1)))\n",
        "model.add(Conv2D(512, kernel_size=(3, 3), activation='relu'))\n",
        "model.add(ZeroPadding2D((1,1)))\n",
        "model.add(Conv2D(512, kernel_size=(3, 3), activation='relu'))\n",
        "model.add(MaxPooling2D((2,2), strides=(2,2), data_format='channels_last'))\n",
        "\n",
        "model.add(Flatten())\n",
        "model.add(Dense(4096, activation='relu'))\n",
        "model.add(Dropout(0.5))\n",
        "model.add(Dense(4096, activation='relu'))\n",
        "model.add(Dropout(0.5))\n",
        "model.add(Dense(1000, activation='softmax'))"
      ],
      "execution_count": 0,
      "outputs": []
    },
    {
      "metadata": {
        "id": "ldmS1Q0IcGYO",
        "colab_type": "text"
      },
      "cell_type": "markdown",
      "source": [
        "## Smile Detection using Convolutional Neural Networks"
      ]
    },
    {
      "metadata": {
        "id": "JPlUydkxcGYP",
        "colab_type": "code",
        "colab": {}
      },
      "cell_type": "code",
      "source": [
        "# Adapted from Kyle McDonald\n",
        "# Project: https://github.com/kylemcdonald/SmileCNN"
      ],
      "execution_count": 0,
      "outputs": []
    },
    {
      "metadata": {
        "id": "8S5p4aWCcGaW",
        "colab_type": "code",
        "outputId": "81ef9fa7-fdd3-4845-a29c-9a83736d1bf3",
        "colab": {
          "base_uri": "https://localhost:8080/",
          "height": 86
        }
      },
      "cell_type": "code",
      "source": [
        "!curl -L -O https://github.com/hromi/SMILEsmileD/archive/master.zip\n",
        "!unzip -q master.zip\n",
        "!rm master.zip"
      ],
      "execution_count": 0,
      "outputs": [
        {
          "output_type": "stream",
          "text": [
            "  % Total    % Received % Xferd  Average Speed   Time    Time     Time  Current\n",
            "                                 Dload  Upload   Total   Spent    Left  Speed\n",
            "100   122    0   122    0     0    105      0 --:--:--  0:00:01 --:--:--   105\n",
            "100 39.6M    0 39.6M    0     0  6998k      0 --:--:--  0:00:05 --:--:-- 9210k\n"
          ],
          "name": "stdout"
        }
      ]
    },
    {
      "metadata": {
        "id": "SSt9PviocGac",
        "colab_type": "code",
        "colab": {}
      },
      "cell_type": "code",
      "source": [
        "#util and imports\n",
        "import os\n",
        "import fnmatch\n",
        "\n",
        "def list_all_files(directory, extensions=None):\n",
        "    for root, dirnames, filenames in os.walk(directory):\n",
        "        for filename in filenames:\n",
        "            base, ext = os.path.splitext(filename)\n",
        "            joined = os.path.join(root, filename)\n",
        "            if extensions is None or ext.lower() in extensions:\n",
        "                yield joined\n",
        "                \n",
        "import numpy as np\n",
        "import math\n",
        "\n",
        "def find_rectangle(n, max_ratio=2):\n",
        "    sides = []\n",
        "    square = int(math.sqrt(n))\n",
        "    for w in range(square, max_ratio * square):\n",
        "        h = n / w\n",
        "        used = w * h\n",
        "        leftover = n - used\n",
        "        sides.append((leftover, (w, h)))\n",
        "    return sorted(sides)[0][1]\n",
        "\n",
        "# should work for 1d and 2d images, assumes images are square but can be overriden\n",
        "def make_mosaic(images, n=None, nx=None, ny=None, w=None, h=None):\n",
        "    if n is None and nx is None and ny is None:\n",
        "        nx, ny = find_rectangle(len(images))\n",
        "    else:\n",
        "        nx = n if nx is None else nx\n",
        "        ny = n if ny is None else ny\n",
        "    images = np.array(images)\n",
        "    if images.ndim == 2:\n",
        "        side = int(np.sqrt(len(images[0])))\n",
        "        h = side if h is None else h\n",
        "        w = side if w is None else w\n",
        "        images = images.reshape(-1, h, w)\n",
        "    else:\n",
        "        h = images.shape[1]\n",
        "        w = images.shape[2]\n",
        "    image_gen = iter(images)\n",
        "    mosaic = np.empty((h*ny, w*nx))\n",
        "    for i in range(ny):\n",
        "        ia = (i)*h\n",
        "        ib = (i+1)*h\n",
        "        for j in range(nx):\n",
        "            ja = j*w\n",
        "            jb = (j+1)*w\n",
        "            mosaic[ia:ib, ja:jb] = next(image_gen)\n",
        "    return mosaic\n",
        "\n",
        "import numpy as np\n",
        "from skimage.measure import block_reduce\n",
        "\n",
        "def crop_and_resize(img, target_size=32, zoom=1):\n",
        "    small_side = int(np.min(img.shape) * zoom)\n",
        "    reduce_factor = small_side / target_size\n",
        "    crop_size = target_size * reduce_factor\n",
        "    mid = np.array(img.shape) / 2\n",
        "    half_crop = crop_size / 2\n",
        "    center = img[mid[0]-half_crop:mid[0]+half_crop,\n",
        "    \tmid[1]-half_crop:mid[1]+half_crop]\n",
        "    return block_reduce(center, (reduce_factor, reduce_factor), np.mean)\n",
        "\n",
        "from io import BytesIO\n",
        "import numpy as np\n",
        "import PIL.Image\n",
        "import IPython.display\n",
        "import shutil\n",
        "\n",
        "def show_array(a, fmt='png', filename=None):\n",
        "    a = np.squeeze(a)\n",
        "    a = np.uint8(np.clip(a, 0, 255))\n",
        "    image_data = BytesIO()\n",
        "    PIL.Image.fromarray(a).save(image_data, fmt)\n",
        "    if filename is None:\n",
        "        IPython.display.display(IPython.display.Image(data=image_data.getvalue()))\n",
        "    else:\n",
        "        with open(filename, 'w') as f:\n",
        "            image_data.seek(0)\n",
        "            shutil.copyfileobj(image_data, f)"
      ],
      "execution_count": 0,
      "outputs": []
    },
    {
      "metadata": {
        "id": "6XxOgKtecGai",
        "colab_type": "code",
        "outputId": "494d7628-5a6a-4774-a5b0-4ecc86677639",
        "colab": {
          "base_uri": "https://localhost:8080/",
          "height": 51
        }
      },
      "cell_type": "code",
      "source": [
        "negative_paths = list(list_all_files('SMILEsmileD-master/SMILEs/negatives/negatives7/', ['.jpg']))\n",
        "print('loaded', len(negative_paths), 'negative examples')\n",
        "positive_paths = list(list_all_files('SMILEsmileD-master/SMILEs/positives/positives7/', ['.jpg']))\n",
        "print('loaded', len(positive_paths), 'positive examples')\n",
        "examples = [(path, 0) for path in negative_paths] + [(path, 1) for path in positive_paths]"
      ],
      "execution_count": 0,
      "outputs": [
        {
          "output_type": "stream",
          "text": [
            "loaded 9475 negative examples\n",
            "loaded 3690 positive examples\n"
          ],
          "name": "stdout"
        }
      ]
    },
    {
      "metadata": {
        "id": "ehEbuSsvcGam",
        "colab_type": "code",
        "colab": {}
      },
      "cell_type": "code",
      "source": [
        "#!pip install -U scikit-image"
      ],
      "execution_count": 0,
      "outputs": []
    },
    {
      "metadata": {
        "id": "GrZqMUWKcGas",
        "colab_type": "code",
        "outputId": "7366b8dc-23fe-45d8-fbf4-897af54dc83e",
        "colab": {
          "base_uri": "https://localhost:8080/",
          "height": 51
        }
      },
      "cell_type": "code",
      "source": [
        "import numpy as np\n",
        "from skimage.measure import block_reduce\n",
        "from skimage.io import imread\n",
        "\n",
        "def examples_to_dataset(examples, block_size=2):\n",
        "    X = []\n",
        "    y = []\n",
        "    for path, label in examples:\n",
        "        img = imread(path, as_grey=True)\n",
        "        img = block_reduce(img, block_size=(block_size, block_size), func=np.mean)\n",
        "        X.append(img)\n",
        "        y.append(label)\n",
        "    return np.asarray(X), np.asarray(y)\n",
        "\n",
        "%time X, y = examples_to_dataset(examples)"
      ],
      "execution_count": 0,
      "outputs": [
        {
          "output_type": "stream",
          "text": [
            "CPU times: user 7.58 s, sys: 463 ms, total: 8.04 s\n",
            "Wall time: 8.08 s\n"
          ],
          "name": "stdout"
        }
      ]
    },
    {
      "metadata": {
        "id": "yEXeERWkcGa2",
        "colab_type": "code",
        "outputId": "f509ae10-4004-4ad2-c3a4-b6d9ee7be23a",
        "colab": {
          "base_uri": "https://localhost:8080/",
          "height": 51
        }
      },
      "cell_type": "code",
      "source": [
        "X = X.astype(np.float32) / 255.\n",
        "y = y.astype(np.int32)\n",
        "print(X.dtype, X.min(), X.max(), X.shape)\n",
        "print(y.dtype, y.min(), y.max(), y.shape)"
      ],
      "execution_count": 0,
      "outputs": [
        {
          "output_type": "stream",
          "text": [
            "float32 0.0 1.0 (13165, 32, 32)\n",
            "int32 0 1 (13165,)\n"
          ],
          "name": "stdout"
        }
      ]
    },
    {
      "metadata": {
        "id": "1MtGvg0ucGbL",
        "colab_type": "code",
        "outputId": "ce914bbd-67af-4c0f-bcb8-1f5ee2e38a39",
        "colab": {
          "base_uri": "https://localhost:8080/",
          "height": 529
        }
      },
      "cell_type": "code",
      "source": [
        "show_array(255 * make_mosaic(X[:len(negative_paths)], 8), fmt='jpeg') # negative at the beginning\n",
        "show_array(255 * make_mosaic(X[-len(positive_paths):], 8), fmt='jpeg') # positive at the end"
      ],
      "execution_count": 0,
      "outputs": [
        {
          "output_type": "display_data",
          "data": {
            "image/jpeg": "[encoded data removed]",
            "text/plain": [
              "<IPython.core.display.Image object>"
            ]
          },
          "metadata": {
            "tags": []
          }
        },
        {
          "output_type": "display_data",
          "data": {
            "image/jpeg": "[encoded data removed]",
            "text/plain": [
              "<IPython.core.display.Image object>"
            ]
          },
          "metadata": {
            "tags": []
          }
        }
      ]
    },
    {
      "metadata": {
        "id": "H_TWbsTLcGbV",
        "colab_type": "code",
        "colab": {}
      },
      "cell_type": "code",
      "source": [
        "X = np.expand_dims(X, axis=-1)\n",
        "np.save('X.npy', X)\n",
        "np.save('y.npy', y)"
      ],
      "execution_count": 0,
      "outputs": []
    },
    {
      "metadata": {
        "id": "vbP9HQKYcGbb",
        "colab_type": "code",
        "outputId": "e184f171-9562-45e5-b76e-770a555f1ebe",
        "colab": {
          "base_uri": "https://localhost:8080/",
          "height": 68
        }
      },
      "cell_type": "code",
      "source": [
        "import numpy as np\n",
        "from keras.models import Sequential\n",
        "from keras.layers.core import Dense, Dropout, Flatten, Reshape\n",
        "from keras.layers.convolutional import Conv2D, MaxPooling2D\n",
        "from keras.utils import np_utils\n",
        "\n",
        "# load the data\n",
        "X = np.load('X.npy')\n",
        "y = np.load('y.npy')\n",
        "\n",
        "# convert classes to vector\n",
        "nb_classes = 2\n",
        "y = np_utils.to_categorical(y, nb_classes).astype(np.float32)\n",
        "\n",
        "# shuffle all the data\n",
        "indices = np.arange(len(X))\n",
        "np.random.shuffle(indices)\n",
        "X = X[indices]\n",
        "y = y[indices]\n",
        "\n",
        "# prepare weighting for classes since they're unbalanced\n",
        "class_totals = y.sum(axis=0)\n",
        "class_weight = class_totals.max() / class_totals\n",
        "\n",
        "print(X.dtype, X.min(), X.max(), X.shape)\n",
        "print(y.dtype, y.min(), y.max(), y.shape)"
      ],
      "execution_count": 0,
      "outputs": [
        {
          "output_type": "stream",
          "text": [
            "float32 0.0 1.0 (13165, 32, 32, 1)\n",
            "float32 0.0 1.0 (13165, 2)\n"
          ],
          "name": "stdout"
        },
        {
          "output_type": "stream",
          "text": [
            "Using TensorFlow backend.\n"
          ],
          "name": "stderr"
        }
      ]
    },
    {
      "metadata": {
        "id": "vkUa9CA4cGbj",
        "colab_type": "code",
        "outputId": "6431af43-df26-476f-9844-f155041375f0",
        "colab": {
          "base_uri": "https://localhost:8080/",
          "height": 411
        }
      },
      "cell_type": "code",
      "source": [
        "nb_filters = 32\n",
        "nb_pool = 2\n",
        "nb_conv = 3\n",
        "\n",
        "model = Sequential()\n",
        "\n",
        "model.add(Conv2D(nb_filters, (nb_conv, nb_conv), activation='relu', input_shape=X.shape[1:]))\n",
        "model.add(Conv2D(nb_filters, (nb_conv, nb_conv), activation='relu'))\n",
        "model.add(MaxPooling2D(pool_size=(nb_pool, nb_pool)))\n",
        "model.add(Dropout(0.25))\n",
        "model.add(Flatten())\n",
        "model.add(Dense(128, activation='relu'))\n",
        "model.add(Dropout(0.5))\n",
        "model.add(Dense(nb_classes, activation='softmax'))\n",
        "\n",
        "model.compile(loss='categorical_crossentropy', optimizer='adam', metrics=['accuracy'])\n",
        "model.summary()"
      ],
      "execution_count": 0,
      "outputs": [
        {
          "output_type": "stream",
          "text": [
            "_________________________________________________________________\n",
            "Layer (type)                 Output Shape              Param #   \n",
            "=================================================================\n",
            "conv2d_1 (Conv2D)            (None, 30, 30, 32)        320       \n",
            "_________________________________________________________________\n",
            "conv2d_2 (Conv2D)            (None, 28, 28, 32)        9248      \n",
            "_________________________________________________________________\n",
            "max_pooling2d_1 (MaxPooling2 (None, 14, 14, 32)        0         \n",
            "_________________________________________________________________\n",
            "dropout_1 (Dropout)          (None, 14, 14, 32)        0         \n",
            "_________________________________________________________________\n",
            "flatten_1 (Flatten)          (None, 6272)              0         \n",
            "_________________________________________________________________\n",
            "dense_1 (Dense)              (None, 128)               802944    \n",
            "_________________________________________________________________\n",
            "dropout_2 (Dropout)          (None, 128)               0         \n",
            "_________________________________________________________________\n",
            "dense_2 (Dense)              (None, 2)                 258       \n",
            "=================================================================\n",
            "Total params: 812,770\n",
            "Trainable params: 812,770\n",
            "Non-trainable params: 0\n",
            "_________________________________________________________________\n"
          ],
          "name": "stdout"
        }
      ]
    },
    {
      "metadata": {
        "id": "TmEzI7LYcGbr",
        "colab_type": "code",
        "outputId": "38e678bc-b719-4125-fab9-a5fcd1d74633",
        "colab": {
          "base_uri": "https://localhost:8080/",
          "height": 294
        }
      },
      "cell_type": "code",
      "source": [
        "validation_split = 0.10\n",
        "model.fit(X, y, batch_size=128, class_weight=class_weight, epochs=5, verbose=1, validation_split=validation_split)"
      ],
      "execution_count": 0,
      "outputs": [
        {
          "output_type": "stream",
          "text": [
            "WARNING:tensorflow:From /usr/local/lib/python3.6/dist-packages/tensorflow/python/ops/math_ops.py:3066: to_int32 (from tensorflow.python.ops.math_ops) is deprecated and will be removed in a future version.\n",
            "Instructions for updating:\n",
            "Use tf.cast instead.\n",
            "Train on 11848 samples, validate on 1317 samples\n",
            "Epoch 1/5\n",
            "11848/11848 [==============================] - 2s 191us/step - loss: 0.5230 - acc: 0.7454 - val_loss: 0.3410 - val_acc: 0.8557\n",
            "Epoch 2/5\n",
            "11848/11848 [==============================] - 1s 119us/step - loss: 0.3509 - acc: 0.8486 - val_loss: 0.2969 - val_acc: 0.8785\n",
            "Epoch 3/5\n",
            "11848/11848 [==============================] - 1s 119us/step - loss: 0.3168 - acc: 0.8725 - val_loss: 0.2769 - val_acc: 0.8899\n",
            "Epoch 4/5\n",
            "11848/11848 [==============================] - 1s 120us/step - loss: 0.2944 - acc: 0.8843 - val_loss: 0.2647 - val_acc: 0.8975\n",
            "Epoch 5/5\n",
            "11848/11848 [==============================] - 1s 118us/step - loss: 0.2777 - acc: 0.8922 - val_loss: 0.2521 - val_acc: 0.8967\n"
          ],
          "name": "stdout"
        },
        {
          "output_type": "execute_result",
          "data": {
            "text/plain": [
              "<keras.callbacks.History at 0x7fde7b69e0b8>"
            ]
          },
          "metadata": {
            "tags": []
          },
          "execution_count": 30
        }
      ]
    },
    {
      "metadata": {
        "id": "YOgt-Z0ScGby",
        "colab_type": "code",
        "colab": {}
      },
      "cell_type": "code",
      "source": [
        "open('model.json', 'w').write(model.to_json())\n",
        "model.save_weights('weights.h5')"
      ],
      "execution_count": 0,
      "outputs": []
    },
    {
      "metadata": {
        "id": "GAYDOJY8cGcG",
        "colab_type": "code",
        "outputId": "e7f815e0-3d35-49cc-b7da-a14159f5a719",
        "colab": {
          "base_uri": "https://localhost:8080/",
          "height": 319
        }
      },
      "cell_type": "code",
      "source": [
        "%matplotlib inline\n",
        "from matplotlib import pyplot as plt\n",
        "plt.plot(model.model.history.history['loss'])\n",
        "plt.plot(model.model.history.history['acc'])\n",
        "plt.plot(model.model.history.history['val_loss'])\n",
        "plt.plot(model.model.history.history['val_acc'])\n",
        "plt.show()"
      ],
      "execution_count": 0,
      "outputs": [
        {
          "output_type": "stream",
          "text": [
            "/usr/local/lib/python3.6/dist-packages/keras/engine/sequential.py:110: UserWarning: `Sequential.model` is deprecated. `Sequential` is a subclass of `Model`, you can just use your `Sequential` instance directly.\n",
            "  warnings.warn('`Sequential.model` is deprecated. '\n"
          ],
          "name": "stderr"
        },
        {
          "output_type": "display_data",
          "data": {
            "image/png": "[encoded data removed]",
            "text/plain": [
              "<Figure size 432x288 with 1 Axes>"
            ]
          },
          "metadata": {
            "tags": []
          }
        }
      ]
    },
    {
      "metadata": {
        "id": "jND3ZLLtcGcL",
        "colab_type": "code",
        "outputId": "6d160e18-09a8-490b-dd4f-39a31c57ed07",
        "colab": {
          "base_uri": "https://localhost:8080/",
          "height": 34
        }
      },
      "cell_type": "code",
      "source": [
        "from sklearn.metrics import roc_auc_score\n",
        "n_validation = int(len(X) * validation_split)\n",
        "y_predicted = model.predict(X[-n_validation:])\n",
        "print(roc_auc_score(y[-n_validation:], y_predicted))"
      ],
      "execution_count": 0,
      "outputs": [
        {
          "output_type": "stream",
          "text": [
            "0.9469661491168031\n"
          ],
          "name": "stdout"
        }
      ]
    }
  ]
}
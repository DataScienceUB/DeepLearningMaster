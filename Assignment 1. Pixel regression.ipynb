{
 "cells": [
  {
   "cell_type": "markdown",
   "metadata": {},
   "source": [
    "# Assignment 1: Pixel Regression.\n",
    "\n",
    "Can we recover an image by learning a deep regression map from pixels $(x,y)$ to colors $(r,g,b)$?\n",
    "\n",
    "Our target image will be Mona Lisa:"
   ]
  },
  {
   "cell_type": "code",
   "execution_count": null,
   "metadata": {},
   "outputs": [],
   "source": [
    "import matplotlib.image as mpimg\n",
    "import matplotlib.pylab as plt\n",
    "import numpy as np\n",
    "%matplotlib inline\n",
    "\n",
    "im = mpimg.imread(\"data/monalisa.jpg\")\n",
    "\n",
    "plt.imshow(im)\n",
    "plt.show()\n",
    "im.shape"
   ]
  },
  {
   "cell_type": "markdown",
   "metadata": {},
   "source": [
    "Ourt training dataset will be composed of pixels locatiions and input and pixel values as output:"
   ]
  },
  {
   "cell_type": "code",
   "execution_count": null,
   "metadata": {},
   "outputs": [],
   "source": [
    "X_train = []\n",
    "Y_train = []\n",
    "for i in range(im.shape[0]):\n",
    "    for j in range(im.shape[1]):\n",
    "        X_train.append([float(i),float(j)])\n",
    "        Y_train.append(im[i][j])\n",
    "        \n",
    "X_train = np.array(X_train)\n",
    "Y_train = np.array(Y_train)\n",
    "print('Samples:', X_train.shape[0])\n",
    "print('(x,y):', X_train[0],'\\n', '(r,g,b):',Y_train[0])"
   ]
  },
  {
   "cell_type": "markdown",
   "metadata": {},
   "source": [
    "Our objective is to train a deep MLP that is able to reconstruct the image:\n",
    "\n",
    "![alt text](images/result.png)\n"
   ]
  },
  {
   "cell_type": "code",
   "execution_count": null,
   "metadata": {},
   "outputs": [],
   "source": [
    "import keras\n",
    "from keras.models import Sequential\n",
    "from keras.layers.core import Dense, Activation, Dropout\n",
    "\n",
    "# your model here\n",
    "# hints: k*10^2 neurons per layer + good initialization + deep network (>2 layers)\n",
    "\n"
   ]
  },
  {
   "cell_type": "code",
   "execution_count": null,
   "metadata": {},
   "outputs": [],
   "source": [
    "# use this cell to find the best model architecture\n",
    "\n",
    "model.fit(X_train, Y_train, nb_epoch=1, shuffle=True, verbose=1, batch_size=10)\n",
    "Y = model.predict(X_train, batch_size=10000)\n",
    "k = 0\n",
    "im_out = im[:]\n",
    "for i in range(im.shape[0]):\n",
    "    for j in range(im.shape[1]):\n",
    "        im_out[i,j]= Y[k]\n",
    "        k += 1\n",
    "        \n",
    "plt.imshow(im_out)\n",
    "plt.show()"
   ]
  }
 ],
 "metadata": {
  "anaconda-cloud": {},
  "kernelspec": {
   "display_name": "Python 3",
   "language": "python",
   "name": "python3"
  },
  "language_info": {
   "codemirror_mode": {
    "name": "ipython",
    "version": 3
   },
   "file_extension": ".py",
   "mimetype": "text/x-python",
   "name": "python",
   "nbconvert_exporter": "python",
   "pygments_lexer": "ipython3",
   "version": "3.5.2"
  }
 },
 "nbformat": 4,
 "nbformat_minor": 1
}

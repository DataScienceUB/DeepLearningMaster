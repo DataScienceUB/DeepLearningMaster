{
  "nbformat": 4,
  "nbformat_minor": 0,
  "metadata": {
    "colab": {
      "name": "Assignment 2. Ethics and Sentiment Classification.ipynb",
      "version": "0.3.2",
      "provenance": [],
      "include_colab_link": true
    },
    "kernelspec": {
      "name": "python3",
      "display_name": "Python 3"
    },
    "accelerator": "GPU"
  },
  "cells": [
    {
      "cell_type": "markdown",
      "metadata": {
        "id": "view-in-github",
        "colab_type": "text"
      },
      "source": [
        "<a href=\"https://colab.research.google.com/github/DataScienceUB/DeepLearningMaster2019/blob/master/Assignment%202.%20Ethics%20and%20Sentiment%20Classification.ipynb\" target=\"_parent\"><img src=\"https://colab.research.google.com/assets/colab-badge.svg\" alt=\"Open In Colab\"/></a>"
      ]
    },
    {
      "metadata": {
        "id": "R5RudM9wBzd9",
        "colab_type": "text"
      },
      "cell_type": "markdown",
      "source": [
        "# Assignment 2\n",
        "## Sentiment Classification\n",
        "\n",
        "This assignment approaches the sentiment classification problem by using deep learning techniques and also exposes some ethical problem related to these methods.\n",
        "\n",
        "This is what we’re going to do:\n",
        "\n",
        "+ Acquire some pre-computed word embeddings to represent the meanings of words\n",
        "+ Acquire training and test data, with gold-standard examples of positive and negative words\n",
        "+ Train a simple classifier to recognize other positive and negative words based on their word embeddings\n",
        "+ Compute sentiment scores for sentences of text using this classifier\n",
        "+ Analyze the results to look for unwanted bias. "
      ]
    },
    {
      "metadata": {
        "id": "RsS5s_tEBzd_",
        "colab_type": "text"
      },
      "cell_type": "markdown",
      "source": [
        "## Word embeddings\n",
        "\n",
        "There are several datasets of pre-trained English word embeddings such as `word2vec`, pretrained on Google News data, and `GloVe`, pretrained on the Common Crawl of web pages. We will use `GloVe`.\n",
        "\n",
        "GloVe comes in three sizes: 6B, 42B, and 840B. The 42B version is pretty good and is also neatly trimmed to a vocabulary of 1 million words. We will just use the 42B version.\n",
        "\n",
        "> **GloVe.42B** data: 42B tokens, 1.9M vocab, uncased, 300d vectors, 1.75 GB download"
      ]
    },
    {
      "metadata": {
        "ExecuteTime": {
          "end_time": "2019-03-29T09:08:49.211876Z",
          "start_time": "2019-03-29T09:01:34.100348Z"
        },
        "id": "cEqMSox2BzeA",
        "colab_type": "code",
        "outputId": "dea1030b-6cf6-48c6-c99a-c14154317bb3",
        "colab": {
          "base_uri": "https://localhost:8080/",
          "height": 277
        }
      },
      "cell_type": "code",
      "source": [
        "!wget http://nlp.stanford.edu/data/glove.42B.300d.zip"
      ],
      "execution_count": 1,
      "outputs": [
        {
          "output_type": "stream",
          "text": [
            "--2019-04-02 09:11:45--  http://nlp.stanford.edu/data/glove.42B.300d.zip\n",
            "Resolving nlp.stanford.edu (nlp.stanford.edu)... 171.64.67.140\n",
            "Connecting to nlp.stanford.edu (nlp.stanford.edu)|171.64.67.140|:80... connected.\n",
            "HTTP request sent, awaiting response... 302 Found\n",
            "Location: https://nlp.stanford.edu/data/glove.42B.300d.zip [following]\n",
            "--2019-04-02 09:11:45--  https://nlp.stanford.edu/data/glove.42B.300d.zip\n",
            "Connecting to nlp.stanford.edu (nlp.stanford.edu)|171.64.67.140|:443... connected.\n",
            "HTTP request sent, awaiting response... 200 OK\n",
            "Length: 1877800501 (1.7G) [application/zip]\n",
            "Saving to: ‘glove.42B.300d.zip’\n",
            "\n",
            "glove.42B.300d.zip  100%[===================>]   1.75G  3.88MB/s    in 10m 14s \n",
            "\n",
            "2019-04-02 09:22:00 (2.92 MB/s) - ‘glove.42B.300d.zip’ saved [1877800501/1877800501]\n",
            "\n"
          ],
          "name": "stdout"
        }
      ]
    },
    {
      "metadata": {
        "ExecuteTime": {
          "end_time": "2019-03-29T09:10:02.327170Z",
          "start_time": "2019-03-29T09:09:24.646719Z"
        },
        "id": "aLvMgbhYBzeE",
        "colab_type": "code",
        "outputId": "611af88b-c53d-4d57-8877-e3162a4ae0f9",
        "colab": {
          "base_uri": "https://localhost:8080/",
          "height": 52
        }
      },
      "cell_type": "code",
      "source": [
        "!unzip glove.42B.300d.zip\n",
        "!rm glove.42B.300d.zip"
      ],
      "execution_count": 2,
      "outputs": [
        {
          "output_type": "stream",
          "text": [
            "Archive:  glove.42B.300d.zip\n",
            "  inflating: glove.42B.300d.txt      \n"
          ],
          "name": "stdout"
        }
      ]
    },
    {
      "metadata": {
        "ExecuteTime": {
          "end_time": "2019-03-29T15:04:47.628009Z",
          "start_time": "2019-03-29T15:01:58.108263Z"
        },
        "id": "G_FFD2bbBzeH",
        "colab_type": "code",
        "outputId": "7f38b44f-b29f-410f-a2bc-da292286c555",
        "colab": {
          "base_uri": "https://localhost:8080/",
          "height": 52
        }
      },
      "cell_type": "code",
      "source": [
        "import numpy as np\n",
        "import pandas as pd\n",
        "from tqdm import tqdm\n",
        "\n",
        "def load_embeddings(filename):\n",
        "    labels = []\n",
        "    rows = []\n",
        "    with open(filename, encoding='utf-8') as infile:\n",
        "        for i, line in tqdm(enumerate(infile)):\n",
        "            items = line.rstrip().split(' ')\n",
        "            if len(items) == 2:\n",
        "                # This is a header row giving the shape of the matrix\n",
        "                continue\n",
        "            labels.append(items[0])\n",
        "            values = np.array([float(x) for x in items[1:]], 'f')\n",
        "            rows.append(values)\n",
        "    \n",
        "    arr = np.vstack(rows)\n",
        "    return pd.DataFrame(arr, index=labels, dtype='f')\n",
        "\n",
        "embeddings = load_embeddings('glove.42B.300d.txt')\n",
        "embeddings.shape"
      ],
      "execution_count": 3,
      "outputs": [
        {
          "output_type": "stream",
          "text": [
            "1917494it [03:34, 8920.24it/s]\n"
          ],
          "name": "stderr"
        },
        {
          "output_type": "execute_result",
          "data": {
            "text/plain": [
              "(1917494, 300)"
            ]
          },
          "metadata": {
            "tags": []
          },
          "execution_count": 3
        }
      ]
    },
    {
      "metadata": {
        "id": "fR6RR0h9BzeJ",
        "colab_type": "text"
      },
      "cell_type": "markdown",
      "source": [
        "## Positive and Negative Words\n",
        "\n",
        "We need some input about which words are positive and which words are negative. There are many sentiment lexicons you could use, but we’re going to go with a very straightforward lexicon from https://www.cs.uic.edu/~liub/FBS/sentiment-analysis.html  \n",
        "\n",
        "There is a copy of these files in the GitHub repository of the course."
      ]
    },
    {
      "metadata": {
        "id": "nOVI_gAAE9OB",
        "colab_type": "code",
        "outputId": "941716d0-2fe0-428a-865f-7d8e2984f565",
        "colab": {
          "base_uri": "https://localhost:8080/",
          "height": 399
        }
      },
      "cell_type": "code",
      "source": [
        "!wget https://raw.githubusercontent.com/DataScienceUB/DeepLearningMaster2019/master/data/positive-words.txt\n",
        "!wget https://raw.githubusercontent.com/DataScienceUB/DeepLearningMaster2019/master/data/negative-words.txt\n"
      ],
      "execution_count": 4,
      "outputs": [
        {
          "output_type": "stream",
          "text": [
            "--2019-04-02 09:28:00--  https://raw.githubusercontent.com/DataScienceUB/DeepLearningMaster2019/master/data/positive-words.txt\n",
            "Resolving raw.githubusercontent.com (raw.githubusercontent.com)... 151.101.0.133, 151.101.64.133, 151.101.128.133, ...\n",
            "Connecting to raw.githubusercontent.com (raw.githubusercontent.com)|151.101.0.133|:443... connected.\n",
            "HTTP request sent, awaiting response... 200 OK\n",
            "Length: 22408 (22K) [text/plain]\n",
            "Saving to: ‘positive-words.txt’\n",
            "\n",
            "\rpositive-words.txt    0%[                    ]       0  --.-KB/s               \rpositive-words.txt  100%[===================>]  21.88K  --.-KB/s    in 0.01s   \n",
            "\n",
            "2019-04-02 09:28:00 (1.71 MB/s) - ‘positive-words.txt’ saved [22408/22408]\n",
            "\n",
            "--2019-04-02 09:28:15--  https://raw.githubusercontent.com/DataScienceUB/DeepLearningMaster2019/master/data/negative-words.txt\n",
            "Resolving raw.githubusercontent.com (raw.githubusercontent.com)... 151.101.0.133, 151.101.64.133, 151.101.128.133, ...\n",
            "Connecting to raw.githubusercontent.com (raw.githubusercontent.com)|151.101.0.133|:443... connected.\n",
            "HTTP request sent, awaiting response... 200 OK\n",
            "Length: 50857 (50K) [text/plain]\n",
            "Saving to: ‘negative-words.txt’\n",
            "\n",
            "negative-words.txt  100%[===================>]  49.67K  --.-KB/s    in 0.03s   \n",
            "\n",
            "2019-04-02 09:28:15 (1.84 MB/s) - ‘negative-words.txt’ saved [50857/50857]\n",
            "\n"
          ],
          "name": "stdout"
        }
      ]
    },
    {
      "metadata": {
        "ExecuteTime": {
          "end_time": "2019-03-29T15:04:56.665741Z",
          "start_time": "2019-03-29T15:04:56.619197Z"
        },
        "id": "u6kfpHJaBzeJ",
        "colab_type": "code",
        "colab": {}
      },
      "cell_type": "code",
      "source": [
        "def load_lexicon(filename):\n",
        "    lexicon = []\n",
        "    with open(filename, encoding='latin-1') as infile:\n",
        "        for line in infile:\n",
        "            line = line.rstrip()\n",
        "            if line and not line.startswith(';'):\n",
        "                lexicon.append(line)\n",
        "    return lexicon\n",
        "\n",
        "pos_words = load_lexicon('positive-words.txt')\n",
        "neg_words = load_lexicon('negative-words.txt')"
      ],
      "execution_count": 0,
      "outputs": []
    },
    {
      "metadata": {
        "id": "ud0fhRxyBzeM",
        "colab_type": "text"
      },
      "cell_type": "markdown",
      "source": [
        "Some of these words are not in the GloVe vocabulary. Those words end up with rows full of NaN to indicate their missing embeddings, so we will use Pandas to clean the dataset."
      ]
    },
    {
      "metadata": {
        "ExecuteTime": {
          "end_time": "2019-03-29T15:04:59.940580Z",
          "start_time": "2019-03-29T15:04:58.168200Z"
        },
        "id": "mW5w55RiBzeM",
        "colab_type": "code",
        "outputId": "36e44eb5-40e0-47c2-ae58-49b45ffd5685",
        "colab": {
          "base_uri": "https://localhost:8080/",
          "height": 260
        }
      },
      "cell_type": "code",
      "source": [
        "pos_vectors = embeddings.loc[pos_words].dropna()\n",
        "neg_vectors = embeddings.loc[neg_words].dropna()"
      ],
      "execution_count": 6,
      "outputs": [
        {
          "output_type": "stream",
          "text": [
            "/usr/local/lib/python3.6/dist-packages/ipykernel_launcher.py:1: FutureWarning: \n",
            "Passing list-likes to .loc or [] with any missing label will raise\n",
            "KeyError in the future, you can use .reindex() as an alternative.\n",
            "\n",
            "See the documentation here:\n",
            "http://pandas.pydata.org/pandas-docs/stable/indexing.html#deprecate-loc-reindex-listlike\n",
            "  \"\"\"Entry point for launching an IPython kernel.\n",
            "/usr/local/lib/python3.6/dist-packages/ipykernel_launcher.py:2: FutureWarning: \n",
            "Passing list-likes to .loc or [] with any missing label will raise\n",
            "KeyError in the future, you can use .reindex() as an alternative.\n",
            "\n",
            "See the documentation here:\n",
            "http://pandas.pydata.org/pandas-docs/stable/indexing.html#deprecate-loc-reindex-listlike\n",
            "  \n"
          ],
          "name": "stderr"
        }
      ]
    },
    {
      "metadata": {
        "id": "aDd0yYBBBzeO",
        "colab_type": "text"
      },
      "cell_type": "markdown",
      "source": [
        "Now we make arrays of the desired inputs and outputs. The inputs are the embeddings, and the outputs are `1` for positive words and `-1` for negative words. We also make sure to keep track of the words they’re labeled with, so we can interpret the results."
      ]
    },
    {
      "metadata": {
        "ExecuteTime": {
          "end_time": "2019-03-29T15:05:03.485323Z",
          "start_time": "2019-03-29T15:05:03.466320Z"
        },
        "id": "TPjdI-oKBzeP",
        "colab_type": "code",
        "colab": {}
      },
      "cell_type": "code",
      "source": [
        "vectors = pd.concat([pos_vectors, neg_vectors])\n",
        "targets = np.array([1 for entry in pos_vectors.index] + [-1 for entry in neg_vectors.index])\n",
        "labels = list(pos_vectors.index) + list(neg_vectors.index)"
      ],
      "execution_count": 0,
      "outputs": []
    },
    {
      "metadata": {
        "ExecuteTime": {
          "end_time": "2019-03-29T15:05:05.256478Z",
          "start_time": "2019-03-29T15:05:05.210348Z"
        },
        "id": "nBW36XlcBzeR",
        "colab_type": "code",
        "colab": {}
      },
      "cell_type": "code",
      "source": [
        "from sklearn.model_selection import train_test_split\n",
        "\n",
        "train_vectors, test_vectors, train_targets, test_targets, train_labels, test_labels = \\\n",
        "    train_test_split(vectors, targets, labels, test_size=0.1, random_state=0)"
      ],
      "execution_count": 0,
      "outputs": []
    },
    {
      "metadata": {
        "id": "qmOaXxGpBzeU",
        "colab_type": "text"
      },
      "cell_type": "markdown",
      "source": [
        "Now it is time to make your classifier, and train it by running the training vectors through it for 100 iterations. You can use a logistic function as the loss, so that the resulting classifier can output the probability that a word is positive or negative."
      ]
    },
    {
      "metadata": {
        "ExecuteTime": {
          "end_time": "2019-03-29T15:16:50.546163Z",
          "start_time": "2019-03-29T15:16:50.542669Z"
        },
        "id": "LreSnh1RBzeU",
        "colab_type": "code",
        "colab": {
          "base_uri": "https://localhost:8080/",
          "height": 176
        },
        "outputId": "6774d9ba-e529-44b4-c02b-2684b8e12861"
      },
      "cell_type": "code",
      "source": [
        "from sklearn.linear_model import SGDClassifier\n",
        "from sklearn.metrics import accuracy_score\n",
        "\n",
        "model = SGDClassifier(loss='log', random_state=0, n_iter=100)\n",
        "model.fit(train_vectors, train_targets)\n",
        "SGDClassifier(alpha=0.0001, average=False, class_weight=None, epsilon=0.1,\n",
        "       eta0=0.0, fit_intercept=True, l1_ratio=0.15,\n",
        "       learning_rate='optimal', loss='log', n_iter=100, n_jobs=1,\n",
        "       penalty='l2', power_t=0.5, random_state=0, shuffle=True, verbose=0,\n",
        "       warm_start=False)\n"
      ],
      "execution_count": 12,
      "outputs": [
        {
          "output_type": "stream",
          "text": [
            "/usr/local/lib/python3.6/dist-packages/sklearn/linear_model/stochastic_gradient.py:152: DeprecationWarning: n_iter parameter is deprecated in 0.19 and will be removed in 0.21. Use max_iter and tol instead.\n",
            "  DeprecationWarning)\n"
          ],
          "name": "stderr"
        },
        {
          "output_type": "execute_result",
          "data": {
            "text/plain": [
              "SGDClassifier(alpha=0.0001, average=False, class_weight=None,\n",
              "       early_stopping=False, epsilon=0.1, eta0=0.0, fit_intercept=True,\n",
              "       l1_ratio=0.15, learning_rate='optimal', loss='log', max_iter=None,\n",
              "       n_iter=100, n_iter_no_change=5, n_jobs=1, penalty='l2', power_t=0.5,\n",
              "       random_state=0, shuffle=True, tol=None, validation_fraction=0.1,\n",
              "       verbose=0, warm_start=False)"
            ]
          },
          "metadata": {
            "tags": []
          },
          "execution_count": 12
        }
      ]
    },
    {
      "metadata": {
        "id": "4UlxWk8NBzeX",
        "colab_type": "text"
      },
      "cell_type": "markdown",
      "source": [
        "We can evaluate the classifier on the test vectors. \n"
      ]
    },
    {
      "metadata": {
        "ExecuteTime": {
          "end_time": "2019-03-29T15:16:54.627721Z",
          "start_time": "2019-03-29T15:16:54.625191Z"
        },
        "id": "gh0kOsUdBzeX",
        "colab_type": "code",
        "colab": {
          "base_uri": "https://localhost:8080/",
          "height": 35
        },
        "outputId": "ad472c45-7051-45a0-aa82-99b90b7b7332"
      },
      "cell_type": "code",
      "source": [
        "accuracy_score(model.predict(test_vectors), test_targets)"
      ],
      "execution_count": 13,
      "outputs": [
        {
          "output_type": "execute_result",
          "data": {
            "text/plain": [
              "0.9502262443438914"
            ]
          },
          "metadata": {
            "tags": []
          },
          "execution_count": 13
        }
      ]
    },
    {
      "metadata": {
        "id": "983emjCeBzeZ",
        "colab_type": "text"
      },
      "cell_type": "markdown",
      "source": [
        "Let’s define a function that we can use to see the sentiment that this classifier predicts for particular words, then use it to see some examples of its predictions on the test data."
      ]
    },
    {
      "metadata": {
        "ExecuteTime": {
          "end_time": "2019-03-29T15:06:07.705034Z",
          "start_time": "2019-03-29T15:06:07.670604Z"
        },
        "id": "QAtTmjPkBzea",
        "colab_type": "code",
        "outputId": "b72efa4a-e10c-4717-e76a-5cebf599a07e",
        "colab": {
          "base_uri": "https://localhost:8080/",
          "height": 783
        }
      },
      "cell_type": "code",
      "source": [
        "def vecs_to_sentiment(vecs):\n",
        "    # predict_log_proba gives the log probability for each class\n",
        "    predictions = model.predict_log_proba(vecs)\n",
        "\n",
        "    # To see an overall positive vs. negative classification in one number,\n",
        "    # we take the log probability of positive sentiment minus the log\n",
        "    # probability of negative sentiment.\n",
        "    return predictions[:, 1] - predictions[:, 0]\n",
        "\n",
        "\n",
        "def words_to_sentiment(words):\n",
        "    vecs = embeddings.loc[words].dropna()\n",
        "    log_odds = vecs_to_sentiment(vecs)\n",
        "    return pd.DataFrame({'sentiment': log_odds}, index=vecs.index)\n",
        "\n",
        "\n",
        "# Show 20 examples from the test set\n",
        "words_to_sentiment(test_labels).ix[:20]"
      ],
      "execution_count": 14,
      "outputs": [
        {
          "output_type": "stream",
          "text": [
            "/usr/local/lib/python3.6/dist-packages/ipykernel_launcher.py:18: DeprecationWarning: \n",
            ".ix is deprecated. Please use\n",
            ".loc for label based indexing or\n",
            ".iloc for positional indexing\n",
            "\n",
            "See the documentation here:\n",
            "http://pandas.pydata.org/pandas-docs/stable/indexing.html#ix-indexer-is-deprecated\n"
          ],
          "name": "stderr"
        },
        {
          "output_type": "execute_result",
          "data": {
            "text/html": [
              "<div>\n",
              "<style scoped>\n",
              "    .dataframe tbody tr th:only-of-type {\n",
              "        vertical-align: middle;\n",
              "    }\n",
              "\n",
              "    .dataframe tbody tr th {\n",
              "        vertical-align: top;\n",
              "    }\n",
              "\n",
              "    .dataframe thead th {\n",
              "        text-align: right;\n",
              "    }\n",
              "</style>\n",
              "<table border=\"1\" class=\"dataframe\">\n",
              "  <thead>\n",
              "    <tr style=\"text-align: right;\">\n",
              "      <th></th>\n",
              "      <th>sentiment</th>\n",
              "    </tr>\n",
              "  </thead>\n",
              "  <tbody>\n",
              "    <tr>\n",
              "      <th>fidget</th>\n",
              "      <td>-9.931679</td>\n",
              "    </tr>\n",
              "    <tr>\n",
              "      <th>interrupt</th>\n",
              "      <td>-9.634706</td>\n",
              "    </tr>\n",
              "    <tr>\n",
              "      <th>staunchly</th>\n",
              "      <td>1.466919</td>\n",
              "    </tr>\n",
              "    <tr>\n",
              "      <th>imaginary</th>\n",
              "      <td>-2.989215</td>\n",
              "    </tr>\n",
              "    <tr>\n",
              "      <th>taxing</th>\n",
              "      <td>0.468522</td>\n",
              "    </tr>\n",
              "    <tr>\n",
              "      <th>world-famous</th>\n",
              "      <td>6.908561</td>\n",
              "    </tr>\n",
              "    <tr>\n",
              "      <th>low-cost</th>\n",
              "      <td>9.237223</td>\n",
              "    </tr>\n",
              "    <tr>\n",
              "      <th>disapointment</th>\n",
              "      <td>-8.737182</td>\n",
              "    </tr>\n",
              "    <tr>\n",
              "      <th>totalitarian</th>\n",
              "      <td>-10.851580</td>\n",
              "    </tr>\n",
              "    <tr>\n",
              "      <th>bellicose</th>\n",
              "      <td>-8.328674</td>\n",
              "    </tr>\n",
              "    <tr>\n",
              "      <th>freezes</th>\n",
              "      <td>-8.456981</td>\n",
              "    </tr>\n",
              "    <tr>\n",
              "      <th>sin</th>\n",
              "      <td>-7.839670</td>\n",
              "    </tr>\n",
              "    <tr>\n",
              "      <th>fragile</th>\n",
              "      <td>-4.018289</td>\n",
              "    </tr>\n",
              "    <tr>\n",
              "      <th>fooled</th>\n",
              "      <td>-4.309344</td>\n",
              "    </tr>\n",
              "    <tr>\n",
              "      <th>undecided</th>\n",
              "      <td>-2.816172</td>\n",
              "    </tr>\n",
              "    <tr>\n",
              "      <th>handily</th>\n",
              "      <td>2.339609</td>\n",
              "    </tr>\n",
              "    <tr>\n",
              "      <th>demonizes</th>\n",
              "      <td>-2.102152</td>\n",
              "    </tr>\n",
              "    <tr>\n",
              "      <th>easygoing</th>\n",
              "      <td>8.747150</td>\n",
              "    </tr>\n",
              "    <tr>\n",
              "      <th>unpopular</th>\n",
              "      <td>-7.887475</td>\n",
              "    </tr>\n",
              "    <tr>\n",
              "      <th>commiserate</th>\n",
              "      <td>1.790899</td>\n",
              "    </tr>\n",
              "  </tbody>\n",
              "</table>\n",
              "</div>"
            ],
            "text/plain": [
              "               sentiment\n",
              "fidget         -9.931679\n",
              "interrupt      -9.634706\n",
              "staunchly       1.466919\n",
              "imaginary      -2.989215\n",
              "taxing          0.468522\n",
              "world-famous    6.908561\n",
              "low-cost        9.237223\n",
              "disapointment  -8.737182\n",
              "totalitarian  -10.851580\n",
              "bellicose      -8.328674\n",
              "freezes        -8.456981\n",
              "sin            -7.839670\n",
              "fragile        -4.018289\n",
              "fooled         -4.309344\n",
              "undecided      -2.816172\n",
              "handily         2.339609\n",
              "demonizes      -2.102152\n",
              "easygoing       8.747150\n",
              "unpopular      -7.887475\n",
              "commiserate     1.790899"
            ]
          },
          "metadata": {
            "tags": []
          },
          "execution_count": 14
        }
      ]
    },
    {
      "metadata": {
        "id": "D7CPVesRBzed",
        "colab_type": "text"
      },
      "cell_type": "markdown",
      "source": [
        "## Sentiment score for text\n",
        "\n",
        "There are many ways to combine sentiments for word vectors into an overall sentiment score. The simplest way is to average them."
      ]
    },
    {
      "metadata": {
        "ExecuteTime": {
          "end_time": "2019-03-29T15:07:29.746290Z",
          "start_time": "2019-03-29T15:07:29.740768Z"
        },
        "id": "-XJpCFwjBzee",
        "colab_type": "code",
        "colab": {}
      },
      "cell_type": "code",
      "source": [
        "import re\n",
        "TOKEN_RE = re.compile(r\"\\w.*?\\b\")\n",
        "# The regex above finds tokens that start with a word-like character (\\w), and continues\n",
        "# matching characters (.+?) until the next word break (\\b). It's a relatively simple\n",
        "# expression that manages to extract something very much like words from text.\n",
        "\n",
        "\n",
        "def text_to_sentiment(text):\n",
        "    tokens = [token.casefold() for token in TOKEN_RE.findall(text)]\n",
        "    sentiments = words_to_sentiment(tokens)\n",
        "    return sentiments['sentiment'].mean()"
      ],
      "execution_count": 0,
      "outputs": []
    },
    {
      "metadata": {
        "ExecuteTime": {
          "end_time": "2019-03-29T15:07:40.366537Z",
          "start_time": "2019-03-29T15:07:40.351478Z"
        },
        "id": "f_qHy19xBzeg",
        "colab_type": "code",
        "outputId": "54934e84-7980-4e8c-9332-6f8d063e0db7",
        "colab": {
          "base_uri": "https://localhost:8080/",
          "height": 35
        }
      },
      "cell_type": "code",
      "source": [
        "text_to_sentiment(\"this example is pretty cool\")"
      ],
      "execution_count": 16,
      "outputs": [
        {
          "output_type": "execute_result",
          "data": {
            "text/plain": [
              "3.889968926086298"
            ]
          },
          "metadata": {
            "tags": []
          },
          "execution_count": 16
        }
      ]
    },
    {
      "metadata": {
        "ExecuteTime": {
          "end_time": "2019-03-29T15:07:48.548136Z",
          "start_time": "2019-03-29T15:07:48.540902Z"
        },
        "id": "1eJusL1qBzek",
        "colab_type": "code",
        "outputId": "06097bfd-c4d7-4a1c-d2cf-8f0d6af4fb10",
        "colab": {
          "base_uri": "https://localhost:8080/",
          "height": 35
        }
      },
      "cell_type": "code",
      "source": [
        "text_to_sentiment(\"meh, this example sucks\")"
      ],
      "execution_count": 17,
      "outputs": [
        {
          "output_type": "execute_result",
          "data": {
            "text/plain": [
              "-1.1774475917460698"
            ]
          },
          "metadata": {
            "tags": []
          },
          "execution_count": 17
        }
      ]
    },
    {
      "metadata": {
        "id": "vVSJqoSBBzep",
        "colab_type": "text"
      },
      "cell_type": "markdown",
      "source": [
        "Let’s see what it does with a few variations on a neutral sentence:"
      ]
    },
    {
      "metadata": {
        "ExecuteTime": {
          "end_time": "2019-03-29T15:08:39.114595Z",
          "start_time": "2019-03-29T15:08:39.099228Z"
        },
        "id": "E-oqx5yFBzeq",
        "colab_type": "code",
        "outputId": "ed354604-7397-42ad-c55d-0edc9db43247",
        "colab": {
          "base_uri": "https://localhost:8080/",
          "height": 69
        }
      },
      "cell_type": "code",
      "source": [
        "print(text_to_sentiment(\"Let's go get Italian food\"))\n",
        "print(text_to_sentiment(\"Let's go get Chinese food\"))\n",
        "print(text_to_sentiment(\"Let's go get Mexican food\"))"
      ],
      "execution_count": 18,
      "outputs": [
        {
          "output_type": "stream",
          "text": [
            "2.0429166109408983\n",
            "1.4094033658140972\n",
            "0.3880198556012173\n"
          ],
          "name": "stdout"
        }
      ]
    },
    {
      "metadata": {
        "ExecuteTime": {
          "end_time": "2019-03-29T15:09:13.624994Z",
          "start_time": "2019-03-29T15:09:13.604583Z"
        },
        "id": "ojy7OzeyBzet",
        "colab_type": "code",
        "outputId": "1529467a-56ec-4fe7-c59a-2a89cbba9e10",
        "colab": {
          "base_uri": "https://localhost:8080/",
          "height": 87
        }
      },
      "cell_type": "code",
      "source": [
        "print(text_to_sentiment(\"My name is Emily\"))\n",
        "print(text_to_sentiment(\"My name is Heather\"))\n",
        "print(text_to_sentiment(\"My name is Yvette\"))\n",
        "print(text_to_sentiment(\"My name is Shaniqua\"))\n"
      ],
      "execution_count": 19,
      "outputs": [
        {
          "output_type": "stream",
          "text": [
            "2.228617936474531\n",
            "1.3976291151079159\n",
            "0.9846380213298556\n",
            "-0.47048131775890656\n"
          ],
          "name": "stdout"
        }
      ]
    },
    {
      "metadata": {
        "id": "lMh897d-Bzew",
        "colab_type": "text"
      },
      "cell_type": "markdown",
      "source": [
        "The system has associated wildly different sentiments with people’s names. You can look at these examples and many others and see that the sentiment is generally more positive for stereotypically-white names, and more negative for stereotypically-black names."
      ]
    },
    {
      "metadata": {
        "id": "SJLdr7ROBzew",
        "colab_type": "text"
      },
      "cell_type": "markdown",
      "source": [
        "## Ethical problem\n",
        "\n",
        "We want to learn how to not make something like this again. So let’s put more data through it, and statistically measure how bad its bias is.\n",
        "\n",
        "Here we have four lists of names that tend to reflect different ethnic backgrounds, mostly from a United States perspective. The first two are lists of predominantly “white” and “black” names adapted from Caliskan et al.’s article. I also added typically Hispanic names, as well as Muslim names that come from Arabic or Urdu; these are two more distinct groupings of given names that tend to represent your background."
      ]
    },
    {
      "metadata": {
        "ExecuteTime": {
          "end_time": "2019-03-29T15:10:18.816997Z",
          "start_time": "2019-03-29T15:10:18.787085Z"
        },
        "id": "eSAQ22POBzex",
        "colab_type": "code",
        "colab": {}
      },
      "cell_type": "code",
      "source": [
        "NAMES_BY_ETHNICITY = {\n",
        "    # The first two lists are from the Caliskan et al. appendix describing the\n",
        "    # Word Embedding Association Test.\n",
        "    'White': [\n",
        "        'Adam', 'Chip', 'Harry', 'Josh', 'Roger', 'Alan', 'Frank', 'Ian', 'Justin',\n",
        "        'Ryan', 'Andrew', 'Fred', 'Jack', 'Matthew', 'Stephen', 'Brad', 'Greg', 'Jed',\n",
        "        'Paul', 'Todd', 'Brandon', 'Hank', 'Jonathan', 'Peter', 'Wilbur', 'Amanda',\n",
        "        'Courtney', 'Heather', 'Melanie', 'Sara', 'Amber', 'Crystal', 'Katie',\n",
        "        'Meredith', 'Shannon', 'Betsy', 'Donna', 'Kristin', 'Nancy', 'Stephanie',\n",
        "        'Bobbie-Sue', 'Ellen', 'Lauren', 'Peggy', 'Sue-Ellen', 'Colleen', 'Emily',\n",
        "        'Megan', 'Rachel', 'Wendy'\n",
        "    ],\n",
        "\n",
        "    'Black': [\n",
        "        'Alonzo', 'Jamel', 'Lerone', 'Percell', 'Theo', 'Alphonse', 'Jerome',\n",
        "        'Leroy', 'Rasaan', 'Torrance', 'Darnell', 'Lamar', 'Lionel', 'Rashaun',\n",
        "        'Tyree', 'Deion', 'Lamont', 'Malik', 'Terrence', 'Tyrone', 'Everol',\n",
        "        'Lavon', 'Marcellus', 'Terryl', 'Wardell', 'Aiesha', 'Lashelle', 'Nichelle',\n",
        "        'Shereen', 'Temeka', 'Ebony', 'Latisha', 'Shaniqua', 'Tameisha', 'Teretha',\n",
        "        'Jasmine', 'Latonya', 'Shanise', 'Tanisha', 'Tia', 'Lakisha', 'Latoya',\n",
        "        'Sharise', 'Tashika', 'Yolanda', 'Lashandra', 'Malika', 'Shavonn',\n",
        "        'Tawanda', 'Yvette'\n",
        "    ],\n",
        "    \n",
        "    # This list comes from statistics about common Hispanic-origin names in the US.\n",
        "    'Hispanic': [\n",
        "        'Juan', 'José', 'Miguel', 'Luís', 'Jorge', 'Santiago', 'Matías', 'Sebastián',\n",
        "        'Mateo', 'Nicolás', 'Alejandro', 'Samuel', 'Diego', 'Daniel', 'Tomás',\n",
        "        'Juana', 'Ana', 'Luisa', 'María', 'Elena', 'Sofía', 'Isabella', 'Valentina',\n",
        "        'Camila', 'Valeria', 'Ximena', 'Luciana', 'Mariana', 'Victoria', 'Martina'\n",
        "    ],\n",
        "    \n",
        "    # The following list conflates religion and ethnicity, I'm aware. So do given names.\n",
        "    #\n",
        "    # This list was cobbled together from searching baby-name sites for common Muslim names,\n",
        "    # as spelled in English. I did not ultimately distinguish whether the origin of the name\n",
        "    # is Arabic or Urdu or another language.\n",
        "    #\n",
        "    # I'd be happy to replace it with something more authoritative, given a source.\n",
        "    'Arab/Muslim': [\n",
        "        'Mohammed', 'Omar', 'Ahmed', 'Ali', 'Youssef', 'Abdullah', 'Yasin', 'Hamza',\n",
        "        'Ayaan', 'Syed', 'Rishaan', 'Samar', 'Ahmad', 'Zikri', 'Rayyan', 'Mariam',\n",
        "        'Jana', 'Malak', 'Salma', 'Nour', 'Lian', 'Fatima', 'Ayesha', 'Zahra', 'Sana',\n",
        "        'Zara', 'Alya', 'Shaista', 'Zoya', 'Yasmin'\n",
        "    ]\n",
        "}"
      ],
      "execution_count": 0,
      "outputs": []
    },
    {
      "metadata": {
        "id": "8B5G2exKBze1",
        "colab_type": "text"
      },
      "cell_type": "markdown",
      "source": [
        "Now we’ll use Pandas to make a table of these names, their predominant ethnic background, and the sentiment score we get for them:"
      ]
    },
    {
      "metadata": {
        "ExecuteTime": {
          "end_time": "2019-03-29T15:10:46.744680Z",
          "start_time": "2019-03-29T15:10:46.676412Z"
        },
        "id": "mgePQtf6Bze1",
        "colab_type": "code",
        "outputId": "d07c9804-25ac-46e7-c96b-685847e07524",
        "colab": {
          "base_uri": "https://localhost:8080/",
          "height": 766
        }
      },
      "cell_type": "code",
      "source": [
        "def name_sentiment_table():\n",
        "    frames = []\n",
        "    for group, name_list in sorted(NAMES_BY_ETHNICITY.items()):\n",
        "        lower_names = [name.lower() for name in name_list]\n",
        "        sentiments = words_to_sentiment(lower_names)\n",
        "        sentiments['group'] = group\n",
        "        frames.append(sentiments)\n",
        "\n",
        "    # Put together the data we got from each ethnic group into one big table\n",
        "    return pd.concat(frames)\n",
        "\n",
        "name_sentiments = name_sentiment_table()\n",
        "\n",
        "name_sentiments.ix[::25]"
      ],
      "execution_count": 21,
      "outputs": [
        {
          "output_type": "stream",
          "text": [
            "/usr/local/lib/python3.6/dist-packages/ipykernel_launcher.py:12: FutureWarning: \n",
            "Passing list-likes to .loc or [] with any missing label will raise\n",
            "KeyError in the future, you can use .reindex() as an alternative.\n",
            "\n",
            "See the documentation here:\n",
            "http://pandas.pydata.org/pandas-docs/stable/indexing.html#deprecate-loc-reindex-listlike\n",
            "  if sys.path[0] == '':\n",
            "/usr/local/lib/python3.6/dist-packages/ipykernel_launcher.py:12: FutureWarning: \n",
            "Passing list-likes to .loc or [] with any missing label will raise\n",
            "KeyError in the future, you can use .reindex() as an alternative.\n",
            "\n",
            "See the documentation here:\n",
            "http://pandas.pydata.org/pandas-docs/stable/indexing.html#deprecate-loc-reindex-listlike\n",
            "  if sys.path[0] == '':\n",
            "/usr/local/lib/python3.6/dist-packages/ipykernel_launcher.py:12: FutureWarning: \n",
            "Passing list-likes to .loc or [] with any missing label will raise\n",
            "KeyError in the future, you can use .reindex() as an alternative.\n",
            "\n",
            "See the documentation here:\n",
            "http://pandas.pydata.org/pandas-docs/stable/indexing.html#deprecate-loc-reindex-listlike\n",
            "  if sys.path[0] == '':\n",
            "/usr/local/lib/python3.6/dist-packages/ipykernel_launcher.py:14: DeprecationWarning: \n",
            ".ix is deprecated. Please use\n",
            ".loc for label based indexing or\n",
            ".iloc for positional indexing\n",
            "\n",
            "See the documentation here:\n",
            "http://pandas.pydata.org/pandas-docs/stable/indexing.html#ix-indexer-is-deprecated\n",
            "  \n"
          ],
          "name": "stderr"
        },
        {
          "output_type": "execute_result",
          "data": {
            "text/html": [
              "<div>\n",
              "<style scoped>\n",
              "    .dataframe tbody tr th:only-of-type {\n",
              "        vertical-align: middle;\n",
              "    }\n",
              "\n",
              "    .dataframe tbody tr th {\n",
              "        vertical-align: top;\n",
              "    }\n",
              "\n",
              "    .dataframe thead th {\n",
              "        text-align: right;\n",
              "    }\n",
              "</style>\n",
              "<table border=\"1\" class=\"dataframe\">\n",
              "  <thead>\n",
              "    <tr style=\"text-align: right;\">\n",
              "      <th></th>\n",
              "      <th>sentiment</th>\n",
              "      <th>group</th>\n",
              "    </tr>\n",
              "  </thead>\n",
              "  <tbody>\n",
              "    <tr>\n",
              "      <th>mohammed</th>\n",
              "      <td>0.834974</td>\n",
              "      <td>Arab/Muslim</td>\n",
              "    </tr>\n",
              "    <tr>\n",
              "      <th>alya</th>\n",
              "      <td>3.916803</td>\n",
              "      <td>Arab/Muslim</td>\n",
              "    </tr>\n",
              "    <tr>\n",
              "      <th>terryl</th>\n",
              "      <td>-2.858010</td>\n",
              "      <td>Black</td>\n",
              "    </tr>\n",
              "    <tr>\n",
              "      <th>josé</th>\n",
              "      <td>0.432956</td>\n",
              "      <td>Hispanic</td>\n",
              "    </tr>\n",
              "    <tr>\n",
              "      <th>luciana</th>\n",
              "      <td>1.086073</td>\n",
              "      <td>Hispanic</td>\n",
              "    </tr>\n",
              "    <tr>\n",
              "      <th>hank</th>\n",
              "      <td>0.391858</td>\n",
              "      <td>White</td>\n",
              "    </tr>\n",
              "    <tr>\n",
              "      <th>megan</th>\n",
              "      <td>2.158679</td>\n",
              "      <td>White</td>\n",
              "    </tr>\n",
              "  </tbody>\n",
              "</table>\n",
              "</div>"
            ],
            "text/plain": [
              "          sentiment        group\n",
              "mohammed   0.834974  Arab/Muslim\n",
              "alya       3.916803  Arab/Muslim\n",
              "terryl    -2.858010        Black\n",
              "josé       0.432956     Hispanic\n",
              "luciana    1.086073     Hispanic\n",
              "hank       0.391858        White\n",
              "megan      2.158679        White"
            ]
          },
          "metadata": {
            "tags": []
          },
          "execution_count": 21
        }
      ]
    },
    {
      "metadata": {
        "ExecuteTime": {
          "end_time": "2019-03-29T15:10:59.406581Z",
          "start_time": "2019-03-29T15:10:59.243215Z"
        },
        "id": "UmGNsOjdBze4",
        "colab_type": "code",
        "outputId": "f263b651-8181-4cca-90f9-b938b6015df2",
        "colab": {
          "base_uri": "https://localhost:8080/",
          "height": 383
        }
      },
      "cell_type": "code",
      "source": [
        "import seaborn\n",
        "\n",
        "plot = seaborn.swarmplot(x='group', y='sentiment', data=name_sentiments)\n",
        "plot.set_ylim([-10, 10])"
      ],
      "execution_count": 23,
      "outputs": [
        {
          "output_type": "execute_result",
          "data": {
            "text/plain": [
              "(-10, 10)"
            ]
          },
          "metadata": {
            "tags": []
          },
          "execution_count": 23
        },
        {
          "output_type": "display_data",
          "data": {
            "image/png": "[encoded data removed]",
            "text/plain": [
              "<Figure size 576x396 with 1 Axes>"
            ]
          },
          "metadata": {
            "tags": []
          }
        }
      ]
    },
    {
      "metadata": {
        "ExecuteTime": {
          "end_time": "2019-03-29T15:11:09.382514Z",
          "start_time": "2019-03-29T15:11:09.222382Z"
        },
        "id": "C_C11E9xBze6",
        "colab_type": "code",
        "outputId": "7552e102-646d-4f26-cc89-349965661d2f",
        "colab": {
          "base_uri": "https://localhost:8080/",
          "height": 396
        }
      },
      "cell_type": "code",
      "source": [
        "plot = seaborn.barplot(x='group', y='sentiment', data=name_sentiments, capsize=.1)"
      ],
      "execution_count": 24,
      "outputs": [
        {
          "output_type": "stream",
          "text": [
            "/usr/local/lib/python3.6/dist-packages/seaborn/categorical.py:1428: FutureWarning: remove_na is deprecated and is a private function. Do not use.\n",
            "  stat_data = remove_na(group_data)\n"
          ],
          "name": "stderr"
        },
        {
          "output_type": "display_data",
          "data": {
            "image/png": "[encoded data removed]",
            "text/plain": [
              "<Figure size 576x396 with 1 Axes>"
            ]
          },
          "metadata": {
            "tags": []
          }
        }
      ]
    },
    {
      "metadata": {
        "id": "Kmvb2yKmVXkI",
        "colab_type": "text"
      },
      "cell_type": "markdown",
      "source": [
        "# Exercise\n",
        "\n",
        "We have used only word labels to build a sentiment classifier, but if we have sentence labels we can build a model that uses both, word and sentence information.\n",
        "\n",
        "To this end, you can use the `imdb` dataset (available in Keras): https://github.com/keras-team/keras/blob/master/examples/imdb_lstm.py \n",
        "\n",
        "Yours tasks are:\n",
        "+ Use the sentiment model we have already developed (based on words), to evaluate the `imdb` dataset. What is the accuracy of this classifier?\n",
        "+ Train a LSTM model to classify sentences based on the `imdb` dataset but, insteasd of learning specific embeddings for this problem, use `GloVe`.  What is the accuracy of this classifier?\n",
        "+ Build and train a hybrid model for taking into account word and sentence labels. What is the accuracy of this classifier when applied the `imdb` dataset ?\n",
        "+  Is there any racial bias in this new classifier? (Check this by classifiying neutral sentences that contain people names). "
      ]
    },
    {
      "metadata": {
        "id": "akmMQJ0kaePD",
        "colab_type": "code",
        "colab": {}
      },
      "cell_type": "code",
      "source": [
        "# your code here"
      ],
      "execution_count": 0,
      "outputs": []
    }
  ]
}
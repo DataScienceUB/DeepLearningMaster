{
 "cells": [
  {
   "cell_type": "markdown",
   "metadata": {},
   "source": [
    "# Assignment 3\n",
    "## Neural Style Transfer\n",
    "\n",
    "\n",
    "The seminal work of Gatys et al. demonstrated the power of Convolutional Neural Networks (CNN) in creating artistic imagery by separating and recombining image content and style. This process of using CNN to render a content image in different styles is referred to as Neural Style Transfer (NST). Since then, NST has become a trending topic both in academic literature and industrial applications.\n",
    "\n",
    "The objective of this assigment is to understand NST. To this end, the specific points for this assignment are:\n",
    "\n",
    "+ Read (carefully) this paper: (https://arxiv.org/abs/1705.04058)\n",
    "+ Look at this implementation: https://github.com/makkam012/keras_style_transfer/blob/master/keras_style_transfer.py\n",
    "+ Re-code the previous implementation (in tf or keras) in order to have a clear implementation that can be used for pedagogical purposes. For example, use more data visualization, simplify the code, etc.\n",
    "+ Write a tutorial notebook (include latex formulas, figures, etc.) with your code about NST.\n",
    "\n",
    "*Deliverable*: Notebook.\n",
    "\n",
    "*Submission date*: 1/6/2018.\n",
    "\n",
    "*Scoring criteria*: the most important feature for getting a good scoring of this assignment will be the pedagogical value of your notebook."
   ]
  },
  {
   "cell_type": "code",
   "execution_count": null,
   "metadata": {},
   "outputs": [],
   "source": []
  }
 ],
 "metadata": {
  "kernelspec": {
   "display_name": "Python 3",
   "language": "python",
   "name": "python3"
  },
  "language_info": {
   "codemirror_mode": {
    "name": "ipython",
    "version": 3
   },
   "file_extension": ".py",
   "mimetype": "text/x-python",
   "name": "python",
   "nbconvert_exporter": "python",
   "pygments_lexer": "ipython3",
   "version": "3.5.2"
  }
 },
 "nbformat": 4,
 "nbformat_minor": 1
}
